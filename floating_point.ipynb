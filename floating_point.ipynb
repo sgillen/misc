{
 "cells": [
  {
   "cell_type": "code",
   "execution_count": null,
   "metadata": {},
   "outputs": [],
   "source": [
    "import math\n",
    "import struct\n",
    "\n",
    "def next_up(x):\n",
    "    # NaNs and positive infinity map to themselves.\n",
    "    if math.isnan(x) or (math.isinf(x) and x > 0):\n",
    "        return x\n",
    "\n",
    "    # 0.0 and -0.0 both map to the smallest +ve float.\n",
    "    if x == 0.0:\n",
    "        x = 0.0\n",
    "\n",
    "    n = struct.unpack('<q', struct.pack('<d', x))[0]\n",
    "    if n >= 0:\n",
    "        n += 1\n",
    "    else:\n",
    "        n -= 1\n",
    "    return struct.unpack('<d', struct.pack('<q', n))[0]\n"
   ]
  },
  {
   "cell_type": "code",
   "execution_count": 29,
   "metadata": {},
   "outputs": [
    {
     "name": "stdout",
     "output_type": "stream",
     "text": [
      "1\n",
      "1.0000000000000002\n",
      "1.0000000000000004\n",
      "1.0000000000000007\n",
      "1.0000000000000009\n",
      "1.000000000000001\n",
      "1.0000000000000013\n",
      "1.0000000000000016\n",
      "1.0000000000000018\n",
      "1.000000000000002\n",
      "1.0000000000000022\n",
      "1.0000000000000024\n",
      "1.0000000000000027\n",
      "1.0000000000000029\n",
      "1.000000000000003\n",
      "1.0000000000000033\n",
      "1.0000000000000036\n",
      "1.0000000000000038\n",
      "1.000000000000004\n"
     ]
    }
   ],
   "source": [
    "x = []\n",
    "x.append(1)\n",
    "\n",
    "for i in range(1,20):\n",
    "    print(x[-1])\n",
    "    x.append(next_up(x[-1]))\n",
    "    "
   ]
  },
  {
   "cell_type": "code",
   "execution_count": 32,
   "metadata": {},
   "outputs": [
    {
     "data": {
      "text/plain": [
       "(1, 1.000000000000004)"
      ]
     },
     "execution_count": 32,
     "metadata": {},
     "output_type": "execute_result"
    },
    {
     "data": {
      "image/png": "[encoded data removed]",
      "text/plain": [
       "<matplotlib.figure.Figure at 0x7fda6dcbc320>"
      ]
     },
     "metadata": {},
     "output_type": "display_data"
    }
   ],
   "source": [
    "import matplotlib.pyplot as plt\n",
    "\n",
    "plt.plot(x)\n",
    "\n",
    "plt.ylim((1, 1.000000000000004))\n"
   ]
  },
  {
   "cell_type": "code",
   "execution_count": null,
   "metadata": {},
   "outputs": [],
   "source": []
  }
 ],
 "metadata": {
  "kernelspec": {
   "display_name": "Python 3",
   "language": "python",
   "name": "python3"
  },
  "language_info": {
   "codemirror_mode": {
    "name": "ipython",
    "version": 3
   },
   "file_extension": ".py",
   "mimetype": "text/x-python",
   "name": "python",
   "nbconvert_exporter": "python",
   "pygments_lexer": "ipython3",
   "version": "3.6.5"
  }
 },
 "nbformat": 4,
 "nbformat_minor": 2
}
