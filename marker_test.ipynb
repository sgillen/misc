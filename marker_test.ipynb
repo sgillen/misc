{
 "cells": [
  {
   "cell_type": "code",
   "execution_count": 1,
   "metadata": {},
   "outputs": [
    {
     "name": "stdout",
     "output_type": "stream",
     "text": [
      "something went wrong! video not open\n"
     ]
    },
    {
     "ename": "SystemExit",
     "evalue": "",
     "output_type": "error",
     "traceback": [
      "An exception has occurred, use %tb to see the full traceback.\n",
      "\u001b[0;31mSystemExit\u001b[0m\n"
     ]
    },
    {
     "name": "stderr",
     "output_type": "stream",
     "text": [
      "/Users/sgillen/anaconda3/lib/python3.6/site-packages/IPython/core/interactiveshell.py:2870: UserWarning: To exit: use 'exit', 'quit', or Ctrl-D.\n",
      "  warn(\"To exit: use 'exit', 'quit', or Ctrl-D.\", stacklevel=1)\n"
     ]
    }
   ],
   "source": [
    "import cv2\n",
    "import cv2.aruco        as Aruco\n",
    "#import vision_CONFIG    as cf\n",
    "import numpy as np\n",
    "\n",
    "TEST_ARUCO_MARKER_GENERATION = 1\n",
    "TEST_ARUCO_MARKER_DETECTION = 1\n",
    "\n",
    "cap = cv2.VideoCapture(0)\n",
    "\n",
    "if not cap.isOpened():\n",
    "    print(\"something went wrong! video not open\")\n",
    "    raise SystemExit\n",
    "\n",
    "\n",
    "print(\"looks like the computer see's the camera, displaying image now\")\n",
    "print( \"press q to move on to following tests\")\n",
    "\n",
    "cv2.namedWindow('test')\n",
    "while(True):\n",
    "    re, img = cap.read()\n",
    "    cv2.imshow('test', img)\n",
    "\n",
    "\n",
    "    # Exit if q is pressed\n",
    "    if cv2.waitKey(1) == ord('q'):\n",
    "        break\n",
    "\n",
    "\n",
    "print()\n",
    "print(\"moving on to ARUCO testing\")\n",
    "# load dictionary specified in config\n",
    "aruco_Dict =  Aruco.Dictionary_get(cf.DICTIONARY)\n",
    "\n",
    "if TEST_ARUCO_MARKER_GENERATION:\n",
    "    print()\n",
    "    print(\"lets test aruco generation\")\n",
    "    img1 = Aruco.drawMarker( aruco_Dict, 2, cf.MARKER_SIZE)\n",
    "    img2 = Aruco.drawMarker( aruco_Dict , 3, cf.MARKER_SIZE)\n",
    "    cv2.imwrite(\"markertest1.jpg\",img1)\n",
    "    cv2.imwrite(\"markertest2.jpg\",img2)\n",
    "    #cv2.imshow('fhi1',img1)\n",
    "    cv2.imshow('fhi2',img2)\n",
    "    cv2.moveWindow('fhi2',1300,400)\n",
    "    cv2.waitKey(0)\n",
    "\n",
    "if TEST_ARUCO_MARKER_DETECTION:\n",
    "    print()\n",
    "    print(\"now testing for marker detection\")\n",
    "    print(\"checking for markers of libary ID:\" ,cf.DICTIONARY)\n",
    "\n",
    "    parameters = Aruco.DetectorParameters_create()\n",
    "    image = cv2.imread(\"board_aruco_57.png\")\n",
    "    corners, ids, rejectedImgPoints = Aruco.detectMarkers(image,aruco_Dict, parameters = parameters)\n",
    "    print(corners,ids,rejectedImgPoints)\n",
    "    found = Aruco.drawDetectedMarkers(image,corners,ids)\n",
    "    cv2.imshow('f',found)\n",
    "    reject = Aruco.drawDetectedMarkers(image, rejectedImgPoints, borderColor = (100,100,240))\n",
    "    cv2.imshow('r',reject)\n",
    "    cv2.waitKey(0)\n",
    "    cv2.destroyAllWindows()\n",
    "\n",
    "    video = 1\n",
    "    if video:\n",
    "\n",
    "        re, img = cap.read()\n",
    "        cv2.namedWindow('Raw Video')\n",
    "        cv2.imshow('Raw Video', img)\n",
    "\n",
    "        cv2.namedWindow('Markers')\n",
    "        cv2.imshow('Markers', img)\n",
    "        cv2.moveWindow('Markers', 700, 0)\n",
    "\n",
    "        cv2.namedWindow('Rejects')\n",
    "        cv2.imshow('Rejects', img)\n",
    "        cv2.moveWindow('Rejects', 1300, 0)\n",
    "\n",
    "        while(True):\n",
    "            re, img = cap.read()\n",
    "            gray = cv2.cvtColor(img,cv2.COLOR_BGR2GRAY)\n",
    "            corners, ids, rejectedImgPoints = Aruco.detectMarkers(gray, aruco_Dict, parameters = parameters)\n",
    "            print(corners,ids,rejectedImgPoints)\n",
    "            img2 = np.copy(img)\n",
    "            cv2.imshow('Raw Video',img)\n",
    "            found = Aruco.drawDetectedMarkers(img,corners,ids)\n",
    "            cv2.imshow('Markers',found)\n",
    "            reject = Aruco.drawDetectedMarkers(img2,rejectedImgPoints,borderColor = (100,100,240))\n",
    "            cv2.imshow('Rejects',reject)\n",
    "\n",
    "            if cv2.waitKey(1) == ord('q'):\n",
    "                break"
   ]
  },
  {
   "cell_type": "code",
   "execution_count": 14,
   "metadata": {},
   "outputs": [
    {
     "name": "stdout",
     "output_type": "stream",
     "text": [
      "False\n"
     ]
    }
   ],
   "source": [
    "import cv2\n",
    "\n",
    "cap = cv2.VideoCapture()\n",
    "cap.open(0)\n",
    "print(cap.isOpened())"
   ]
  },
  {
   "cell_type": "code",
   "execution_count": 16,
   "metadata": {},
   "outputs": [
    {
     "name": "stdout",
     "output_type": "stream",
     "text": [
      "4.0.0\n"
     ]
    }
   ],
   "source": [
    "print(cv2.__version__)"
   ]
  },
  {
   "cell_type": "code",
   "execution_count": null,
   "metadata": {},
   "outputs": [],
   "source": []
  }
 ],
 "metadata": {
  "kernelspec": {
   "display_name": "Python 3",
   "language": "python",
   "name": "python3"
  },
  "language_info": {
   "codemirror_mode": {
    "name": "ipython",
    "version": 3
   },
   "file_extension": ".py",
   "mimetype": "text/x-python",
   "name": "python",
   "nbconvert_exporter": "python",
   "pygments_lexer": "ipython3",
   "version": "3.6.7"
  }
 },
 "nbformat": 4,
 "nbformat_minor": 2
}
