{
 "cells": [
  {
   "cell_type": "code",
   "execution_count": 28,
   "metadata": {},
   "outputs": [],
   "source": [
    "\n",
    "class Solution(object):\n",
    "    def addTwoNumbers(self, l1, l2):\n",
    "        \"\"\"\n",
    "        :type l1: ListNode\n",
    "        :type l2: ListNode\n",
    "        :rtype: ListNode\n",
    "        \"\"\"\n",
    "        lret = ListNode(0) #the one we return\n",
    "        lcur = lret\n",
    "        remainder = 0\n",
    "        \n",
    "        while True:\n",
    "            import pdb;  pdb.set_trace()\n",
    "            lcur.val = l1.val + l2.val + remainder\n",
    "            (num_divide,remainder) = divmod(lcur.val,10)\n",
    "            lcur.val -= remainder*(num_divide + 1)\n",
    "            \n",
    "            if l1.next is None:\n",
    "                break\n",
    "                \n",
    "            l1 = l1.next\n",
    "            l2 = l2.next\n",
    "            lcur.next = ListNode(0)\n",
    "            lcur = lcur.next\n",
    "        \n",
    "        return lret\n",
    "            \n",
    "        "
   ]
  },
  {
   "cell_type": "code",
   "execution_count": 29,
   "metadata": {},
   "outputs": [
    {
     "name": "stdout",
     "output_type": "stream",
     "text": [
      "(0, 9)\n",
      "Help on built-in function divmod in module builtins:\n",
      "\n",
      "divmod(x, y, /)\n",
      "    Return the tuple (x//y, x%y).  Invariant: div*y + mod == x.\n",
      "\n"
     ]
    }
   ],
   "source": [
    "print(divmod(9,10))\n",
    "help(divmod)"
   ]
  },
  {
   "cell_type": "code",
   "execution_count": null,
   "metadata": {},
   "outputs": [],
   "source": [
    "\n",
    "\n",
    "\n",
    "sol.addTwoNumberS()"
   ]
  }
 ],
 "metadata": {
  "kernelspec": {
   "display_name": "Python 3",
   "language": "python",
   "name": "python3"
  },
  "language_info": {
   "codemirror_mode": {
    "name": "ipython",
    "version": 3
   },
   "file_extension": ".py",
   "mimetype": "text/x-python",
   "name": "python",
   "nbconvert_exporter": "python",
   "pygments_lexer": "ipython3",
   "version": "3.6.5"
  }
 },
 "nbformat": 4,
 "nbformat_minor": 2
}
