{
 "cells": [
  {
   "cell_type": "code",
   "execution_count": 2,
   "metadata": {},
   "outputs": [],
   "source": [
    "class BiTree:\n",
    "    def __init__(self):\n",
    "        pass\n",
    "    \n",
    "    def insert(self):\n",
    "        \"\"\" \n",
    "        Is this to be a search tree or what?\n",
    "        \"\"\"\n",
    "        pass\n",
    "    \n",
    "    def remove(self):\n",
    "        pass\n",
    "    \n",
    "    def lookup(self):\n",
    "        pass\n",
    "    \n",
    "    class _Node:\n",
    "        def __init__(self):\n",
    "            "
   ]
  },
  {
   "cell_type": "code",
   "execution_count": null,
   "metadata": {},
   "outputs": [],
   "source": [
    "class QuadTree:\n",
    "    def __init__():\n",
    "        pass\n",
    "    def insert():\n",
    "        pass\n",
    "    def remove():\n",
    "        pass\n",
    "    def lookup():\n",
    "        pass"
   ]
  }
 ],
 "metadata": {
  "kernelspec": {
   "display_name": "Python [default]",
   "language": "python",
   "name": "python3"
  },
  "language_info": {
   "codemirror_mode": {
    "name": "ipython",
    "version": 3
   },
   "file_extension": ".py",
   "mimetype": "text/x-python",
   "name": "python",
   "nbconvert_exporter": "python",
   "pygments_lexer": "ipython3",
   "version": "3.6.3"
  }
 },
 "nbformat": 4,
 "nbformat_minor": 2
}
