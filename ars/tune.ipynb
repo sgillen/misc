{
 "cells": [
  {
   "cell_type": "code",
   "execution_count": null,
   "metadata": {},
   "outputs": [],
   "source": [
    "import ray\n",
    "from ray import tune\n",
    "import ray.rllib.agents.ppo as ppo\n",
    "from ray.rllib.agents.ppo.appo import DEFAULT_CONFIG\n",
    "from seagul.envs.mujoco.five_link import FiveLinkWalkerEnv\n",
    "from pybullet_envs.gym_locomotion_envs import Walker2DBulletEnv\n",
    "from ray.tune.registry import register_env\n",
    "import pybullet_envs\n",
    "\n",
    "def five_link_creator(env_config):\n",
    "    return FiveLinkWalkerEnv()  # return an env instance\n",
    "\n",
    "\n",
    "def bullet_walker_creator(env_config):\n",
    "    return Walker2DBulletEnv()  # return an env instance\n",
    "\n",
    "register_env(\"five_link-v3\", five_link_creator)\n",
    "register_env(\"Walker2DBulletEnv-v0\", bullet_walker_creator)"
   ]
  },
  {
   "cell_type": "code",
   "execution_count": null,
   "metadata": {},
   "outputs": [],
   "source": [
    "config = ppo.DEFAULT_CONFIG.copy()\n",
    "config[\"num_gpus\"] = 1\n",
    "config[\"num_workers\"] = 15\n",
    "config[\"eager\"] = False\n",
    "config[\"model\"][\"fcnet_hiddens\"] = [64,64]\n",
    "config[\"lr\"] = 5e-5\n",
    "#config[\"env\"] = \"five_link-v3\"\n",
    "config[\"env\"] = \"Walker2DBulletEnv-v0\"\n",
    "\n",
    "config[\"kl_coeff\"] = 1.0\n",
    "config[\"num_sgd_iter\"] = 20\n",
    "config[\"lr\"] = .0001\n",
    "config[\"num_workers\"] = 15\n",
    "config[\"num_gpus\"] = 0\n",
    "config[\"batch_mode\"] =  \"complete_episodes\"\n",
    "config[\"observation_filter\"] =  \"MeanStdFilter\"\n",
    "\n",
    "config[\"sgd_minibatch_size\"] = 2048\n",
    "config[\"train_batch_size\"] = 20480\n",
    "       \n",
    "ray.init()\n",
    "analysis = tune.run(\n",
    "    \"PPO\",\n",
    "    config = config,\n",
    "    stop={\"timesteps_total\": 32e6},\n",
    ")"
   ]
  },
  {
   "cell_type": "code",
   "execution_count": null,
   "metadata": {},
   "outputs": [],
   "source": [
    "config = ppo.DEFAULT_CONFIG.copy()\n",
    "config[\"num_gpus\"] = 1\n",
    "config[\"num_workers\"] = 15\n",
    "config[\"eager\"] = False\n",
    "config[\"model\"][\"fcnet_hiddens\"] = [64,64]\n",
    "config[\"lr\"] = 5e-5\n",
    "#config[\"env\"] = \"five_link-v3\"\n",
    "config[\"env\"] = \"Walker2DBulletEnv-v0\"\n",
    "\n",
    "config[\"kl_coeff\"] = 1.0\n",
    "config[\"num_sgd_iter\"] = 20\n",
    "config[\"lr\"] = .0001\n",
    "config[\"num_workers\"] = 15\n",
    "config[\"num_gpus\"] = 1\n",
    "config[\"batch_mode\"] =  complete_episodes\n",
    "config[\"observation_filter\"] =  MeanStdFilter\n",
    "\n",
    "config[\"sgd_minibatch_size\"] = 10240\n",
    "config[\"train_batch_size\"] = 81920\n",
    "       \n",
    "config['observation_filter'] = 'MeanStdFilter'\n",
    "ray.init()\n",
    "analysis = tune.run(\n",
    "    \"PPO\",\n",
    "    config = config,\n",
    "    stop={\"timesteps_total\": 1e7},\n",
    ")\n",
    "\n",
    "ppo.PPOTrainer.with_updates(default_policy = None)"
   ]
  },
  {
   "cell_type": "code",
   "execution_count": null,
   "metadata": {},
   "outputs": [],
   "source": [
    "import ray\n",
    "from ray import tune\n",
    "import ray.rllib.agents.ars as ars\n",
    "import pybullet_envs\n",
    "\n",
    "\n",
    "config = ars.DEFAULT_CONFIG.copy()\n",
    "config[\"num_gpus\"] = 0\n",
    "config[\"num_workers\"] = 8\n",
    "config[\"eager\"] = False\n",
    "config[\"model\"][\"fcnet_hiddens\"] = []\n",
    "config[\"lr\"] = 5e-5\n",
    "config[\"env\"] = \"five_link-v3\"\n",
    "#config[\"env\"] = \"Walker2d-v3\"\n",
    "#config[\"env\"] = \"Walker2DBulletEnv-v0\"\n",
    "\n",
    "config['seed'] = tune.grid_search([1])\n",
    "\n",
    "ray.init()\n",
    "analysis = tune.run(\n",
    "    \"ARS\",\n",
    "    config = config,\n",
    "    stop={\"timesteps_total\": 10e6},\n",
    ")"
   ]
  },
  {
   "cell_type": "code",
   "execution_count": null,
   "metadata": {},
   "outputs": [],
   "source": [
    "#trainer.load(\"/Users/sgillen/ray_results/ARS_five_link-v3_2019-10-21_14-02-55lwgccrp3/checkpoint_10/checkpoint-10\") \n",
    "#trainer.restore(\"/Users/sgillen/ray_results/ARS_five_link-v3_2019-10-21_14-02-55lwgccrp3/checkpoint_10/checkpoint-10\")\n",
    "ray.shutdown()\n",
    "ray.init()\n",
    "\n",
    "def five_link_creator(env_config):\n",
    "    return FiveLinkWalkerEnv()  # return an env instance\n",
    "\n",
    "\n",
    "def bullet_walker_creator(env_config):\n",
    "    return Walker2DBulletEnv()  # return an env instance\n",
    "\n",
    "register_env(\"five_link-v3\", five_link_creator)\n",
    "register_env(\"Walker2DBulletEnv-v0\", bullet_walker_creator)\n",
    "\n",
    "env_name = \"Walker2DBulletEnv-v0\"\n",
    "\n",
    "import json\n",
    "expr_data = json.load(open('/home/sgillen/work/seagul/seagul/notebooks/ars/data/sanity2/PPO/experiment_state-2019-11-10_17-22-28.json'))\n",
    "expr_data['checkpoints'][-1]['config']\n",
    "\n",
    "trainer = ppo.PPOTrainer(config, env_name)\n",
    "\n",
    "trainer.restore(\"/home/sgillen/work/seagul/seagul/notebooks/ars/data/sanity2/PPO/PPO_Walker2DBulletEnv-v0_0_2019-11-10_17-23-49afy9mht0/checkpoint_2/checkpoint-2\")"
   ]
  },
  {
   "cell_type": "code",
   "execution_count": null,
   "metadata": {},
   "outputs": [],
   "source": [
    "import gym\n",
    "import numpy as np\n",
    "import matplotlib.pyplot as plt\n",
    "\n",
    "%matplotlib inline\n",
    "\n",
    "env = gym.make(env_name)\n",
    "obs = env.reset()\n",
    "\n",
    "action_hist = []\n",
    "state_hist  = []\n",
    "reward_hist = []\n",
    "\n",
    "done = False\n",
    "while not done:\n",
    "    actions = trainer.compute_action(obs.flatten())\n",
    "    obs, reward, done, _ = env.step(np.asarray(actions))\n",
    "    action_hist.append(np.copy(np.clip(actions, -10, 10)))\n",
    "    state_hist.append(np.copy(obs))\n",
    "    reward_hist.append(np.copy(reward))\n",
    "    if done:\n",
    "        break\n",
    "\n",
    "\n",
    "print(sum(reward_hist))\n",
    "plt.plot(action_hist)\n",
    "plt.figure()\n",
    "plt.plot(state_hist)"
   ]
  },
  {
   "cell_type": "code",
   "execution_count": 15,
   "metadata": {},
   "outputs": [],
   "source": [
    "import pandas as pd\n",
    "import matplotlib.pyplot as plt\n",
    "\n",
    "d = pd.read_csv('/home/sgillen/ray_results/PPO/PPO_Walker2DBulletEnv-v0_0_2019-11-12_10-37-01c7nvmx7p/progress.csv')"
   ]
  },
  {
   "cell_type": "code",
   "execution_count": 16,
   "metadata": {},
   "outputs": [
    {
     "data": {
      "text/plain": [
       "[<matplotlib.lines.Line2D at 0x7f742e3896a0>]"
      ]
     },
     "execution_count": 16,
     "metadata": {},
     "output_type": "execute_result"
    },
    {
     "data": {
      "image/png": "[encoded data removed]",
      "text/plain": [
       "<Figure size 432x288 with 1 Axes>"
      ]
     },
     "metadata": {
      "needs_background": "light"
     },
     "output_type": "display_data"
    }
   ],
   "source": [
    "plt.plot(d['episode_reward_mean'])"
   ]
  },
  {
   "cell_type": "code",
   "execution_count": null,
   "metadata": {},
   "outputs": [],
   "source": []
  }
 ],
 "metadata": {
  "kernelspec": {
   "display_name": "Symmetric RL (3.6)",
   "language": "python",
   "name": "sym"
  },
  "language_info": {
   "codemirror_mode": {
    "name": "ipython",
    "version": 3
   },
   "file_extension": ".py",
   "mimetype": "text/x-python",
   "name": "python",
   "nbconvert_exporter": "python",
   "pygments_lexer": "ipython3",
   "version": "3.6.9"
  }
 },
 "nbformat": 4,
 "nbformat_minor": 4
}
