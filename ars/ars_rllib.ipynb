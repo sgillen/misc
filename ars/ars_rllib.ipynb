{
 "cells": [
  {
   "cell_type": "code",
   "execution_count": null,
   "metadata": {},
   "outputs": [],
   "source": [
    "import seagul.envs\n",
    "import ray\n",
    "import ray.rllib.agents.ars as ars\n",
    "from ray.tune.logger import pretty_print\n",
    "import tensorflow as tf\n",
    "import time\n",
    "from tqdm import trange\n",
    "from ray import tune\n",
    "\n",
    "from ray.tune.registry import register_env\n",
    "from seagul.envs.mujoco.five_link import FiveLinkWalkerEnv\n",
    "\n",
    "#env_name = \"Walker2d-v3\"\n",
    "env_name = \"five_link-v3\"\n",
    "###\n",
    "def env_creator(env_config):\n",
    "    return FiveLinkWalkerEnv()  # return an env instance\n",
    "\n",
    "register_env(\"five_link-v3\", env_creator)\n",
    "###\n",
    "\n",
    "ray.init()\n",
    "config = ars.DEFAULT_CONFIG.copy()\n",
    "config[\"num_gpus\"] = 0\n",
    "config[\"num_workers\"] = 8\n",
    "config[\"eager\"] = False\n",
    "config[\"model\"][\"fcnet_hiddens\"] = []\n",
    "\n",
    "trainer = ars.ARSTrainer(config=config, env=env_name)\n",
    "# Can optionally call trainer.restore(path) to load a checkpoint.\n",
    "for i in trange(500):\n",
    "   # Perform one iteration of training the policy with ARS\n",
    "    result = trainer.train()\n",
    "\n",
    "\n",
    "    \n",
    "checkpoint = trainer.save()\n",
    "print(\"checkpoint saved at\", checkpoint)\n",
    "print(pretty_print(result))\n",
    "ray.shutdown()"
   ]
  },
  {
   "cell_type": "code",
   "execution_count": null,
   "metadata": {},
   "outputs": [],
   "source": [
    "import numpy as np\n",
    "trainer.policy.compute(np.random.randn(13))"
   ]
  },
  {
   "cell_type": "code",
   "execution_count": null,
   "metadata": {},
   "outputs": [],
   "source": [
    "import seagul.envs\n",
    "import ray\n",
    "import ray.rllib.agents.ars as ars\n",
    "from ray.tune.logger import pretty_print\n",
    "import tensorflow as tf\n",
    "\n",
    "\n",
    "from ray.tune.registry import register_env\n",
    "from seagul.envs.mujoco.five_link import FiveLinkWalkerEnv\n",
    "\n",
    "def env_creator(env_config):\n",
    "    return FiveLinkWalkerEnv()  # return an env instance\n",
    "\n",
    "register_env(\"five_link-v3\", env_creator)\n",
    "\n",
    "ray.init()\n",
    "config = ars.DEFAULT_CONFIG.copy()\n",
    "config[\"num_gpus\"] = 0\n",
    "config[\"num_workers\"] = 1\n",
    "config[\"eager\"] = False\n",
    "trainer = ars.ARSTrainer(config=config, env=\"five_link-v3\")\n",
    "\n",
    "trainer.load(\"/Users/sgillen/ray_results/ARS_five_link-v3_2019-10-21_14-02-55lwgccrp3/checkpoint_10/checkpoint-10\") \n",
    "trainer.restore(\"/Users/sgillen/ray_results/ARS_five_link-v3_2019-10-21_14-02-55lwgccrp3/checkpoint_10/checkpoint-10\")\n"
   ]
  },
  {
   "cell_type": "code",
   "execution_count": null,
   "metadata": {},
   "outputs": [],
   "source": [
    "import gym\n",
    "import numpy as np\n",
    "import matplotlib.pyplot as plt\n",
    "\n",
    "env = gym.make(env_name)\n",
    "obs = env.reset()\n",
    "\n",
    "action_hist = []\n",
    "state_hist  = []\n",
    "reward_hist = []\n",
    "\n",
    "done = False\n",
    "while not done:\n",
    "    actions = trainer.compute_action(obs.flatten())\n",
    "    obs, reward, done, _ = env.step(np.asarray(actions))\n",
    "    env.render()\n",
    "    action_hist.append(np.copy(actions))\n",
    "    state_hist.append(np.copy(obs))\n",
    "    reward_hist.append(np.copy(reward))\n",
    "    if done:\n",
    "        break\n",
    "\n",
    "\n",
    "print(sum(reward_hist))\n",
    "plt.plot(action_hist)\n",
    "plt.figure()\n",
    "plt.plot(state_hist)"
   ]
  },
  {
   "cell_type": "code",
   "execution_count": null,
   "metadata": {},
   "outputs": [],
   "source": []
  },
  {
   "cell_type": "code",
   "execution_count": null,
   "metadata": {},
   "outputs": [],
   "source": []
  },
  {
   "cell_type": "code",
   "execution_count": null,
   "metadata": {},
   "outputs": [],
   "source": []
  },
  {
   "cell_type": "code",
   "execution_count": null,
   "metadata": {},
   "outputs": [],
   "source": []
  }
 ],
 "metadata": {
  "kernelspec": {
   "display_name": "Symmetric RL (3.6)",
   "language": "python",
   "name": "sym"
  },
  "language_info": {
   "codemirror_mode": {
    "name": "ipython",
    "version": 3
   },
   "file_extension": ".py",
   "mimetype": "text/x-python",
   "name": "python",
   "nbconvert_exporter": "python",
   "pygments_lexer": "ipython3",
   "version": "3.6.9"
  }
 },
 "nbformat": 4,
 "nbformat_minor": 4
}
