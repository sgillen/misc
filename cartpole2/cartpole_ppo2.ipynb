{
 "cells": [
  {
   "cell_type": "markdown",
   "metadata": {},
   "source": [
    "This notebook is going to run the updated baseline algorithms, I don't really like manually inputting everything in the command line, so I was going to have this script make the call. I might wind up forking baselines and rewriting the entry point though. "
   ]
  },
  {
   "cell_type": "code",
   "execution_count": 1,
   "metadata": {},
   "outputs": [
    {
     "data": {
      "text/plain": [
       "'\\nexamples:\\n\\npython -m baselines.run --alg=ppo2 --env=Robosimian-v2 --num_timesteps=0 --load_path=./models/robosimian_full_video --play\\n\\npython -m baselines.run --alg=ppo2 --env=RobosimianIKTable-v2 --num_timesteps=0 --load_path=./models/robosimian_ik_2 --play\\n\\npython -m baselines.run --alg=ppo2 --env=RobosimianIKTable-v2 --num_timesteps=0 --load_path=./models/FS_CS_50_rough_5mil --play\\n\\npython -m baselines.run --alg=ppo2 --env=LeglessRobosimian-v2 --num_timesteps=0 --load_path=./models/robosimian_simple_4 --play\\n\\npython -m baselines.run --alg=ppo2 --env=LeglessRobosimian3Wheels-v2 --num_timesteps=0 --load_path=./models/3_wheels --play\\n\\npython -m baselines.run --alg=ppo2 --env=LeglessRobosimianXYZ-v2 --num_timesteps=1000000 --save_path=./models/simple_xyz_rough --play\\n\\npython -m baselines.run --alg=ppo2 --env=RSBalance-v2 --num_timesteps=100000 --save_path=./models/balance_v0 --play\\n\\npython -m baselines.run --alg=ppo2 --env=RSBalanceWithTraj-v2 --num_timesteps=100000 --save_path=./models/balance_with_traj_v0 --play\\n\\npython -m baselines.run --alg=ppo2 --env=RSBalanceWithTraj-v2 --num_timesteps=0 --load_path=./models/balance_with_traj_v1 --play\\n\\n'"
      ]
     },
     "execution_count": 1,
     "metadata": {},
     "output_type": "execute_result"
    }
   ],
   "source": [
    "import baselines\n",
    "\n",
    "env_name = \"Acrobot-v1\"\n",
    "alg = \"ppo2\"\n",
    "\n",
    "\n",
    "\"\"\"\n",
    "examples:\n",
    "\n",
    "python -m baselines.run --alg=ppo2 --env=Robosimian-v2 --num_timesteps=0 --load_path=./models/robosimian_full_video --play\n",
    "\n",
    "python -m baselines.run --alg=ppo2 --env=RobosimianIKTable-v2 --num_timesteps=0 --load_path=./models/robosimian_ik_2 --play\n",
    "\n",
    "python -m baselines.run --alg=ppo2 --env=RobosimianIKTable-v2 --num_timesteps=0 --load_path=./models/FS_CS_50_rough_5mil --play\n",
    "\n",
    "python -m baselines.run --alg=ppo2 --env=LeglessRobosimian-v2 --num_timesteps=0 --load_path=./models/robosimian_simple_4 --play\n",
    "\n",
    "python -m baselines.run --alg=ppo2 --env=LeglessRobosimian3Wheels-v2 --num_timesteps=0 --load_path=./models/3_wheels --play\n",
    "\n",
    "python -m baselines.run --alg=ppo2 --env=LeglessRobosimianXYZ-v2 --num_timesteps=1000000 --save_path=./models/simple_xyz_rough --play\n",
    "\n",
    "python -m baselines.run --alg=ppo2 --env=RSBalance-v2 --num_timesteps=100000 --save_path=./models/balance_v0 --play\n",
    "\n",
    "python -m baselines.run --alg=ppo2 --env=RSBalanceWithTraj-v2 --num_timesteps=100000 --save_path=./models/balance_with_traj_v0 --play\n",
    "\n",
    "python -m baselines.run --alg=ppo2 --env=RSBalanceWithTraj-v2 --num_timesteps=0 --load_path=./models/balance_with_traj_v1 --play\n",
    "\n",
    "\"\"\""
   ]
  },
  {
   "cell_type": "code",
   "execution_count": null,
   "metadata": {},
   "outputs": [],
   "source": []
  }
 ],
 "metadata": {
  "kernelspec": {
   "display_name": "Python [conda env:anaconda3]",
   "language": "python",
   "name": "conda-env-anaconda3-py"
  },
  "language_info": {
   "codemirror_mode": {
    "name": "ipython",
    "version": 3
   },
   "file_extension": ".py",
   "mimetype": "text/x-python",
   "name": "python",
   "nbconvert_exporter": "python",
   "pygments_lexer": "ipython3",
   "version": "3.6.7"
  }
 },
 "nbformat": 4,
 "nbformat_minor": 2
}
