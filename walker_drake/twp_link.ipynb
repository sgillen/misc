{
 "cells": [
  {
   "cell_type": "raw",
   "metadata": {},
   "source": []
  },
  {
   "cell_type": "code",
   "execution_count": null,
   "metadata": {},
   "outputs": [],
   "source": [
    "import pydrake\n",
    "import inspect"
   ]
  },
  {
   "cell_type": "code",
   "execution_count": null,
   "metadata": {},
   "outputs": [],
   "source": [
    "import argparse\n",
    "import math\n",
    "import numpy as np\n",
    "\n",
    "from pydrake.all import (Box,\n",
    "                         DiagramBuilder,\n",
    "                         FindResourceOrThrow,\n",
    "                         FloatingBaseType,\n",
    "                         Isometry3,\n",
    "                         RigidBodyTree,\n",
    "                         SignalLogger,\n",
    "                         Simulator,\n",
    "                         VisualElement)\n",
    "from pydrake.examples.compass_gait import (CompassGait, CompassGaitParams)\n",
    "from underactuated import (PlanarRigidBodyVisualizer)\n",
    "\n",
    "\n",
    "tree = RigidBodyTree(FindResourceOrThrow(\n",
    "                        \"drake/examples/compass_gait/CompassGait.urdf\"),\n",
    "                     FloatingBaseType.kRollPitchYaw)\n",
    "params = CompassGaitParams()\n",
    "R = np.identity(3)\n",
    "R[0, 0] = math.cos(params.slope())\n",
    "R[0, 2] = math.sin(params.slope())\n",
    "R[2, 0] = -math.sin(params.slope())\n",
    "R[2, 2] = math.cos(params.slope())\n",
    "X = Isometry3(rotation=R, translation=[0, 0, -5.])\n",
    "color = np.array([0.9297, 0.7930, 0.6758, 1])\n",
    "tree.world().AddVisualElement(VisualElement(Box([100., 1., 10.]), X, color))\n",
    "tree.compile()\n",
    "\n",
    "builder = DiagramBuilder()\n",
    "compass_gait = builder.AddSystem(CompassGait())\n",
    "\n",
    "parser = argparse.ArgumentParser()\n",
    "parser.add_argument(\"-T\", \"--duration\",\n",
    "                    type=float,\n",
    "                    help=\"Duration to run sim.\",\n",
    "                    default=10.0)\n",
    "#args = parser.parse_args()\n",
    "\n",
    "visualizer = builder.AddSystem(PlanarRigidBodyVisualizer(tree,\n",
    "                                                         xlim=[-8., 8.],\n",
    "                                                         ylim=[-4., 4.]))\n",
    "builder.Connect(compass_gait.get_output_port(1), visualizer.get_input_port(0))\n",
    "\n",
    "diagram = builder.Build()\n",
    "simulator = Simulator(diagram)\n",
    "simulator.set_target_realtime_rate(1.0)\n",
    "simulator.set_publish_every_time_step(True)\n",
    "simulator.get_mutable_context().set_accuracy(1e-4)\n",
    "\n",
    "state = simulator.get_mutable_context().get_mutable_continuous_state_vector()\n",
    "state.SetFromVector([0., 0., 0.4, -2.])\n",
    "\n",
    "simulator.StepTo(10)\n"
   ]
  },
  {
   "cell_type": "code",
   "execution_count": 55,
   "metadata": {},
   "outputs": [
    {
     "data": {
      "image/png": "[encoded data removed]",
      "text/plain": [
       "<matplotlib.figure.Figure at 0x7f7423f6de50>"
      ]
     },
     "metadata": {},
     "output_type": "display_data"
    }
   ],
   "source": [
    "\n",
    "#import argparse\n",
    "import matplotlib.pyplot as plt\n",
    "\n",
    "from pydrake.all import (DiagramBuilder,\n",
    "                         SignalLogger,\n",
    "                         Simulator)\n",
    "from pydrake.examples.compass_gait import (CompassGait)\n",
    "\n",
    "# TODO(russt): combine this with simulate.py if the set_publish_every_timestep\n",
    "# semantics get cleaned up (drake #7845).\n",
    "\n",
    "builder = DiagramBuilder()\n",
    "compass_gait = builder.AddSystem(CompassGait())\n",
    "\n",
    "#parser = argparse.ArgumentParser()\n",
    "#parser.add_argument(\"-T\", \"--duration\",\n",
    "#                    type=float,\n",
    "#                    help=\"Duration to run sim.\",\n",
    "#                    default=10.0)\n",
    "#args = parser.parse_args()\n",
    "\n",
    "logger = builder.AddSystem(SignalLogger(14))\n",
    "builder.Connect(compass_gait.get_output_port(1), logger.get_input_port(0))\n",
    "\n",
    "diagram = builder.Build()\n",
    "simulator = Simulator(diagram)\n",
    "simulator.set_publish_every_time_step(True)\n",
    "simulator.get_mutable_context().set_accuracy(1e-4)\n",
    "\n",
    "state = simulator.get_mutable_context().get_mutable_continuous_state_vector()\n",
    "state.SetFromVector([0., 0., 0.4, -2.])\n",
    "\n",
    "simulator.StepTo(10)\n",
    "\n",
    "plt.figure()\n",
    "plt.plot(logger.data()[4, :], logger.data()[11, :])\n",
    "plt.xlabel('left leg angle')\n",
    "plt.ylabel('left leg angular velocity')\n",
    "\n",
    "plt.show()\n"
   ]
  },
  {
   "cell_type": "code",
   "execution_count": null,
   "metadata": {},
   "outputs": [],
   "source": [
    "from pprint import pprint\n",
    "\n",
    "pprint(inspect.getmembers(params))\n",
    "params."
   ]
  },
  {
   "cell_type": "code",
   "execution_count": 47,
   "metadata": {},
   "outputs": [],
   "source": [
    "l = [1,2,3]\n",
    "t = (1,2,3)\n",
    "lt = (l,t)"
   ]
  },
  {
   "cell_type": "code",
   "execution_count": 48,
   "metadata": {},
   "outputs": [
    {
     "name": "stdout",
     "output_type": "stream",
     "text": [
      "set([1, 4, 5, 6])\n"
     ]
    }
   ],
   "source": [
    "s = set((1,4,5,6))\n",
    "print s"
   ]
  },
  {
   "cell_type": "code",
   "execution_count": 50,
   "metadata": {},
   "outputs": [],
   "source": [
    "def check_validity(f):\n",
    "    def wrap(*args):\n",
    "        if args[0] == 0:\n",
    "            return False\n",
    "        return f(*args)\n",
    "    return wrap\n",
    "\n",
    "@check_validity\n",
    "def division(n):\n",
    "    return 100./n\n"
   ]
  },
  {
   "cell_type": "code",
   "execution_count": 54,
   "metadata": {},
   "outputs": [
    {
     "name": "stdout",
     "output_type": "stream",
     "text": [
      "<function check_validity at 0x7f7423f60488>\n"
     ]
    }
   ],
   "source": [
    "print(check_validity)"
   ]
  },
  {
   "cell_type": "code",
   "execution_count": null,
   "metadata": {},
   "outputs": [],
   "source": []
  }
 ],
 "metadata": {
  "kernelspec": {
   "display_name": "Python 2",
   "language": "python",
   "name": "python2"
  },
  "language_info": {
   "codemirror_mode": {
    "name": "ipython",
    "version": 2
   },
   "file_extension": ".py",
   "mimetype": "text/x-python",
   "name": "python",
   "nbconvert_exporter": "python",
   "pygments_lexer": "ipython2",
   "version": "2.7.15rc1"
  }
 },
 "nbformat": 4,
 "nbformat_minor": 2
}
