{
 "cells": [
  {
   "cell_type": "code",
   "execution_count": 1,
   "metadata": {},
   "outputs": [],
   "source": [
    "#sgillen: implementation of trajectory optimization using the five link walker\n",
    "\n",
    "\n",
    "# jupyter magic \n",
    "#==============================================================================\n",
    "\n",
    "#%load_ext line_profiler\n",
    "\n",
    "#%lprun -f __main__ __main__()\n",
    "\n",
    "\n",
    "# imports\n",
    "#==============================================================================\n",
    "\n",
    "import math\n",
    "import numpy as np\n",
    "import matplotlib.pyplot as plt\n",
    "\n",
    "from pydrake.all import (BasicVector, DiagramBuilder, FloatingBaseType,\n",
    "                         Simulator,SignalLogger, Isometry3, DirectCollocation, \n",
    "                         PiecewisePolynomial, AddMultibodyPlantSceneGraph)\n",
    "\n",
    "from pydrake.solvers.mathematicalprogram import Solve\n",
    "\n",
    "from pydrake.multibody.parsing import Parser\n",
    "from pydrake.multibody.plant import MultibodyPlant\n",
    "\n",
    "#from pydrake.all import \n",
    "from underactuated import (FindResource, PlanarSceneGraphVisualizer)\n",
    "\n",
    "from IPython.display import HTML\n",
    "\n",
    "#this one is home grown, make sure it's in the same directory as this notebook\n",
    "from seagul.drake import x_expr,y_expr,x_float,y_float,x_taylor,y_taylor\n",
    "from seagul.resources import getResourcePath \n",
    "\n",
    "from numpy import pi"
   ]
  },
  {
   "cell_type": "code",
   "execution_count": 2,
   "metadata": {},
   "outputs": [],
   "source": [
    "#load the walker \n",
    "plant = MultibodyPlant()\n",
    "parser = Parser(plant)\n",
    "parser.AddModelFromFile(getResourcePath() + \"/five_link.urdf\")\n",
    "plant.Finalize()\n",
    "context = plant.CreateDefaultContext()"
   ]
  },
  {
   "cell_type": "code",
   "execution_count": 3,
   "metadata": {},
   "outputs": [
    {
     "ename": "SystemExit",
     "evalue": "Failure at bazel-out/k8-py2-opt/bin/systems/framework/_virtual_includes/vector/drake/systems/framework/vector_base.h:93 in SetFromVector(): condition 'value.rows() == size()' failed.",
     "output_type": "error",
     "traceback": [
      "An exception has occurred, use %tb to see the full traceback.\n",
      "\u001b[0;31mSystemExit\u001b[0m\u001b[0;31m:\u001b[0m Failure at bazel-out/k8-py2-opt/bin/systems/framework/_virtual_includes/vector/drake/systems/framework/vector_base.h:93 in SetFromVector(): condition 'value.rows() == size()' failed.\n"
     ]
    },
    {
     "data": {
      "image/png": "[encoded data removed]",
      "text/plain": [
       "<Figure size 432x432 with 1 Axes>"
      ]
     },
     "metadata": {},
     "output_type": "display_data"
    }
   ],
   "source": [
    "#load the walker \n",
    "builder = DiagramBuilder()\n",
    "plant, scene_graph = AddMultibodyPlantSceneGraph(builder)\n",
    "parser = Parser(plant, scene_graph)\n",
    "parser.AddAllModelsFromFile(getResourcePath() + \"/five_link.urdf\")\n",
    "plant.Finalize()\n",
    "\n",
    "builder.ExportInput(plant.get_actuation_input_port())\n",
    "visualizer = builder.AddSystem(PlanarSceneGraphVisualizer(scene_graph, xlim=[-2.8, 2.8], ylim=[-2.8, 2.8]))\n",
    "context = plant.CreateDefaultContext()\n",
    "                                                       \n",
    "builder.Connect(scene_graph.get_pose_bundle_output_port(), visualizer.get_input_port(0))\n",
    "diagram = builder.Build()\n",
    "\n",
    "simulator = Simulator(diagram)\n",
    "simulator.set_target_realtime_rate(1.0)\n",
    "\n",
    "context = simulator.get_mutable_context()\n",
    "context.SetContinuousState([0. for _ in range(8)])\n",
    "context.FixInputPort(0, [0.0, 0.0, 0.0, 0.0])  # Zero input torques\n",
    "\n",
    "simulator.StepTo(10)"
   ]
  },
  {
   "cell_type": "code",
   "execution_count": null,
   "metadata": {},
   "outputs": [],
   "source": []
  }
 ],
 "metadata": {
  "kernelspec": {
   "display_name": "Drake (3.6)",
   "language": "python",
   "name": "drake"
  },
  "language_info": {
   "codemirror_mode": {
    "name": "ipython",
    "version": 3
   },
   "file_extension": ".py",
   "mimetype": "text/x-python",
   "name": "python",
   "nbconvert_exporter": "python",
   "pygments_lexer": "ipython3",
   "version": "3.6.9"
  }
 },
 "nbformat": 4,
 "nbformat_minor": 4
}
