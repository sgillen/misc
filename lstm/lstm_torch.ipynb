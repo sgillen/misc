{
 "cells": [
  {
   "cell_type": "code",
   "execution_count": 1,
   "metadata": {},
   "outputs": [
    {
     "data": {
      "text/plain": [
       "<torch._C.Generator at 0x7f21b6bde7f0>"
      ]
     },
     "execution_count": 1,
     "metadata": {},
     "output_type": "execute_result"
    }
   ],
   "source": [
    "import torch\n",
    "import torch.nn as nn\n",
    "import torch.nn.functional as F\n",
    "import torch.optim as optim\n",
    "\n",
    "torch.manual_seed(1)"
   ]
  },
  {
   "cell_type": "code",
   "execution_count": 12,
   "metadata": {},
   "outputs": [
    {
     "name": "stdout",
     "output_type": "stream",
     "text": [
      "tensor([[[0.2553]]], grad_fn=<CatBackward>)\n",
      "(tensor([[[-1.8689,  0.5573]]]), tensor([[[ 0.1582, -0.9813]]]))\n",
      "tensor([[[ 0.2709, -0.0652]]], grad_fn=<CatBackward>)\n",
      "(tensor([[[ 0.2709, -0.0652]]], grad_fn=<ViewBackward>), tensor([[[ 0.5237, -0.1589]]], grad_fn=<ViewBackward>))\n",
      "tensor([[[-0.1090, -0.2805]]], grad_fn=<CatBackward>)\n",
      "(tensor([[[-0.1090, -0.2805]]], grad_fn=<ViewBackward>), tensor([[[-0.2171, -0.6344]]], grad_fn=<ViewBackward>))\n",
      "tensor([[[ 0.1497, -0.0049]]], grad_fn=<CatBackward>)\n",
      "(tensor([[[ 0.1497, -0.0049]]], grad_fn=<ViewBackward>), tensor([[[ 0.5681, -0.0120]]], grad_fn=<ViewBackward>))\n",
      "tensor([[[-0.0822, -0.3720]]], grad_fn=<CatBackward>)\n",
      "(tensor([[[-0.0822, -0.3720]]], grad_fn=<ViewBackward>), tensor([[[-0.2915, -0.5896]]], grad_fn=<ViewBackward>))\n"
     ]
    }
   ],
   "source": [
    "lstm = nn.LSTM(4,2)\n",
    "inputs = [torch.randn(4,1) for _ in range(5)]\n",
    "hidden = (torch.randn(1,1,2), torch.randn(1,1,2))\n",
    "\n",
    "for i in inputs:\n",
    "    print(out)\n",
    "    print(hidden)\n",
    "    out, hidden = lstm(i.view(1,1,-1), hidden)\n",
    "  "
   ]
  },
  {
   "cell_type": "code",
   "execution_count": 13,
   "metadata": {},
   "outputs": [
    {
     "name": "stdout",
     "output_type": "stream",
     "text": [
      "{'The': 0, 'dog': 1, 'ate': 2, 'the': 3, 'apple': 4, 'Everybody': 5, 'read': 6, 'that': 7, 'book': 8}\n"
     ]
    }
   ],
   "source": [
    "def prepare_sequence(seq, to_ix):\n",
    "    idxs = [to_ix[w] for w in seq]\n",
    "    return torch.tensor(idxs, dtype=torch.long)\n",
    "\n",
    "\n",
    "training_data = [\n",
    "    (\"The dog ate the apple\".split(), [\"DET\", \"NN\", \"V\", \"DET\", \"NN\"]),\n",
    "    (\"Everybody read that book\".split(), [\"NN\", \"V\", \"DET\", \"NN\"])\n",
    "]\n",
    "word_to_ix = {}\n",
    "for sent, tags in training_data:\n",
    "    for word in sent:\n",
    "        if word not in word_to_ix:\n",
    "            word_to_ix[word] = len(word_to_ix)\n",
    "print(word_to_ix)\n",
    "tag_to_ix = {\"DET\": 0, \"NN\": 1, \"V\": 2}\n",
    "\n",
    "# These will usually be more like 32 or 64 dimensional.\n",
    "# We will keep them small, so we can see how the weights change as we train.\n",
    "EMBEDDING_DIM = 6\n",
    "HIDDEN_DIM = 6"
   ]
  },
  {
   "cell_type": "code",
   "execution_count": null,
   "metadata": {},
   "outputs": [],
   "source": []
  }
 ],
 "metadata": {
  "kernelspec": {
   "display_name": "ucsb_python3",
   "language": "python",
   "name": "env"
  },
  "language_info": {
   "codemirror_mode": {
    "name": "ipython",
    "version": 3
   },
   "file_extension": ".py",
   "mimetype": "text/x-python",
   "name": "python",
   "nbconvert_exporter": "python",
   "pygments_lexer": "ipython3",
   "version": "3.6.6"
  }
 },
 "nbformat": 4,
 "nbformat_minor": 2
}
