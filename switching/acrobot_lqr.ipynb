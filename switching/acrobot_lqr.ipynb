{
 "cells": [
  {
   "cell_type": "code",
   "execution_count": 12,
   "metadata": {},
   "outputs": [
    {
     "name": "stdout",
     "output_type": "stream",
     "text": [
      "[[159.39046314  39.98381558  44.74660057   2.77119863]]\n"
     ]
    }
   ],
   "source": [
    "import gym\n",
    "import seagul.envs\n",
    "import numpy as np\n",
    "from numpy import pi, sin, cos\n",
    "import time\n",
    "import torch\n",
    "import torch.nn as nn\n",
    "torch.set_default_dtype(torch.double)\n",
    "import matplotlib.pyplot as plt\n",
    "\n",
    "import numpy as np\n",
    "from numpy import sin, cos, pi\n",
    "from control import lqr\n",
    "\n",
    "from seagul.rl.models import PPOModelActHold\n",
    "from seagul.nn import MLP\n",
    "from seagul.rl.run_utils import load_workspace\n",
    "\n",
    "from scipy.integrate import solve_ivp\n",
    "\n",
    "# dynamics from our gym environment\n",
    "I2 = .083; I1 = .0104\n",
    "l1 = .5; l2 = 1\n",
    "m1 = .5; m2 = 1\n",
    "lc1 = .25; lc2 = .5\n",
    "g = 9.8\n",
    "th1 = -pi/2; th2 = 0\n",
    "th1d = 0; th2d = 0\n",
    "\n",
    "\n",
    "B = np.array([[0],[1]])\n",
    "M = np.array([[I1 + I2 + m2*l1**2 + 2*m2*l1*lc2*cos(th2), I2 + m2*l1*lc2*cos(th2)], [I2 + m2*l1*lc2*cos(th2), I2]])\n",
    "C = np.array([[-2*m2*l1*lc2*sin(th2)*th2d, -m2*l1*lc2*sin(th2)*th2d], [m2*l1*lc2*sin(th2)*th1d, 0]])\n",
    "G = np.array([[-m1*g*lc1*cos(th1) - m2*g*(l1*cos(th1) + lc2*cos(th1 + th2))],[-m2*g*lc2*cos(th1+ th2)]])\n",
    "\n",
    "Alin= np.array([[0,0, 1, 0],[0, 0, 0, 1], [g*(m1*l1 + m2*l1 + m2*lc2), (m2*g*lc2), 0, 0 ],[m2*g*lc2, m2*g*lc2, 0, 0]])\n",
    "Bl = np.linalg.inv(M)*B\n",
    "Blin = np.array([[0,0],[0,0],Bl[0,:], Bl[1,:]])\n",
    "\n",
    "Q = np.identity(4)\n",
    "Q[0,0] = 100\n",
    "Q[1,1] = 50\n",
    "Q[2,2] = 1/2\n",
    "Q[3,3] = 1/2\n",
    "\n",
    "R = np.identity(2)*.1\n",
    "K,S,E = lqr(Alin,Blin,Q,R)\n",
    "print(-K[1,:])"
   ]
  },
  {
   "cell_type": "code",
   "execution_count": 13,
   "metadata": {},
   "outputs": [
    {
     "data": {
      "text/plain": [
       "0.5"
      ]
     },
     "execution_count": 13,
     "metadata": {},
     "output_type": "execute_result"
    }
   ],
   "source": [
    "500*.001"
   ]
  },
  {
   "cell_type": "code",
   "execution_count": 14,
   "metadata": {},
   "outputs": [
    {
     "data": {
      "text/plain": [
       "1600"
      ]
     },
     "execution_count": 14,
     "metadata": {},
     "output_type": "execute_result"
    }
   ],
   "source": [
    "40*40"
   ]
  },
  {
   "cell_type": "code",
   "execution_count": 15,
   "metadata": {},
   "outputs": [
    {
     "ename": "NameError",
     "evalue": "name 'reawrd_hist' is not defined",
     "output_type": "error",
     "traceback": [
      "\u001b[0;31m---------------------------------------------------------------------------\u001b[0m",
      "\u001b[0;31mNameError\u001b[0m                                 Traceback (most recent call last)",
      "\u001b[0;32m<ipython-input-15-cb4a5cd6a3fa>\u001b[0m in \u001b[0;36m<module>\u001b[0;34m\u001b[0m\n\u001b[0;32m----> 1\u001b[0;31m \u001b[0mreawrd_hist\u001b[0m\u001b[0;34m\u001b[0m\u001b[0;34m\u001b[0m\u001b[0m\n\u001b[0m",
      "\u001b[0;31mNameError\u001b[0m: name 'reawrd_hist' is not defined"
     ]
    }
   ],
   "source": [
    "reawrd_hist"
   ]
  },
  {
   "cell_type": "code",
   "execution_count": null,
   "metadata": {},
   "outputs": [],
   "source": []
  }
 ],
 "metadata": {
  "kernelspec": {
   "display_name": "Drake (3.6)",
   "language": "python",
   "name": "drake"
  },
  "language_info": {
   "codemirror_mode": {
    "name": "ipython",
    "version": 3
   },
   "file_extension": ".py",
   "mimetype": "text/x-python",
   "name": "python",
   "nbconvert_exporter": "python",
   "pygments_lexer": "ipython3",
   "version": "3.6.10"
  }
 },
 "nbformat": 4,
 "nbformat_minor": 4
}
