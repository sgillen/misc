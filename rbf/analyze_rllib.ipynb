{
 "cells": [
  {
   "cell_type": "code",
   "execution_count": 1,
   "metadata": {},
   "outputs": [
    {
     "name": "stderr",
     "output_type": "stream",
     "text": [
      "Using TensorFlow backend.\n"
     ]
    },
    {
     "ename": "ImportError",
     "evalue": "cannot import name 'MyKerasModel1'",
     "output_type": "error",
     "traceback": [
      "\u001b[0;31m---------------------------------------------------------------------------\u001b[0m",
      "\u001b[0;31mImportError\u001b[0m                               Traceback (most recent call last)",
      "\u001b[0;32m<ipython-input-1-7af18d75bbd7>\u001b[0m in \u001b[0;36m<module>\u001b[0;34m\u001b[0m\n\u001b[1;32m     23\u001b[0m \u001b[0;34m\u001b[0m\u001b[0m\n\u001b[1;32m     24\u001b[0m \u001b[0;32mfrom\u001b[0m \u001b[0mseagul\u001b[0m\u001b[0;34m.\u001b[0m\u001b[0mrllib\u001b[0m\u001b[0;34m.\u001b[0m\u001b[0mrllib_with_rbf\u001b[0m\u001b[0;34m.\u001b[0m\u001b[0mrbf_net\u001b[0m \u001b[0;32mimport\u001b[0m \u001b[0mRBFModel1\u001b[0m\u001b[0;34m,\u001b[0m \u001b[0mRBFModel2\u001b[0m\u001b[0;34m\u001b[0m\u001b[0;34m\u001b[0m\u001b[0m\n\u001b[0;32m---> 25\u001b[0;31m \u001b[0;32mfrom\u001b[0m \u001b[0mseagul\u001b[0m\u001b[0;34m.\u001b[0m\u001b[0mrllib\u001b[0m\u001b[0;34m.\u001b[0m\u001b[0mrllib_with_rbf\u001b[0m\u001b[0;34m.\u001b[0m\u001b[0mmlp_net\u001b[0m \u001b[0;32mimport\u001b[0m \u001b[0mMyKerasModel1\u001b[0m\u001b[0;34m,\u001b[0m \u001b[0mMyKerasModel2\u001b[0m\u001b[0;34m\u001b[0m\u001b[0;34m\u001b[0m\u001b[0m\n\u001b[0m",
      "\u001b[0;31mImportError\u001b[0m: cannot import name 'MyKerasModel1'"
     ]
    }
   ],
   "source": [
    "import pandas as pd\n",
    "import matplotlib.pyplot as plt\n",
    "import json\n",
    "import ray\n",
    "import ray.rllib.agents.ppo as ppo\n",
    "import ray.rllib.agents.ppo.appo as appo\n",
    "import ray.rllib.agents.ddpg as ddpg\n",
    "import ray.rllib.agents.ddpg.td3 as td3\n",
    "import ray.rllib.agents.sac as sac\n",
    "import ray.rllib.agents.a3c as a3c\n",
    "import ray.rllib.agents.a3c.a2c as a2c\n",
    "import ray.rllib.agents.dqn.apex as apex\n",
    "import ray.rllib.agents.impala as impala\n",
    "import ray.rllib.agents.pg as pg\n",
    "import ray.rllib.agents.ars as ars\n",
    "import ray.rllib.agents.es as es\n",
    "import seagul.envs\n",
    "import numpy as np\n",
    "from numpy import pi\n",
    "import gym\n",
    "import pybullet_envs\n",
    "from ray.rllib.models import ModelCatalog\n",
    "\n",
    "from seagul.rllib.rllib_with_rbf.rbf_net import RBFModel1, RBFModel2\n",
    "from seagul.rllib.rllib_with_rbf.mlp_net import MyKerasModel1, MyKerasModel2"
   ]
  },
  {
   "cell_type": "code",
   "execution_count": 4,
   "metadata": {},
   "outputs": [],
   "source": [
    "# !! modify these as appropiate\n",
    "\n",
    "algos = {\n",
    "    0: \"A2C\",\n",
    "    1: \"A3C\",\n",
    "    2: \"APEX\",\n",
    "    3: \"APPO\",\n",
    "    4: \"DDPG\",\n",
    "    5: \"IMPALA\",\n",
    "    6: \"PG\",\n",
    "    7: \"PPO\",\n",
    "    8: \"SAC\",\n",
    "    9: \"TD3\",\n",
    "    11: \"ES\"\n",
    "}\n",
    "envs = {\n",
    "    0: \"HumanoidBulletEnv-v0\",\n",
    "    1: \"Walker2DBulletEnv-v0\",\n",
    "    2: \"Pendulum-v0\",\n",
    "    3: \"HalfCheetahBulletEnv-v0\"\n",
    "}\n",
    "alg = algos[8]\n",
    "current_env = envs[3]\n",
    "checkpoint = \"153\"\n",
    "home_path = '/home/grabka/Documents/seagul/seagul/rllib/rllib_with_rbf/data/HalfCheetah/MLP/SAC/SAC_HalfCheetahBulletEnv-v0_mlp_2_64_2020-02-10_12-22-29h6gj4tm_/'\n",
    "\n",
    "checkpoint_path = home_path + \"checkpoint_\" + checkpoint + \"/checkpoint-\" + checkpoint"
   ]
  },
  {
   "cell_type": "code",
   "execution_count": 5,
   "metadata": {},
   "outputs": [],
   "source": [
    "#config = json.load(open(home_path + \"params.json\"))\n",
    "#df = pd.read_csv(home_path + \"progress.csv\")"
   ]
  },
  {
   "cell_type": "code",
   "execution_count": 6,
   "metadata": {},
   "outputs": [
    {
     "ename": "FileNotFoundError",
     "evalue": "[Errno 2] No such file or directory: '/home/grabka/Documents/seagul/seagul/rllib/rllib_with_rbf/MLP1_HalfCheetah/DDPG/experiment_state-2020-02-07_17-56-46.json'",
     "output_type": "error",
     "traceback": [
      "\u001b[0;31m---------------------------------------------------------------------------\u001b[0m",
      "\u001b[0;31mFileNotFoundError\u001b[0m                         Traceback (most recent call last)",
      "\u001b[0;32m<ipython-input-6-1bbe3a7d9ef5>\u001b[0m in \u001b[0;36m<module>\u001b[0;34m\u001b[0m\n\u001b[1;32m      5\u001b[0m \u001b[0mexpr_path\u001b[0m \u001b[0;34m=\u001b[0m \u001b[0;34m'/'\u001b[0m\u001b[0;34m.\u001b[0m\u001b[0mjoin\u001b[0m\u001b[0;34m(\u001b[0m\u001b[0mcheckpoint_path\u001b[0m\u001b[0;34m.\u001b[0m\u001b[0msplit\u001b[0m\u001b[0;34m(\u001b[0m\u001b[0;34m'/'\u001b[0m\u001b[0;34m)\u001b[0m\u001b[0;34m[\u001b[0m\u001b[0;34m:\u001b[0m\u001b[0;34m-\u001b[0m\u001b[0;36m3\u001b[0m\u001b[0;34m]\u001b[0m\u001b[0;34m)\u001b[0m \u001b[0;34m+\u001b[0m \u001b[0mexpr_file\u001b[0m\u001b[0;34m\u001b[0m\u001b[0;34m\u001b[0m\u001b[0m\n\u001b[1;32m      6\u001b[0m \u001b[0;34m\u001b[0m\u001b[0m\n\u001b[0;32m----> 7\u001b[0;31m \u001b[0mexpr_data\u001b[0m \u001b[0;34m=\u001b[0m \u001b[0mjson\u001b[0m\u001b[0;34m.\u001b[0m\u001b[0mload\u001b[0m\u001b[0;34m(\u001b[0m\u001b[0mopen\u001b[0m\u001b[0;34m(\u001b[0m\u001b[0mexpr_path\u001b[0m\u001b[0;34m)\u001b[0m\u001b[0;34m)\u001b[0m\u001b[0;34m\u001b[0m\u001b[0;34m\u001b[0m\u001b[0m\n\u001b[0m\u001b[1;32m      8\u001b[0m \u001b[0mconfig\u001b[0m \u001b[0;34m=\u001b[0m \u001b[0mexpr_data\u001b[0m\u001b[0;34m[\u001b[0m\u001b[0;34m'checkpoints'\u001b[0m\u001b[0;34m]\u001b[0m\u001b[0;34m[\u001b[0m\u001b[0;34m-\u001b[0m\u001b[0;36m1\u001b[0m\u001b[0;34m]\u001b[0m\u001b[0;34m[\u001b[0m\u001b[0;34m'config'\u001b[0m\u001b[0;34m]\u001b[0m\u001b[0;34m\u001b[0m\u001b[0;34m\u001b[0m\u001b[0m\n\u001b[1;32m      9\u001b[0m \u001b[0menv_name\u001b[0m \u001b[0;34m=\u001b[0m \u001b[0mconfig\u001b[0m\u001b[0;34m[\u001b[0m\u001b[0;34m'env'\u001b[0m\u001b[0;34m]\u001b[0m\u001b[0;34m\u001b[0m\u001b[0;34m\u001b[0m\u001b[0m\n",
      "\u001b[0;31mFileNotFoundError\u001b[0m: [Errno 2] No such file or directory: '/home/grabka/Documents/seagul/seagul/rllib/rllib_with_rbf/MLP1_HalfCheetah/DDPG/experiment_state-2020-02-07_17-56-46.json'"
     ]
    }
   ],
   "source": [
    "# Some delightfully ugly python to infer where everything else is...\n",
    "csv_path = '/'.join(checkpoint_path.split('/')[:-2]) + '/progress.csv'\n",
    "save_name = checkpoint_path.split('/')[-3]\n",
    "expr_file = \"/experiment_state-\" + save_name[-27:-8] + \".json\"\n",
    "expr_path = '/'.join(checkpoint_path.split('/')[:-3]) + expr_file\n",
    "\n",
    "expr_data = json.load(open(expr_path))\n",
    "config = expr_data['checkpoints'][-1]['config']\n",
    "env_name = config['env']\n",
    "\n",
    "\n",
    "df = pd.read_csv(csv_path)\n",
    "#df"
   ]
  },
  {
   "cell_type": "code",
   "execution_count": 27,
   "metadata": {},
   "outputs": [
    {
     "data": {
      "text/plain": [
       "[<matplotlib.lines.Line2D at 0x7f361047b5c0>]"
      ]
     },
     "execution_count": 27,
     "metadata": {},
     "output_type": "execute_result"
    },
    {
     "data": {
      "image/png": "[encoded data removed]",
      "text/plain": [
       "<Figure size 432x288 with 1 Axes>"
      ]
     },
     "metadata": {
      "needs_background": "light"
     },
     "output_type": "display_data"
    }
   ],
   "source": [
    "plt.plot(df['episode_reward_mean'])"
   ]
  },
  {
   "cell_type": "code",
   "execution_count": 28,
   "metadata": {},
   "outputs": [
    {
     "name": "stderr",
     "output_type": "stream",
     "text": [
      "2020-02-10 13:56:27,630\tWARNING services.py:592 -- setpgrp failed, processes may not be cleaned up properly: [Errno 1] Operation not permitted.\n",
      "2020-02-10 13:56:27,632\tINFO resource_spec.py:212 -- Starting Ray with 14.11 GiB memory available for workers and up to 7.08 GiB for objects. You can adjust these settings with ray.init(memory=<bytes>, object_store_memory=<bytes>).\n",
      "2020-02-10 13:56:27,952\tWARNING services.py:1080 -- Failed to start the dashboard. The dashboard requires Python 3 as well as 'pip install aiohttp psutil setproctitle grpcio'.\n",
      "2020-02-10 13:56:39,574\tINFO trainable.py:178 -- _setup took 11.122 seconds. If your trainable is slow to initialize, consider setting reuse_actors=True to reduce actor creation overheads.\n",
      "2020-02-10 13:56:39,575\tWARNING util.py:41 -- Install gputil for GPU system monitoring.\n",
      "2020-02-10 13:56:39,615\tWARNING trainable.py:210 -- Getting current IP.\n",
      "2020-02-10 13:56:39,616\tINFO trainable.py:416 -- Restored on 128.111.57.123 from checkpoint: /home/grabka/Documents/seagul/seagul/rllib/rllib_with_rbf/MLP1_HalfCheetah/DDPG/DDPG_HalfCheetahBulletEnv-v0_mlp_2_64_2020-02-07_17-56-46eztsbj6s/checkpoint_47/checkpoint-47\n",
      "2020-02-10 13:56:39,617\tINFO trainable.py:423 -- Current state after restoring: {'_iteration': 47, '_timesteps_total': 28200, '_time_total': 300.2511148452759, '_episodes_total': 28}\n"
     ]
    }
   ],
   "source": [
    "ray.shutdown()\n",
    "ray.init()\n",
    "ModelCatalog.register_custom_model(\"rbf\", RBFModel1)\n",
    "ModelCatalog.register_custom_model(\"rbf_2\", RBFModel2)\n",
    "ModelCatalog.register_custom_model(\"mlp_1_256\", MyKerasModel1)\n",
    "ModelCatalog.register_custom_model(\"mlp_2_64\", MyKerasModel2)\n",
    "\n",
    "if alg == \"PPO\":\n",
    "    trainer = ppo.PPOTrainer(config)\n",
    "if alg == \"SAC\":\n",
    "    trainer = sac.SACTrainer(config)\n",
    "if alg == \"DDPG\":\n",
    "    trainer = ddpg.DDPGTrainer(config)\n",
    "if alg == \"PG\":\n",
    "    trainer = pg.PGTrainer(config)\n",
    "if alg == \"A3C\":\n",
    "    trainer = a3c.A3CTrainer(config)\n",
    "if alg == \"TD3\":\n",
    "    trainer = td3.TD3Trainer(config)\n",
    "\n",
    "trainer.restore(checkpoint_path)"
   ]
  },
  {
   "cell_type": "code",
   "execution_count": 21,
   "metadata": {},
   "outputs": [],
   "source": [
    "import gym\n",
    "import numpy as np\n",
    "import matplotlib.pyplot as plt\n",
    "import random\n",
    "import tensorflow as tf\n",
    "import pybullet_envs\n",
    "%matplotlib inline\n",
    "\n",
    "#env = gym.make(env_name)\n",
    "#env.unwrapped.reset_model = det_reset_model\n",
    "\n",
    "# !! this needs to reflect the environemnt you trained in\n",
    "#env = gym.make(\"Pendulum-v0\")\n",
    "if \"Bullet\" in current_env:\n",
    "    env = gym.make(current_env, render=True)\n",
    "else:\n",
    "    env = gym.make(current_env)"
   ]
  },
  {
   "cell_type": "code",
   "execution_count": 22,
   "metadata": {},
   "outputs": [
    {
     "name": "stdout",
     "output_type": "stream",
     "text": [
      "-12259.662809359716\n"
     ]
    },
    {
     "name": "stderr",
     "output_type": "stream",
     "text": [
      "IOPub data rate exceeded.\n",
      "The notebook server will temporarily stop sending output\n",
      "to the client in order to avoid crashing it.\n",
      "To change this limit, set the config variable\n",
      "`--NotebookApp.iopub_data_rate_limit`.\n",
      "\n",
      "Current values:\n",
      "NotebookApp.iopub_data_rate_limit=1000000.0 (bytes/sec)\n",
      "NotebookApp.rate_limit_window=3.0 (secs)\n",
      "\n"
     ]
    }
   ],
   "source": [
    "env._max_episode_steps = 10000\n",
    "obs = env.reset()\n",
    "\n",
    "\n",
    "\n",
    "action_hist = []\n",
    "m_act_hist = []\n",
    "state_hist  = []\n",
    "obs_hist = []\n",
    "reward_hist = []\n",
    "\n",
    "done = False\n",
    "for t in range(10000):\n",
    "    # for some algorithms you can get the sample mean out, need to change the value on the index to match your env for now\n",
    "    # mean_actions = out_dict['behaviour_logits'][:17]\n",
    "    # actions = trainer.compute_action(obs.flatten())\n",
    "    sampled_actions, _ , out_dict = trainer.compute_action(obs.flatten(),full_fetch=True)\n",
    "    \n",
    "    actions = sampled_actions\n",
    "    \n",
    "    obs, reward, done, _ = env.step(np.asarray(actions))\n",
    "    \n",
    "    # !! uncomment to render\n",
    "    env.render()\n",
    "    \n",
    "    action_hist.append(np.copy(actions))\n",
    "    obs_hist.append(np.copy(obs))\n",
    "    reward_hist.append(np.copy(reward))\n",
    "print(sum(reward_hist))\n",
    "print((obs_hist))\n",
    "#plt.plot(action_hist)\n",
    "#plt.figure()\n",
    "#plt.figure()\n",
    "#plt.plot(obs_hist)\n",
    "#plt.figure()"
   ]
  },
  {
   "cell_type": "code",
   "execution_count": 7,
   "metadata": {},
   "outputs": [
    {
     "ename": "NameError",
     "evalue": "name 'obs' is not defined",
     "output_type": "error",
     "traceback": [
      "\u001b[0;31m---------------------------------------------------------------------------\u001b[0m",
      "\u001b[0;31mNameError\u001b[0m                                 Traceback (most recent call last)",
      "\u001b[0;32m<ipython-input-7-46de76154a13>\u001b[0m in \u001b[0;36m<module>\u001b[0;34m\u001b[0m\n\u001b[1;32m      1\u001b[0m \u001b[0;31m# Reminder that the bahavior logits that come out are the mean and logstd (not log mean, despite the name logit)\u001b[0m\u001b[0;34m\u001b[0m\u001b[0;34m\u001b[0m\u001b[0;34m\u001b[0m\u001b[0m\n\u001b[0;32m----> 2\u001b[0;31m \u001b[0mtrainer\u001b[0m\u001b[0;34m.\u001b[0m\u001b[0mcompute_action\u001b[0m\u001b[0;34m(\u001b[0m\u001b[0mobs\u001b[0m\u001b[0;34m,\u001b[0m \u001b[0mfull_fetch\u001b[0m\u001b[0;34m=\u001b[0m\u001b[0;32mTrue\u001b[0m\u001b[0;34m)\u001b[0m\u001b[0;34m\u001b[0m\u001b[0;34m\u001b[0m\u001b[0m\n\u001b[0m",
      "\u001b[0;31mNameError\u001b[0m: name 'obs' is not defined"
     ]
    },
    {
     "name": "stdout",
     "output_type": "stream",
     "text": [
      "\u001b[2m\u001b[36m(pid=12929)\u001b[0m Using TensorFlow backend.\n",
      "\u001b[2m\u001b[36m(pid=12933)\u001b[0m Using TensorFlow backend.\n",
      "\u001b[2m\u001b[36m(pid=12938)\u001b[0m Using TensorFlow backend.\n",
      "\u001b[2m\u001b[36m(pid=12928)\u001b[0m Using TensorFlow backend.\n",
      "\u001b[2m\u001b[36m(pid=12945)\u001b[0m Using TensorFlow backend.\n",
      "\u001b[2m\u001b[36m(pid=12935)\u001b[0m Using TensorFlow backend.\n",
      "\u001b[2m\u001b[36m(pid=12939)\u001b[0m Using TensorFlow backend.\n",
      "\u001b[2m\u001b[36m(pid=12926)\u001b[0m Using TensorFlow backend.\n",
      "\u001b[2m\u001b[36m(pid=12944)\u001b[0m Using TensorFlow backend.\n",
      "\u001b[2m\u001b[36m(pid=12947)\u001b[0m Using TensorFlow backend.\n",
      "\u001b[2m\u001b[36m(pid=12949)\u001b[0m Using TensorFlow backend.\n",
      "\u001b[2m\u001b[36m(pid=12927)\u001b[0m Using TensorFlow backend.\n",
      "\u001b[2m\u001b[36m(pid=12930)\u001b[0m Using TensorFlow backend.\n",
      "\u001b[2m\u001b[36m(pid=12932)\u001b[0m Using TensorFlow backend.\n",
      "\u001b[2m\u001b[36m(pid=12941)\u001b[0m Using TensorFlow backend.\n",
      "\u001b[2m\u001b[36m(pid=12946)\u001b[0m Using TensorFlow backend.\n"
     ]
    }
   ],
   "source": [
    "# Reminder that the bahavior logits that come out are the mean and logstd (not log mean, despite the name logit)\n",
    "trainer.compute_action(obs, full_fetch=True)"
   ]
  },
  {
   "cell_type": "code",
   "execution_count": null,
   "metadata": {},
   "outputs": [],
   "source": []
  }
 ],
 "metadata": {
  "kernelspec": {
   "display_name": "Python 3",
   "language": "python",
   "name": "python3"
  },
  "language_info": {
   "codemirror_mode": {
    "name": "ipython",
    "version": 3
   },
   "file_extension": ".py",
   "mimetype": "text/x-python",
   "name": "python",
   "nbconvert_exporter": "python",
   "pygments_lexer": "ipython3",
   "version": "3.6.9"
  }
 },
 "nbformat": 4,
 "nbformat_minor": 4
}
