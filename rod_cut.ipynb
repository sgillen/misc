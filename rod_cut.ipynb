{
 "cells": [
  {
   "cell_type": "markdown",
   "metadata": {},
   "source": [
    "We're going to solve the rod cutting problem with dynamic programming. This is a problem straight out of CLRS.\n",
    "\n",
    "We're given a rod of integer length n.\n",
    "We'e also give a list of prices p. p[i] is the price you get for selling a rod of length i. \n",
    "\n",
    "The goal is to figure out how to cut a rod given to you in order to maximize profits. "
   ]
  },
  {
   "cell_type": "code",
   "execution_count": 17,
   "metadata": {},
   "outputs": [],
   "source": [
    "def best_cut_naive(rod_length, price):\n",
    "    \n",
    "    \"\"\"\n",
    "    Finds the optimal way to cut up a rod of length n given a list of prices p\n",
    "    \n",
    "    Should return the best price you can get, we'll make that better in a bit\n",
    "    \"\"\"    \n",
    "\n",
    "    if rod_length == 0:\n",
    "        return 0\n",
    "    \n",
    "    best_price = 0 # You need to start as early as possible\n",
    "    \n",
    "    for i in range(rod_length):\n",
    "        best_price = max(best_price, price[i] + best_cut_naive(rod_length - (i+1), price))\n",
    "                         \n",
    "    return best_price\n",
    "\n",
    "\n",
    "def best_cut_memo(rod_length, price, best_price_table = {}):\n",
    "    \n",
    "    \"\"\"\n",
    "    Finds the optimal way to cut up a rod of length n given a list of prices p\n",
    "    This one memoizes the results to make things way way faster\n",
    "    \n",
    "    Should return the best price you can get, we'll make that better in a bit\n",
    "    \"\"\"    \n",
    "\n",
    "    if rod_length == 0:\n",
    "        return 0\n",
    "    \n",
    "    if rod_length in best_price_table:\n",
    "        return best_price_table[rod_length]\n",
    "    \n",
    "    best_price = 0 # You need to start as early as possible\n",
    "    \n",
    "    for i in range(rod_length):\n",
    "        best_price = max(best_price, price[i] + best_cut_memo(rod_length - (i+1), price,best_price_table))\n",
    "                         \n",
    "            \n",
    "    best_price_table[rod_length] = best_price\n",
    "    return best_price\n",
    "        \n",
    "        \n",
    "\n",
    "    "
   ]
  },
  {
   "cell_type": "code",
   "execution_count": 27,
   "metadata": {},
   "outputs": [],
   "source": [
    "p = [i for i in range(1,100)] # can be whatever you want, should work just fine\n",
    "#import pdb; pdb.set_trace()\n",
    "#best_cut_naive(100,p)"
   ]
  },
  {
   "cell_type": "code",
   "execution_count": 28,
   "metadata": {},
   "outputs": [
    {
     "data": {
      "text/plain": [
       "101"
      ]
     },
     "execution_count": 28,
     "metadata": {},
     "output_type": "execute_result"
    }
   ],
   "source": [
    "best_cut_memo(99,p)"
   ]
  },
  {
   "cell_type": "code",
   "execution_count": 29,
   "metadata": {},
   "outputs": [
    {
     "data": {
      "text/plain": [
       "[1,\n",
       " 2,\n",
       " 3,\n",
       " 4,\n",
       " 5,\n",
       " 6,\n",
       " 7,\n",
       " 8,\n",
       " 9,\n",
       " 10,\n",
       " 11,\n",
       " 12,\n",
       " 13,\n",
       " 14,\n",
       " 15,\n",
       " 16,\n",
       " 17,\n",
       " 18,\n",
       " 19,\n",
       " 20,\n",
       " 21,\n",
       " 22,\n",
       " 23,\n",
       " 24,\n",
       " 25,\n",
       " 26,\n",
       " 27,\n",
       " 28,\n",
       " 29,\n",
       " 30,\n",
       " 31,\n",
       " 32,\n",
       " 33,\n",
       " 34,\n",
       " 35,\n",
       " 36,\n",
       " 37,\n",
       " 38,\n",
       " 39,\n",
       " 40,\n",
       " 41,\n",
       " 42,\n",
       " 43,\n",
       " 44,\n",
       " 45,\n",
       " 46,\n",
       " 47,\n",
       " 48,\n",
       " 49,\n",
       " 50,\n",
       " 51,\n",
       " 52,\n",
       " 53,\n",
       " 54,\n",
       " 55,\n",
       " 56,\n",
       " 57,\n",
       " 58,\n",
       " 59,\n",
       " 60,\n",
       " 61,\n",
       " 62,\n",
       " 63,\n",
       " 64,\n",
       " 65,\n",
       " 66,\n",
       " 67,\n",
       " 68,\n",
       " 69,\n",
       " 70,\n",
       " 71,\n",
       " 72,\n",
       " 73,\n",
       " 74,\n",
       " 75,\n",
       " 76,\n",
       " 77,\n",
       " 78,\n",
       " 79,\n",
       " 80,\n",
       " 81,\n",
       " 82,\n",
       " 83,\n",
       " 84,\n",
       " 85,\n",
       " 86,\n",
       " 87,\n",
       " 88,\n",
       " 89,\n",
       " 90,\n",
       " 91,\n",
       " 92,\n",
       " 93,\n",
       " 94,\n",
       " 95,\n",
       " 96,\n",
       " 97,\n",
       " 98,\n",
       " 99]"
      ]
     },
     "execution_count": 29,
     "metadata": {},
     "output_type": "execute_result"
    }
   ],
   "source": [
    "p"
   ]
  },
  {
   "cell_type": "code",
   "execution_count": null,
   "metadata": {},
   "outputs": [],
   "source": []
  }
 ],
 "metadata": {
  "kernelspec": {
   "display_name": "Python [default]",
   "language": "python",
   "name": "python3"
  },
  "language_info": {
   "codemirror_mode": {
    "name": "ipython",
    "version": 3
   },
   "file_extension": ".py",
   "mimetype": "text/x-python",
   "name": "python",
   "nbconvert_exporter": "python",
   "pygments_lexer": "ipython3",
   "version": "3.6.7"
  }
 },
 "nbformat": 4,
 "nbformat_minor": 2
}
