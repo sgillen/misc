{
 "cells": [
  {
   "cell_type": "markdown",
   "metadata": {},
   "source": [
    "This uses the open AI gym baseline with some slight modifications. Mostly copied code from here\n",
    "https://github.com/openai/baselines/tree/master/baselines/ppo1. Looks like the version I got from pip and the version currently on master don't quite sync up. (For example there is no tf_util.save_state fcn so we save manually"
   ]
  },
  {
   "cell_type": "code",
   "execution_count": 6,
   "metadata": {},
   "outputs": [],
   "source": [
    "from baselines.common.cmd_util import make_mujoco_env, mujoco_arg_parser\n",
    "from baselines.common import tf_util as U\n",
    "import tensorflow as tf\n",
    "from baselines import logger\n",
    "import os\n",
    "from baselines.ppo1 import mlp_policy, pposgd_simple\n",
    "\n",
    "import gym\n",
    "import seagul.envs\n",
    "import sgillen_research.policies.mlp_relu_policy as mlp_relu_policy\n",
    "\n",
    "\n",
    "#Needed for saving \n",
    "import errno, datetime, time, inspect\n",
    "\n",
    "\n",
    "def train(env_id, num_timesteps, seed=0):\n",
    "\n",
    "    U.make_session(num_cpu=16).__enter__()\n",
    "    \n",
    "    def policy_fn(name, ob_space, ac_space):\n",
    "        #return mlp_policy.MlpPolicy(name=name, ob_space=ob_space, ac_space=ac_space, hid_size=64, num_hid_layers=64)\n",
    "        return mlp_relu_policy.ReluMlpPolicy(name=name, ob_space=ob_space, ac_space=ac_space, hid_size=64, num_hid_layers=64)\n",
    "\n",
    "    env = gym.make(env_id)\n",
    "    pi = pposgd_simple.learn(env, policy_fn,\n",
    "            max_timesteps=num_timesteps,\n",
    "            timesteps_per_actorbatch=2048,\n",
    "            clip_param=0.2, entcoeff=0.0,\n",
    "            optim_epochs=10, optim_stepsize=3e-4, optim_batchsize=64,\n",
    "            gamma=0.99, lam=0.95, schedule='linear',\n",
    "        )\n",
    "    env.close()\n",
    "   \n",
    "    return pi\n",
    "\n",
    "\n",
    "\n",
    "def save_results(filename, description = None):\n",
    "    \"\"\" \n",
    "    description: saves the results of a run of the second cell (the one that calls train) in this notebook\n",
    "    \n",
    "    \"\"\"\n",
    "\n",
    "    save_dir = \"data/\" + filename + \"/\"\n",
    "    os.makedirs(save_dir)\n",
    "    \n",
    "    if description is None:\n",
    "        description  = input(\"please enter a description of the run\")\n",
    "        \n",
    "    datetime_str = str(datetime.datetime.today())\n",
    "    datetime_str = datetime_str.replace(\" \", \"_\")\n",
    "    \n",
    "    runtime_str = str(datetime.timedelta(seconds = runtime))\n",
    "    \n",
    "    readme = open(save_dir + \"README.txt\", \"w+\")\n",
    "    readme.write(\"datetime: \" + datetime_str + \"\\n\\n\")\n",
    "    readme.write(\"enviroment: \" + env_name + \"\\n\\n\")\n",
    "    readme.write(\"description: \" + description + \"\\n\\n\")\n",
    "    readme.write(\"time_elapsed: \" + runtime_str + \"\\n\\n\")\n",
    "    readme.write(\"num_timesteps: \" + str(num_timesteps) + \"\\n\\n\")\n",
    "    readme.write(\"seed: \" + str(seed) + \"\\n\\n\")\n",
    "    readme.close()\n",
    "\n",
    "    # TODO add code snippets that correspond to the run\n",
    "    # TODO somehow store the tensorboard logs here after the fact\n",
    "    \n",
    "    saver = tf.train.Saver()\n",
    "    saver.save(tf.get_default_session(), save_dir + filename)\n",
    "    \n",
    "    os.rename(\"./tmp_logs/\", save_dir + \"tensorboard\")\n",
    "   \n",
    "   \n",
    "env_name = \"Acrobot-v1\"\n",
    "#env_name = 'InvertedPendulumPyBulletEnv-v0'\n",
    "#env_name = \"su_cartpole_et-v0\"\n",
    "#env_name = \"InvertedDoublePendulum-v2\"\n"
   ]
  },
  {
   "cell_type": "code",
   "execution_count": 2,
   "metadata": {},
   "outputs": [
    {
     "ename": "NameError",
     "evalue": "name 'time' is not defined",
     "traceback": [
      "\u001b[0;31m---------------------------------------------------------------------------\u001b[0m",
      "\u001b[0;31mNameError\u001b[0m                                 Traceback (most recent call last)",
      "\u001b[0;32m<ipython-input-2-97ea426b9cd7>\u001b[0m in \u001b[0;36m<module>\u001b[0;34m()\u001b[0m\n\u001b[0;32m----> 1\u001b[0;31m \u001b[0mstart_time\u001b[0m \u001b[0;34m=\u001b[0m \u001b[0mtime\u001b[0m\u001b[0;34m.\u001b[0m\u001b[0mtime\u001b[0m\u001b[0;34m(\u001b[0m\u001b[0;34m)\u001b[0m\u001b[0;34m\u001b[0m\u001b[0m\n\u001b[0m\u001b[1;32m      2\u001b[0m \u001b[0;34m\u001b[0m\u001b[0m\n\u001b[1;32m      3\u001b[0m \u001b[0;34m\u001b[0m\u001b[0m\n\u001b[1;32m      4\u001b[0m \u001b[0mnum_timesteps\u001b[0m \u001b[0;34m=\u001b[0m \u001b[0;36m2e6\u001b[0m\u001b[0;34m\u001b[0m\u001b[0m\n\u001b[1;32m      5\u001b[0m \u001b[0mseed\u001b[0m \u001b[0;34m=\u001b[0m \u001b[0;36m0\u001b[0m\u001b[0;34m\u001b[0m\u001b[0m\n",
      "\u001b[0;31mNameError\u001b[0m: name 'time' is not defined"
     ],
     "output_type": "error"
    }
   ],
   "source": [
    "start_time = time.time()\n",
    "\n",
    "\n",
    "num_timesteps = 2e6\n",
    "seed = 0\n",
    "\n",
    "logger.configure(dir = \"./tmp_logs\", format_strs=[\"tensorboard\"] )\n",
    "with tf.device(\"/cpu:0\"):    \n",
    "    pi= train(env_name, num_timesteps=num_timesteps, seed=seed)\n",
    "    \n",
    "runtime = time.time() - start_time\n"
   ]
  },
  {
   "cell_type": "code",
   "execution_count": null,
   "metadata": {},
   "outputs": [],
   "source": [
    "env = make_mujoco_env(env_name,seed=0)\n",
    "ob = env.reset()     \n",
    "\n",
    "while True:\n",
    "    action = pi.act(stochastic=False, ob=ob)[0]\n",
    "    ob, _, done, _ =  env.step(action)\n",
    "    if reward == 1:\n",
    "        print(\"balanced\")\n",
    "    #env.render()\n",
    "    if done:\n",
    "        ob = env.reset()\n",
    "        \n",
    "#U.save_state(\"./saved/5mil_flat\")"
   ]
  },
  {
   "cell_type": "code",
   "execution_count": 3,
   "metadata": {},
   "outputs": [
    {
     "name": "stdout",
     "output_type": "stream",
     "text": [
      "Logging to /var/folders/qq/gpxz4l6s1tndfdhysbz8bdym0000gn/T/openai-2018-11-17-13-33-33-613084\n",
      "\u001b[33mWARN: gym.spaces.Box autodetected dtype as <class 'numpy.float32'>. Please provide explicit dtype.\u001b[0m\n",
      "********** Iteration 0 ************\n",
      "Optimizing...\n",
      "     pol_surr |    pol_entpen |       vf_loss |            kl |           ent\n",
      "    -7.15e-06 |       0.00000 |     197.39848 |      4.18e-05 |       1.09857\n",
      "     -0.00138 |       0.00000 |     124.14509 |       0.00359 |       1.09511\n",
      "     -0.00572 |       0.00000 |      92.07592 |       0.01012 |       1.08885\n",
      "     -0.00517 |       0.00000 |      73.44666 |       0.01165 |       1.08728\n",
      "     -0.00525 |       0.00000 |      60.46016 |       0.01204 |       1.08678\n",
      "     -0.00595 |       0.00000 |      50.51894 |       0.01164 |       1.08707\n",
      "     -0.00655 |       0.00000 |      42.48680 |       0.01282 |       1.08603\n",
      "     -0.00612 |       0.00000 |      35.85674 |       0.01216 |       1.08658\n",
      "     -0.00654 |       0.00000 |      30.31948 |       0.01305 |       1.08576\n",
      "     -0.00647 |       0.00000 |      25.67469 |       0.01271 |       1.08602\n",
      "Evaluating losses...\n",
      "     -0.00674 |       0.00000 |      23.56456 |       0.01262 |       1.08614\n",
      "-----------------------------------\n",
      "| EpisodesSoFar   | 4             |\n",
      "| EpLenMean       | 500           |\n",
      "| EpRewMean       | -500          |\n",
      "| EpThisIter      | 4             |\n",
      "| ev_tdlam_before | -0.00225      |\n",
      "| loss_ent        | 1.086144      |\n",
      "| loss_kl         | 0.012619764   |\n",
      "| loss_pol_entpen | 0.0           |\n",
      "| loss_pol_surr   | -0.0067404686 |\n",
      "| loss_vf_loss    | 23.564564     |\n",
      "| TimeElapsed     | 15.5          |\n",
      "| TimestepsSoFar  | 2000          |\n",
      "-----------------------------------\n",
      "load_state method is deprecated, please use load_variables instead\n"
     ]
    },
    {
     "ename": "ValueError",
     "evalue": "The passed save_path is not a valid checkpoint: ./acrobot1",
     "traceback": [
      "\u001b[0;31m---------------------------------------------------------------------------\u001b[0m",
      "\u001b[0;31mValueError\u001b[0m                                Traceback (most recent call last)",
      "\u001b[0;32m<ipython-input-3-587a8b1e6dc7>\u001b[0m in \u001b[0;36m<module>\u001b[0;34m()\u001b[0m\n\u001b[1;32m     10\u001b[0m \u001b[0;34m\u001b[0m\u001b[0m\n\u001b[1;32m     11\u001b[0m \u001b[0mpi\u001b[0m \u001b[0;34m=\u001b[0m \u001b[0mtrain\u001b[0m\u001b[0;34m(\u001b[0m\u001b[0menv_name\u001b[0m\u001b[0;34m,\u001b[0m \u001b[0mnum_timesteps\u001b[0m\u001b[0;34m=\u001b[0m\u001b[0;36m1\u001b[0m\u001b[0;34m,\u001b[0m \u001b[0mseed\u001b[0m\u001b[0;34m=\u001b[0m\u001b[0;36m0\u001b[0m\u001b[0;34m)\u001b[0m\u001b[0;34m\u001b[0m\u001b[0m\n\u001b[0;32m---> 12\u001b[0;31m \u001b[0mU\u001b[0m\u001b[0;34m.\u001b[0m\u001b[0mload_state\u001b[0m\u001b[0;34m(\u001b[0m\u001b[0;34m'./acrobot1'\u001b[0m\u001b[0;34m)\u001b[0m\u001b[0;34m\u001b[0m\u001b[0m\n\u001b[0m\u001b[1;32m     13\u001b[0m \u001b[0;31m#os.makedirs(os.path.dirname(\"./saved\"), exist_ok=True)\u001b[0m\u001b[0;34m\u001b[0m\u001b[0;34m\u001b[0m\u001b[0m\n\u001b[1;32m     14\u001b[0m \u001b[0;31m#saver = tf.train.Saver()\u001b[0m\u001b[0;34m\u001b[0m\u001b[0;34m\u001b[0m\u001b[0m\n",
      "\u001b[0;32m~/work_dir/baselines/baselines/common/tf_util.py\u001b[0m in \u001b[0;36mload_state\u001b[0;34m(fname, sess)\u001b[0m\n\u001b[1;32m    321\u001b[0m     \u001b[0msess\u001b[0m \u001b[0;34m=\u001b[0m \u001b[0msess\u001b[0m \u001b[0;32mor\u001b[0m \u001b[0mget_session\u001b[0m\u001b[0;34m(\u001b[0m\u001b[0;34m)\u001b[0m\u001b[0;34m\u001b[0m\u001b[0m\n\u001b[1;32m    322\u001b[0m     \u001b[0msaver\u001b[0m \u001b[0;34m=\u001b[0m \u001b[0mtf\u001b[0m\u001b[0;34m.\u001b[0m\u001b[0mtrain\u001b[0m\u001b[0;34m.\u001b[0m\u001b[0mSaver\u001b[0m\u001b[0;34m(\u001b[0m\u001b[0;34m)\u001b[0m\u001b[0;34m\u001b[0m\u001b[0m\n\u001b[0;32m--> 323\u001b[0;31m     \u001b[0msaver\u001b[0m\u001b[0;34m.\u001b[0m\u001b[0mrestore\u001b[0m\u001b[0;34m(\u001b[0m\u001b[0mtf\u001b[0m\u001b[0;34m.\u001b[0m\u001b[0mget_default_session\u001b[0m\u001b[0;34m(\u001b[0m\u001b[0;34m)\u001b[0m\u001b[0;34m,\u001b[0m \u001b[0mfname\u001b[0m\u001b[0;34m)\u001b[0m\u001b[0;34m\u001b[0m\u001b[0m\n\u001b[0m\u001b[1;32m    324\u001b[0m \u001b[0;34m\u001b[0m\u001b[0m\n\u001b[1;32m    325\u001b[0m \u001b[0;32mdef\u001b[0m \u001b[0msave_state\u001b[0m\u001b[0;34m(\u001b[0m\u001b[0mfname\u001b[0m\u001b[0;34m,\u001b[0m \u001b[0msess\u001b[0m\u001b[0;34m=\u001b[0m\u001b[0;32mNone\u001b[0m\u001b[0;34m)\u001b[0m\u001b[0;34m:\u001b[0m\u001b[0;34m\u001b[0m\u001b[0m\n",
      "\u001b[0;32m~/anaconda3/lib/python3.6/site-packages/tensorflow/python/training/saver.py\u001b[0m in \u001b[0;36mrestore\u001b[0;34m(self, sess, save_path)\u001b[0m\n\u001b[1;32m   1715\u001b[0m     \u001b[0;32mif\u001b[0m \u001b[0;32mnot\u001b[0m \u001b[0mcheckpoint_exists\u001b[0m\u001b[0;34m(\u001b[0m\u001b[0mcompat\u001b[0m\u001b[0;34m.\u001b[0m\u001b[0mas_text\u001b[0m\u001b[0;34m(\u001b[0m\u001b[0msave_path\u001b[0m\u001b[0;34m)\u001b[0m\u001b[0;34m)\u001b[0m\u001b[0;34m:\u001b[0m\u001b[0;34m\u001b[0m\u001b[0m\n\u001b[1;32m   1716\u001b[0m       raise ValueError(\"The passed save_path is not a valid checkpoint: \"\n\u001b[0;32m-> 1717\u001b[0;31m                        + compat.as_text(save_path))\n\u001b[0m\u001b[1;32m   1718\u001b[0m \u001b[0;34m\u001b[0m\u001b[0m\n\u001b[1;32m   1719\u001b[0m     \u001b[0mlogging\u001b[0m\u001b[0;34m.\u001b[0m\u001b[0minfo\u001b[0m\u001b[0;34m(\u001b[0m\u001b[0;34m\"Restoring parameters from %s\"\u001b[0m\u001b[0;34m,\u001b[0m \u001b[0mcompat\u001b[0m\u001b[0;34m.\u001b[0m\u001b[0mas_text\u001b[0m\u001b[0;34m(\u001b[0m\u001b[0msave_path\u001b[0m\u001b[0;34m)\u001b[0m\u001b[0;34m)\u001b[0m\u001b[0;34m\u001b[0m\u001b[0m\n",
      "\u001b[0;31mValueError\u001b[0m: The passed save_path is not a valid checkpoint: ./acrobot1"
     ],
     "output_type": "error"
    }
   ],
   "source": [
    "#def loaded_policy_fn(name, ob_space, ac_space):\n",
    "#    return mlp_policy.MlpPolicy(name=name, ob_space=ob_space, ac_space=ac_space, hid_size=64, num_hid_layers=2)\n",
    "\n",
    "#loader = tf.train.Saver()\n",
    "#session = loader.restore(tf.get_default_session(), 'saved/test.save')\n",
    "\n",
    "#env_name = \"Acrobot1\"\n",
    "\n",
    "logger.configure()\n",
    "\n",
    "pi = train(env_name, num_timesteps=1, seed=0)\n",
    "U.load_state('./acrobot1')\n",
    "#os.makedirs(os.path.dirname(\"./saved\"), exist_ok=True)\n",
    "#saver = tf.train.Saver()\n",
    "#saver.save(tf.get_default_session(), \"./saved/test.save\")\n",
    "    \n",
    "#env = make_mujoco_env('Walker2d-v2',seed=0)\n",
    "env = gym.make(env_name)\n",
    "ob = env.reset()     \n",
    "\n",
    "while True:\n",
    "    action = pi.act(stochastic=False, ob=ob)[0]\n",
    "    ob, _, done, _ =  env.step(action)\n",
    "    env.render()\n",
    "    if done:\n",
    "        ob = env.reset()"
   ]
  },
  {
   "cell_type": "code",
   "execution_count": null,
   "metadata": {},
   "outputs": [],
   "source": [
    "pi.get_variables()\n",
    "print(logger.dumpkvs())"
   ]
  },
  {
   "cell_type": "code",
   "execution_count": null,
   "metadata": {},
   "outputs": [],
   "source": [
    "mlp_policy.MlpPolicy"
   ]
  },
  {
   "cell_type": "code",
   "execution_count": null,
   "metadata": {},
   "outputs": [],
   "source": [
    "a = {1:'yellow'}"
   ]
  },
  {
   "cell_type": "code",
   "execution_count": null,
   "metadata": {},
   "outputs": [],
   "source": [
    "a[1]"
   ]
  },
  {
   "cell_type": "code",
   "execution_count": null,
   "metadata": {},
   "outputs": [],
   "source": []
  }
 ],
 "metadata": {
  "kernelspec": {
   "display_name": "Python [conda env:anaconda3]",
   "language": "python",
   "name": "conda-env-anaconda3-py"
  },
  "language_info": {
   "codemirror_mode": {
    "name": "ipython",
    "version": 3
   },
   "file_extension": ".py",
   "mimetype": "text/x-python",
   "name": "python",
   "nbconvert_exporter": "python",
   "pygments_lexer": "ipython3",
   "version": "3.6.3"
  }
 },
 "nbformat": 4,
 "nbformat_minor": 2
}
