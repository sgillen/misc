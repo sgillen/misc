{
 "cells": [
  {
   "cell_type": "markdown",
   "metadata": {},
   "source": [
    "https://leetcode.com/problems/median-of-two-sorted-arrays/description/\n",
    "\n",
    "find the median of two sorted arrays"
   ]
  },
  {
   "cell_type": "code",
   "execution_count": 19,
   "metadata": {},
   "outputs": [],
   "source": [
    "def med(nums1, nums2):\n",
    "    big_list = nums1 + nums2\n",
    "    big_list.sort()\n",
    "    \n",
    "    if(len(big_list) % 2 == 0):  # list is even and we take average of middle two numbers\n",
    "        right_index = int((len(big_list))/2) + 1\n",
    "        left_index = int((len(big_list))/2)\n",
    "        \n",
    "        return((big_list[right_index] + big_list[left_index])/2)\n",
    "        \n",
    "    else: #list is odd so we just return middle number\n",
    "        ret_index = int((len(big_list))/2)\n",
    "        return big_list[ret_index]\n",
    "    \n",
    "    return(big_list)"
   ]
  },
  {
   "cell_type": "code",
   "execution_count": 20,
   "metadata": {},
   "outputs": [
    {
     "name": "stdout",
     "output_type": "stream",
     "text": [
      "4.5\n"
     ]
    }
   ],
   "source": [
    "nums1 = [1,3,6]\n",
    "nums2 = [2]\n",
    "\n",
    "print(med(nums1,nums2))"
   ]
  },
  {
   "cell_type": "code",
   "execution_count": 14,
   "metadata": {},
   "outputs": [
    {
     "data": {
      "text/plain": [
       "1"
      ]
     },
     "execution_count": 14,
     "metadata": {},
     "output_type": "execute_result"
    }
   ],
   "source": [
    "l = [1,2,3,]\n",
    "int((len(l))/2)"
   ]
  },
  {
   "cell_type": "code",
   "execution_count": null,
   "metadata": {},
   "outputs": [],
   "source": []
  }
 ],
 "metadata": {
  "kernelspec": {
   "display_name": "Python 3",
   "language": "python",
   "name": "python3"
  },
  "language_info": {
   "codemirror_mode": {
    "name": "ipython",
    "version": 3
   },
   "file_extension": ".py",
   "mimetype": "text/x-python",
   "name": "python",
   "nbconvert_exporter": "python",
   "pygments_lexer": "ipython3",
   "version": "3.6.5"
  }
 },
 "nbformat": 4,
 "nbformat_minor": 2
}
