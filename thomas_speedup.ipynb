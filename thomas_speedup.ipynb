{
 "cells": [
  {
   "cell_type": "code",
   "execution_count": 21,
   "metadata": {},
   "outputs": [],
   "source": [
    "import numpy as np\n",
    "\n",
    "A = np.random.randn(9,9)"
   ]
  },
  {
   "cell_type": "code",
   "execution_count": 22,
   "metadata": {},
   "outputs": [
    {
     "data": {
      "text/plain": [
       "array([[ 2.79960775e-01, -3.63029694e-01,  5.27429695e-03,\n",
       "        -7.29514466e-01, -1.78100750e-01, -9.06052465e-01,\n",
       "         9.20766803e-01, -5.64601333e-01,  1.39215038e-01],\n",
       "       [-2.04891995e-03,  1.25301813e+00,  3.66774045e-01,\n",
       "        -1.39120161e+00, -1.66587042e+00,  3.53207818e-02,\n",
       "         1.60535127e+00, -2.98419239e-01,  5.40482196e-01],\n",
       "       [ 2.44338785e+00,  7.39863996e-01, -6.10929595e-01,\n",
       "        -4.79350836e-01, -5.89739923e-01,  1.71067576e+00,\n",
       "        -1.50870224e+00,  2.04669213e-01,  4.99414814e-01],\n",
       "       [-1.26283547e-02, -1.93610488e-01, -2.05878357e-01,\n",
       "        -2.11427640e+00,  6.69002816e-03,  3.72915557e-01,\n",
       "        -6.14451184e-01, -1.87375329e+00, -4.71209039e-01],\n",
       "       [ 9.02249441e-02,  3.79977002e-01,  1.06289768e+00,\n",
       "        -8.41614072e-02,  9.40325004e-01, -1.18203648e+00,\n",
       "         1.73125354e+00, -7.42539534e-01,  1.14896690e+00],\n",
       "       [-1.81913962e+00,  5.11235844e-01,  8.45962827e-01,\n",
       "         1.72044168e-02,  1.37816990e+00, -6.26970707e-01,\n",
       "        -1.34564114e-01,  3.16468756e-01, -3.65261219e-01],\n",
       "       [ 3.38740497e-02, -1.17205922e+00, -2.05312478e-01,\n",
       "         9.99102720e-01, -4.22264809e-01, -2.35208693e-01,\n",
       "         5.56702732e-02,  1.78995739e-01,  2.15739752e-01],\n",
       "       [ 4.52733390e-02, -4.55167505e-01, -2.10195275e-01,\n",
       "         9.29674844e-01,  1.14658096e+00, -5.36490110e-01,\n",
       "         1.35605668e+00,  1.05961655e+00, -1.70723105e+00],\n",
       "       [-3.89299102e-01,  6.71595737e-01,  4.04745436e-03,\n",
       "        -1.91867809e+00,  1.49853450e-01, -2.36220319e+00,\n",
       "         5.85940317e-01, -2.36285401e-02,  1.28415895e+00]])"
      ]
     },
     "execution_count": 22,
     "metadata": {},
     "output_type": "execute_result"
    }
   ],
   "source": [
    "A"
   ]
  },
  {
   "cell_type": "code",
   "execution_count": 29,
   "metadata": {},
   "outputs": [
    {
     "name": "stdout",
     "output_type": "stream",
     "text": [
      "11.7 µs ± 143 ns per loop (mean ± std. dev. of 7 runs, 100000 loops each)\n"
     ]
    }
   ],
   "source": [
    "%%timeit\n",
    "\n",
    "b = np.zeros((41*9,1))\n",
    "for ai, a in enumerate(np.diag(A)):\n",
    "    b[ai:ai*41+41] = a\n",
    "    \n",
    "B = np.diag(b)"
   ]
  },
  {
   "cell_type": "code",
   "execution_count": 28,
   "metadata": {},
   "outputs": [
    {
     "name": "stdout",
     "output_type": "stream",
     "text": [
      "116 µs ± 1.3 µs per loop (mean ± std. dev. of 7 runs, 10000 loops each)\n"
     ]
    }
   ],
   "source": [
    "%%timeit\n",
    "\n",
    "b = np.zeros((41*9,41*9))\n",
    "for ai, a in enumerate(np.diag(A)):\n",
    "    for bi in range(41): \n",
    "        b[ai*41 + bi,ai*41 + bi] = a\n",
    "    \n",
    "B = np.diag(b)"
   ]
  },
  {
   "cell_type": "code",
   "execution_count": 18,
   "metadata": {},
   "outputs": [
    {
     "data": {
      "text/plain": [
       "array([[-0.2462068 ,  0.        ,  0.        ,  0.        ,  0.        ,\n",
       "         0.        ],\n",
       "       [ 0.        , -0.2462068 ,  0.        ,  0.        ,  0.        ,\n",
       "         0.        ],\n",
       "       [ 0.        ,  0.        , -1.08621953,  0.        ,  0.        ,\n",
       "         0.        ],\n",
       "       [ 0.        ,  0.        ,  0.        , -1.08621953,  0.        ,\n",
       "         0.        ],\n",
       "       [ 0.        ,  0.        ,  0.        ,  0.        , -0.15475525,\n",
       "         0.        ],\n",
       "       [ 0.        ,  0.        ,  0.        ,  0.        ,  0.        ,\n",
       "        -0.15475525]])"
      ]
     },
     "execution_count": 18,
     "metadata": {},
     "output_type": "execute_result"
    }
   ],
   "source": [
    "A = np.zeros()"
   ]
  },
  {
   "cell_type": "code",
   "execution_count": null,
   "metadata": {},
   "outputs": [],
   "source": []
  }
 ],
 "metadata": {
  "kernelspec": {
   "display_name": "Base Conda",
   "language": "python",
   "name": "base"
  },
  "language_info": {
   "codemirror_mode": {
    "name": "ipython",
    "version": 3
   },
   "file_extension": ".py",
   "mimetype": "text/x-python",
   "name": "python",
   "nbconvert_exporter": "python",
   "pygments_lexer": "ipython3",
   "version": "3.7.4"
  }
 },
 "nbformat": 4,
 "nbformat_minor": 4
}
