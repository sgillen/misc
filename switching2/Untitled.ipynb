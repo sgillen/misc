{
 "cells": [
  {
   "cell_type": "code",
   "execution_count": null,
   "metadata": {},
   "outputs": [
    {
     "name": "stdout",
     "output_type": "stream",
     "text": [
      "> \u001b[0;32m/home/sgillen/work/seagul/seagul/envs/drake/acrobot.py\u001b[0m(50)\u001b[0;36m__init__\u001b[0;34m()\u001b[0m\n",
      "\u001b[0;32m     49 \u001b[0;31m\u001b[0;34m\u001b[0m\u001b[0m\n",
      "\u001b[0m\u001b[0;32m---> 50 \u001b[0;31m        \u001b[0mhigh\u001b[0m \u001b[0;34m=\u001b[0m \u001b[0mnp\u001b[0m\u001b[0;34m.\u001b[0m\u001b[0marray\u001b[0m\u001b[0;34m(\u001b[0m\u001b[0;34m[\u001b[0m\u001b[0;36m2\u001b[0m\u001b[0;34m*\u001b[0m\u001b[0mpi\u001b[0m\u001b[0;34m,\u001b[0m \u001b[0mpi\u001b[0m\u001b[0;34m,\u001b[0m \u001b[0;36m100\u001b[0m\u001b[0;34m,\u001b[0m \u001b[0;36m100\u001b[0m\u001b[0;34m]\u001b[0m\u001b[0;34m)\u001b[0m\u001b[0;34m\u001b[0m\u001b[0;34m\u001b[0m\u001b[0m\n",
      "\u001b[0m\u001b[0;32m     51 \u001b[0;31m        \u001b[0mlow\u001b[0m \u001b[0;34m=\u001b[0m \u001b[0mnp\u001b[0m\u001b[0;34m.\u001b[0m\u001b[0marray\u001b[0m\u001b[0;34m(\u001b[0m\u001b[0;34m[\u001b[0m\u001b[0;36m0\u001b[0m\u001b[0;34m,\u001b[0m \u001b[0;34m-\u001b[0m\u001b[0mpi\u001b[0m\u001b[0;34m,\u001b[0m \u001b[0;34m-\u001b[0m\u001b[0;36m100\u001b[0m\u001b[0;34m,\u001b[0m \u001b[0;34m-\u001b[0m\u001b[0;36m100\u001b[0m\u001b[0;34m]\u001b[0m\u001b[0;34m)\u001b[0m\u001b[0;34m\u001b[0m\u001b[0;34m\u001b[0m\u001b[0m\n",
      "\u001b[0m\n"
     ]
    },
    {
     "name": "stdin",
     "output_type": "stream",
     "text": [
      "ipdb>  c\n"
     ]
    }
   ],
   "source": [
    "from seagul.rl.run_utils import run_sg, run_and_save_bs\n",
    "from seagul.rl.algos import ppo, ppo_switch\n",
    "from seagul.rl.models import PPOModel, SwitchedPPOModel, PPOModelActHold\n",
    "from seagul.nn import MLP, CategoricalMLP\n",
    "from seagul.sims.cartpole import LQRControl\n",
    "from multiprocessing import Process\n",
    "import seagul.envs\n",
    "\n",
    "import time\n",
    "\n",
    "import torch\n",
    "import torch.nn as nn\n",
    "\n",
    "import gym\n",
    "\n",
    "## init policy, valuefn\n",
    "input_size = 6\n",
    "output_size = 1\n",
    "layer_size = 12\n",
    "num_layers=2\n",
    "activation=nn.Tanh\n",
    "\n",
    "torch.set_default_dtype(torch.double)\n",
    "proc_list = []\n",
    "\n",
    "for seed in range(6,10):\n",
    "\n",
    "    policy = MLP(input_size, output_size, num_layers, layer_size, activation)\n",
    "\n",
    "    # model = PPOModelActHold(\n",
    "    #     policy=policy,\n",
    "    #     value_fn=MLP(input_size, 1, num_layers, layer_size, activation),\n",
    "    #     discrete=False,\n",
    "    #     hold_count = 200\n",
    "    # )\n",
    "\n",
    "    model = PPOModel(\n",
    "        policy=policy,\n",
    "        value_fn=MLP(input_size, 1, num_layers, layer_size, activation),\n",
    "        discrete=False,\n",
    "    )\n",
    "\n",
    "    arg_dict = {\n",
    "        'env_name' : 'su_acro_drake-v0',\n",
    "        'model' : model,\n",
    "        'action_var_schedule' : [1,1],\n",
    "        'seed' : seed, #int((time.time() % 1)*1e8),\n",
    "        'num_epochs' : 1000,\n",
    "        'gamma' : 1,\n",
    "        'p_epochs' : 10,\n",
    "        'v_epochs' : 10\n",
    "        \n",
    "    }\n",
    "    run_name = \"seed\" + str(seed)\n",
    "    #run_sg(arg_dict, ppo, run_name, 'aaghhh', \"/data/ac robot8/\")\n",
    "    run_sg(arg_dict, ppo, run_name, 'running my own POO as a baseline', \"/data/drake_acro1/\")\n",
    "    \n",
    "#    p = Process(target=run_sg, args=(arg_dict, ppo, run_name, 'running my own POO as a baseline', \"/data/drake_acro1/\"))\n",
    "#    p.start()\n",
    "#    proc_list.append(p)\n",
    "\n",
    "    \n",
    "# for p in proc_list:\n",
    "#     print(\"joining\")\n",
    "#     p.join()\n"
   ]
  },
  {
   "cell_type": "code",
   "execution_count": null,
   "metadata": {},
   "outputs": [],
   "source": []
  }
 ],
 "metadata": {
  "kernelspec": {
   "display_name": "Drake (3.6)",
   "language": "python",
   "name": "drake"
  },
  "language_info": {
   "codemirror_mode": {
    "name": "ipython",
    "version": 3
   },
   "file_extension": ".py",
   "mimetype": "text/x-python",
   "name": "python",
   "nbconvert_exporter": "python",
   "pygments_lexer": "ipython3",
   "version": "3.6.9"
  }
 },
 "nbformat": 4,
 "nbformat_minor": 4
}
