{
 "cells": [
  {
   "cell_type": "code",
   "execution_count": 1,
   "metadata": {},
   "outputs": [
    {
     "name": "stderr",
     "output_type": "stream",
     "text": [
      "/home/sgillen/.local/lib/python3.6/site-packages/tensorflow/python/framework/dtypes.py:523: FutureWarning: Passing (type, 1) or '1type' as a synonym of type is deprecated; in a future version of numpy, it will be understood as (type, (1,)) / '(1,)type'.\n",
      "  _np_qint8 = np.dtype([(\"qint8\", np.int8, 1)])\n",
      "/home/sgillen/.local/lib/python3.6/site-packages/tensorflow/python/framework/dtypes.py:524: FutureWarning: Passing (type, 1) or '1type' as a synonym of type is deprecated; in a future version of numpy, it will be understood as (type, (1,)) / '(1,)type'.\n",
      "  _np_quint8 = np.dtype([(\"quint8\", np.uint8, 1)])\n",
      "/home/sgillen/.local/lib/python3.6/site-packages/tensorflow/python/framework/dtypes.py:525: FutureWarning: Passing (type, 1) or '1type' as a synonym of type is deprecated; in a future version of numpy, it will be understood as (type, (1,)) / '(1,)type'.\n",
      "  _np_qint16 = np.dtype([(\"qint16\", np.int16, 1)])\n",
      "/home/sgillen/.local/lib/python3.6/site-packages/tensorflow/python/framework/dtypes.py:526: FutureWarning: Passing (type, 1) or '1type' as a synonym of type is deprecated; in a future version of numpy, it will be understood as (type, (1,)) / '(1,)type'.\n",
      "  _np_quint16 = np.dtype([(\"quint16\", np.uint16, 1)])\n",
      "/home/sgillen/.local/lib/python3.6/site-packages/tensorflow/python/framework/dtypes.py:527: FutureWarning: Passing (type, 1) or '1type' as a synonym of type is deprecated; in a future version of numpy, it will be understood as (type, (1,)) / '(1,)type'.\n",
      "  _np_qint32 = np.dtype([(\"qint32\", np.int32, 1)])\n",
      "/home/sgillen/.local/lib/python3.6/site-packages/tensorflow/python/framework/dtypes.py:532: FutureWarning: Passing (type, 1) or '1type' as a synonym of type is deprecated; in a future version of numpy, it will be understood as (type, (1,)) / '(1,)type'.\n",
      "  np_resource = np.dtype([(\"resource\", np.ubyte, 1)])\n"
     ]
    },
    {
     "name": "stdout",
     "output_type": "stream",
     "text": [
      "Logging to /tmp/openai-2019-09-25-14-58-15-086407\n"
     ]
    }
   ],
   "source": [
    "import pickle\n",
    "import torch.utils.data\n",
    "import torch\n",
    "from seagul.rl.run_utils import load_model, load_workspace\n",
    "import numpy as np\n",
    "from numpy import pi\n",
    "import matplotlib.pyplot as plt\n",
    "from pprint import pprint\n",
    "import pandas as pd\n",
    "from seagul.rl.models import PPOModel, SwitchedPPOModel\n",
    "from seagul.nn import MLP\n",
    "import gym\n",
    "torch.set_default_dtype(torch.double)"
   ]
  },
  {
   "cell_type": "code",
   "execution_count": 5,
   "metadata": {},
   "outputs": [
    {
     "ename": "ValueError",
     "evalue": "could not broadcast input array from shape (19) into shape (148)",
     "output_type": "error",
     "traceback": [
      "\u001b[0;31m---------------------------------------------------------------------------\u001b[0m",
      "\u001b[0;31mValueError\u001b[0m                                Traceback (most recent call last)",
      "\u001b[0;32m<ipython-input-5-6b9fd1341ac0>\u001b[0m in \u001b[0;36m<module>\u001b[0;34m\u001b[0m\n\u001b[1;32m      9\u001b[0m     \u001b[0mdata\u001b[0m \u001b[0;34m=\u001b[0m \u001b[0mpd\u001b[0m\u001b[0;34m.\u001b[0m\u001b[0mread_csv\u001b[0m\u001b[0;34m(\u001b[0m\u001b[0mload_path\u001b[0m \u001b[0;34m+\u001b[0m \u001b[0;34m'/progress.csv'\u001b[0m\u001b[0;34m)\u001b[0m\u001b[0;34m\u001b[0m\u001b[0;34m\u001b[0m\u001b[0m\n\u001b[1;32m     10\u001b[0m     \u001b[0;31m#avg_rewards  += data['eprewmean']\u001b[0m\u001b[0;34m\u001b[0m\u001b[0;34m\u001b[0m\u001b[0;34m\u001b[0m\u001b[0m\n\u001b[0;32m---> 11\u001b[0;31m     \u001b[0mrewards\u001b[0m\u001b[0;34m[\u001b[0m\u001b[0;34m:\u001b[0m\u001b[0;34m,\u001b[0m\u001b[0mi\u001b[0m\u001b[0;34m]\u001b[0m \u001b[0;34m=\u001b[0m \u001b[0mdata\u001b[0m\u001b[0;34m[\u001b[0m\u001b[0;34m'eprewmean'\u001b[0m\u001b[0;34m]\u001b[0m\u001b[0;34m\u001b[0m\u001b[0;34m\u001b[0m\u001b[0m\n\u001b[0m\u001b[1;32m     12\u001b[0m \u001b[0;34m\u001b[0m\u001b[0m\n\u001b[1;32m     13\u001b[0m     \u001b[0;31m#model, env, args, ws = load_workspace(load_path)\u001b[0m\u001b[0;34m\u001b[0m\u001b[0;34m\u001b[0m\u001b[0;34m\u001b[0m\u001b[0m\n",
      "\u001b[0;31mValueError\u001b[0m: could not broadcast input array from shape (19) into shape (148)"
     ]
    }
   ],
   "source": [
    "seeds = [0,1,2,3]\n",
    "#load_paths = ['./data/acrobot_switch4/r3_longer_seed_' + str(seed) for seed in seeds]\n",
    "load_paths = ['./data/drake_base/bs_ppo2_ah' + str(seed) for seed in seeds]\n",
    "\n",
    "#avg_rewards = np.zeros((148,))\n",
    "#rewards = np.zeros((148,4))\n",
    "\n",
    "for i, load_path in enumerate(load_paths):\n",
    "    data = pd.read_csv(load_path + '/progress.csv')\n",
    "    #avg_rewards  += data['eprewmean']\n",
    "    rewards[:,i] = data['eprewmean']\n",
    "\n",
    "    #model, env, args, ws = load_workspace(load_path)\n",
    "    \n",
    "    #avg_rewards += np.array((ws['avg_reward_hist']))\n",
    "    #rewards[:,i] = np.array((ws['avg_reward_hist']))\n",
    "    #append(ws['avg_reward_hist'])\n",
    "    #plt.title('reward vs epoch')\n",
    "    #plt.figure()\n",
    "    #plt.plot(ws['a'])\n",
    "    #plt.figure()\n",
    "    #plt.plot(ws['p_loss_hist'])\n",
    "    #plt.figure()\n",
    "    #plt.plot(ws['v_loss_hist'])\n",
    "    #print(ws['num_states'])\n",
    "    \n",
    "avg_rewards /= 4\n",
    "min_rewards = [np.min(rewards[i,:]) for i in range(1000)]\n",
    "max_rewards = [np.max(rewards[i,:]) for i in range(1000)]\n",
    "plt.plot(avg_rewards)\n",
    "plt.plot(min_rewards)\n",
    "plt.plot(max_rewards)\n",
    "\n",
    "rewards_smoothed = pd.Series(avg_rewards).rolling(10, min_periods=10).mean()\n",
    "min_smoothed =  pd.Series(min_rewards).rolling(10, min_periods=10).mean()\n",
    "max_smoothed =  pd.Series(max_rewards).rolling(10, min_periods=10).mean()\n",
    "\n",
    "plt.figure()\n",
    "plt.plot(rewards_smoothed)\n",
    "plt.plot(min_smoothed)\n",
    "plt.plot(max_smoothed)\n",
    "\n",
    "plt.figure()\n",
    "\n",
    "epochs = [t for t in range(1000)]\n",
    "plt.plot(rewards_smoothed, color='k')\n",
    "plt.fill_between(epochs, min_smoothed, max_smoothed, color='k',alpha=.2 )\n",
    "plt.xlabel('Epoch')\n",
    "plt.ylabel('Smoothed average rewards')\n",
    "plt.title('Reward curve vanilla PPO')\n",
    "\n",
    "#plt.figure()\n",
    "#plt.plot(np.array(ws['ep_path_tensor']))"
   ]
  },
  {
   "cell_type": "code",
   "execution_count": 8,
   "metadata": {},
   "outputs": [
    {
     "data": {
      "text/plain": [
       "[<matplotlib.lines.Line2D at 0x7f71456d9278>]"
      ]
     },
     "execution_count": 8,
     "metadata": {},
     "output_type": "execute_result"
    },
    {
     "data": {
      "image/png": "[encoded data removed]",
      "text/plain": [
       "<Figure size 432x288 with 1 Axes>"
      ]
     },
     "metadata": {
      "needs_background": "light"
     },
     "output_type": "display_data"
    }
   ],
   "source": [
    "seeds = [0,1,2,3]\n",
    "#load_paths = ['./data/acrobot_switch4/r3_longer_seed_' + str(seed) for seed in seeds]\n",
    "load_paths = ['./data/drake_base/bs_ppo2_ah' + str(seed) for seed in seeds]\n",
    "\n",
    "\n",
    "\n",
    "data = pd.read_csv(load_paths[0] + '/progress.csv')\n",
    "plt.plot(data['eprewmean'])\n",
    "#model, env = load_model(ri)\n"
   ]
  },
  {
   "cell_type": "code",
   "execution_count": null,
   "metadata": {},
   "outputs": [],
   "source": []
  }
 ],
 "metadata": {
  "kernelspec": {
   "display_name": "Baselines (3.6)",
   "language": "python",
   "name": "baselines"
  },
  "language_info": {
   "codemirror_mode": {
    "name": "ipython",
    "version": 3
   },
   "file_extension": ".py",
   "mimetype": "text/x-python",
   "name": "python",
   "nbconvert_exporter": "python",
   "pygments_lexer": "ipython3",
   "version": "3.6.8"
  }
 },
 "nbformat": 4,
 "nbformat_minor": 4
}
