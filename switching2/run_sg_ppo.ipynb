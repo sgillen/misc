{
 "cells": [
  {
   "cell_type": "code",
   "execution_count": 2,
   "metadata": {
    "pycharm": {
     "is_executing": false
    }
   },
   "outputs": [
    {
     "name": "stderr",
     "output_type": "stream",
     "text": [
      "100%|██████████| 100/100 [04:54<00:00,  2.84s/it]\n"
     ]
    }
   ],
   "source": [
    "from seagul.rl.run import run_sg\n",
    "from seagul.rl.models import ppoModel\n",
    "from seagul.nn import MLP\n",
    "from seagul.rl.ppo import ppo\n",
    "\n",
    "import torch\n",
    "import torch.nn as nn\n",
    "\n",
    "\n",
    "## init policy, valuefn\n",
    "input_size = 6\n",
    "output_size = 1\n",
    "layer_size = 64\n",
    "num_layers=3\n",
    "activation=nn.ReLU\n",
    "\n",
    "torch.set_default_dtype(torch.double)\n",
    "\n",
    "model = ppoModel(\n",
    "    policy = MLP(input_size, output_size, num_layers, layer_size, activation),\n",
    "    value_fn = MLP(input_size, 1, num_layers, layer_size, activation),\n",
    "    action_var = 4\n",
    ")\n",
    "\n",
    "arg_dict = {\n",
    "    'env_name' : 'su_acrobot-v0',\n",
    "    'model' : model,\n",
    "    'num_epochs' : 100,\n",
    "    'action_var_schedule' : [10,0]\n",
    "}\n",
    "\n",
    "run_sg(arg_dict, ppo)"
   ]
  },
  {
   "cell_type": "code",
   "execution_count": 2,
   "metadata": {
    "pycharm": {
     "is_executing": false
    }
   },
   "outputs": [],
   "source": []
  }
 ],
 "metadata": {
  "kernelspec": {
   "display_name": "Drake (3.6)",
   "language": "python",
   "name": "drake"
  },
  "language_info": {
   "codemirror_mode": {
    "name": "ipython",
    "version": 3
   },
   "file_extension": ".py",
   "mimetype": "text/x-python",
   "name": "python",
   "nbconvert_exporter": "python",
   "pygments_lexer": "ipython3",
   "version": "3.6.9"
  },
  "pycharm": {
   "stem_cell": {
    "cell_type": "raw",
    "metadata": {
     "collapsed": false
    },
    "source": []
   }
  }
 },
 "nbformat": 4,
 "nbformat_minor": 4
}
