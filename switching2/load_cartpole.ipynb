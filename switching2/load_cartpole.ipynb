{
 "cells": [
  {
   "cell_type": "code",
   "execution_count": null,
   "metadata": {},
   "outputs": [],
   "source": [
    "#!!! delete this when the cell works\n",
    "\n",
    "\n",
    "# Cartpole\n",
    "\n",
    "myenv = env\n",
    "myenv.num_steps=1500\n",
    "\n",
    "#model.gate_fn.net_fn = gate\n",
    "action_hist = np.zeros((myenv.num_steps,1))\n",
    "state_hist = np.zeros((myenv.num_steps, myenv.observation_space.shape[0]))\n",
    "reward_hist = np.zeros((myenv.num_steps, 1))\n",
    "\n",
    "obs = env.reset()\n",
    "\n",
    "for i in range(myenv.num_steps):\n",
    "        actions, _, _, _ = model.step(obs)\n",
    "        #actions = np.zeros(1)\n",
    "        obs, reward, done, _ = env.step(actions)        \n",
    "        action_hist[i,:] = np.copy(actions)\n",
    "        state_hist[i,:] = np.copy(obs)\n",
    "        reward_hist[i,:] = np.copy(reward)\n",
    "        #env.render()\n",
    "        if done:\n",
    "            break\n",
    "\n",
    "plt.plot(action_hist)\n",
    "plt.figure()\n",
    "plt.plot(reward_hist)\n",
    "\n",
    "plt.figure()\n",
    "plt.plot(state_hist[:,0])\n",
    "plt.title(\"theta\")\n",
    "\n",
    "plt.figure()\n",
    "plt.plot(state_hist[:,1])\n",
    "plt.title(\"x\")\n",
    "\n",
    "\n",
    "plt.figure()\n",
    "plt.plot(state_hist[:,2])\n",
    "plt.title(\"theta dot\")\n",
    "\n",
    "\n",
    "plt.figure()\n",
    "plt.plot(state_hist[:,3])\n",
    "plt.title(\"xdot \")\n",
    "\n",
    "\n",
    "print(i)\n",
    "print(sum(reward_hist))"
   ]
  }
 ],
 "metadata": {
  "kernelspec": {
   "display_name": "Slycot",
   "language": "python",
   "name": "slycot"
  },
  "language_info": {
   "codemirror_mode": {
    "name": "ipython",
    "version": 3
   },
   "file_extension": ".py",
   "mimetype": "text/x-python",
   "name": "python",
   "nbconvert_exporter": "python",
   "pygments_lexer": "ipython3",
   "version": "3.6.9"
  }
 },
 "nbformat": 4,
 "nbformat_minor": 2
}
