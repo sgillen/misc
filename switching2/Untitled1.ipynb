{
 "cells": [
  {
   "cell_type": "code",
   "execution_count": 6,
   "metadata": {},
   "outputs": [
    {
     "name": "stdout",
     "output_type": "stream",
     "text": [
      "         4004 function calls in 0.200 seconds\n",
      "\n",
      "   Ordered by: standard name\n",
      "\n",
      "   ncalls  tottime  percall  cumtime  percall filename:lineno(function)\n",
      "        1    0.001    0.001    0.200    0.200 <ipython-input-5-806f889e4962>:1(reset_100)\n",
      "        1    0.000    0.000    0.200    0.200 <string>:1(<module>)\n",
      "     1000    0.189    0.000    0.199    0.000 acrobot.py:115(reset)\n",
      "     1000    0.001    0.000    0.001    0.000 acrobot.py:32(DoCalcVectorOutput)\n",
      "     1000    0.004    0.000    0.004    0.000 acrobot.py:37(InitialState)\n",
      "        1    0.000    0.000    0.200    0.200 {built-in method builtins.exec}\n",
      "        1    0.000    0.000    0.000    0.000 {method 'disable' of '_lsprof.Profiler' objects}\n",
      "     1000    0.004    0.000    0.004    0.000 {method 'randn' of 'numpy.random.mtrand.RandomState' objects}\n",
      "\n",
      "\n"
     ]
    }
   ],
   "source": [
    "import cProfile\n",
    "import gym\n",
    "import seagul.envs\n",
    "\n",
    "env = gym.make('su_acro_drake-v0')\n",
    "cProfile.run('reset_100()')"
   ]
  },
  {
   "cell_type": "code",
   "execution_count": 5,
   "metadata": {},
   "outputs": [],
   "source": [
    "def reset_100():\n",
    "    for i in range(1000):\n",
    "        env.reset()"
   ]
  },
  {
   "cell_type": "code",
   "execution_count": null,
   "metadata": {},
   "outputs": [],
   "source": []
  }
 ],
 "metadata": {
  "kernelspec": {
   "display_name": "Drake (3.6)",
   "language": "python",
   "name": "drake"
  },
  "language_info": {
   "codemirror_mode": {
    "name": "ipython",
    "version": 3
   },
   "file_extension": ".py",
   "mimetype": "text/x-python",
   "name": "python",
   "nbconvert_exporter": "python",
   "pygments_lexer": "ipython3",
   "version": "3.6.9"
  }
 },
 "nbformat": 4,
 "nbformat_minor": 4
}
