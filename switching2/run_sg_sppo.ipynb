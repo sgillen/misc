{
 "cells": [
  {
   "cell_type": "code",
   "execution_count": 1,
   "metadata": {},
   "outputs": [
    {
     "name": "stdout",
     "output_type": "stream",
     "text": [
      "Logging to /var/folders/qq/gpxz4l6s1tndfdhysbz8bdym0000gn/T/openai-2019-09-03-20-29-45-861767\n"
     ]
    },
    {
     "name": "stdin",
     "output_type": "stream",
     "text": [
      "please enter a name for this run:  git_sha5\n",
      "please enter a brief description of the run:  \n"
     ]
    },
    {
     "name": "stderr",
     "output_type": "stream",
     "text": [
      "100%|██████████| 5/5 [00:55<00:00, 11.04s/it]\n"
     ]
    }
   ],
   "source": [
    "from seagul.rl.run import run_sg\n",
    "from seagul.rl.models import SwitchedPPOModel\n",
    "from seagul.nn import MLP\n",
    "from seagul.rl.ppo_switching import ppo_switch\n",
    "\n",
    "import torch\n",
    "import torch.nn as nn\n",
    "\n",
    "import gym\n",
    "\n",
    "## init policy, valuefn\n",
    "input_size = 4\n",
    "output_size = 1\n",
    "layer_size = 64\n",
    "num_layers=3\n",
    "activation=nn.ReLU\n",
    "\n",
    "torch.set_default_dtype(torch.double)\n",
    "\n",
    "from seagul.sims.cartpole import LQRControl\n",
    "env_name = 'su_cartpole-v0'\n",
    "\n",
    "model = SwitchedPPOModel(\n",
    "    policy = MLP(input_size, output_size, num_layers, layer_size, activation),\n",
    "    value_fn = MLP(input_size, 1, num_layers, layer_size, activation),\n",
    "    gate_fn = MLP(input_size, 1, num_layers,layer_size, activation),\n",
    "    nominal_policy=LQRControl,\n",
    "    action_var = 4,\n",
    "    gate_var = .08,\n",
    "    env = gym.make(env_name)\n",
    ")\n",
    "\n",
    "arg_dict = {\n",
    "    'env_name' : env_name,\n",
    "    'model' : model,\n",
    "    'num_epochs' : 5,\n",
    "    'action_var_schedule' : [.1],\n",
    "}\n",
    "\n",
    "run_sg(arg_dict, ppo_switch)\n"
   ]
  },
  {
   "cell_type": "code",
   "execution_count": 23,
   "metadata": {},
   "outputs": [],
   "source": [
    "import subprocess\n",
    "label = subprocess.check_output(['git', 'rev-parse', 'HEAD']).decode('ascii').strip()"
   ]
  },
  {
   "cell_type": "code",
   "execution_count": 24,
   "metadata": {},
   "outputs": [
    {
     "data": {
      "text/plain": [
       "'5c9e66c428a42c6f23e50f15c96fb4106771c93c'"
      ]
     },
     "execution_count": 24,
     "metadata": {},
     "output_type": "execute_result"
    }
   ],
   "source": [
    "label"
   ]
  },
  {
   "cell_type": "code",
   "execution_count": 1,
   "metadata": {},
   "outputs": [
    {
     "ename": "ImportError",
     "evalue": "No module named seagul.envs",
     "output_type": "error",
     "traceback": [
      "\u001b[0;31m---------------------------------------------------------------------------\u001b[0m",
      "\u001b[0;31mImportError\u001b[0m                               Traceback (most recent call last)",
      "\u001b[0;32m<ipython-input-1-3cf8862a1e42>\u001b[0m in \u001b[0;36m<module>\u001b[0;34m()\u001b[0m\n\u001b[1;32m      1\u001b[0m \u001b[0;32mimport\u001b[0m \u001b[0mgym\u001b[0m\u001b[0;34m\u001b[0m\u001b[0m\n\u001b[0;32m----> 2\u001b[0;31m \u001b[0;32mimport\u001b[0m \u001b[0mseagul\u001b[0m\u001b[0;34m.\u001b[0m\u001b[0menvs\u001b[0m\u001b[0;34m\u001b[0m\u001b[0m\n\u001b[0m\u001b[1;32m      3\u001b[0m \u001b[0;34m\u001b[0m\u001b[0m\n\u001b[1;32m      4\u001b[0m \u001b[0menv_name\u001b[0m \u001b[0;34m=\u001b[0m \u001b[0;34m'su_acro_drake-v0'\u001b[0m\u001b[0;34m\u001b[0m\u001b[0m\n\u001b[1;32m      5\u001b[0m \u001b[0menv\u001b[0m \u001b[0;34m=\u001b[0m \u001b[0mgym\u001b[0m\u001b[0;34m.\u001b[0m\u001b[0mmake\u001b[0m\u001b[0;34m(\u001b[0m\u001b[0menv_name\u001b[0m\u001b[0;34m)\u001b[0m\u001b[0;34m\u001b[0m\u001b[0m\n",
      "\u001b[0;31mImportError\u001b[0m: No module named seagul.envs"
     ]
    }
   ],
   "source": [
    "import gym\n",
    "import seagul.envs\n",
    "\n",
    "env_name = 'su_acro_drake-v0'\n",
    "env = gym.make(env_name)\n",
    "\n",
    "from seagul.rl.run_utils import run_sg\n",
    "from seagul.rl.models import SwitchedPPOModel\n",
    "from seagul.nn import MLP\n",
    "from seagul.rl.algos.ppo2_switching import ppo_switch\n",
    "\n",
    "import torch\n",
    "import torch.nn as nn\n",
    "\n",
    "import gym\n",
    "\n",
    "## init policy, valuefn\n",
    "input_size = 4\n",
    "output_size = 1\n",
    "layer_size = 64\n",
    "num_layers=2\n",
    "activation=nn.ReLU\n",
    "\n",
    "torch.set_default_dtype(torch.double)\n",
    "\n",
    "from seagul.sims.cartpole import LQRControl\n",
    "env_name = 'su_drake_acro-v0'\n",
    "\n",
    "def control(q):\n",
    "    k = np.array([[1316.85000612,  555.41763935,  570.32667002,  272.57631536]])\n",
    "    #k = np.array([[278.44223126, 112.29125985, 119.72457377,  56.82824017]])\n",
    "    gs = np.array([pi,0,0,0])\n",
    "    #return 0\n",
    "    return (-k.dot(gs - np.asarray(q))).squeeze()\n",
    "\n",
    "\n",
    "model = SwitchedPPOModelActHold(\n",
    "    #policy = MLP(input_size, output_size, num_layers, layer_size, activation),\n",
    "    policy = torch.load(\"policy_warm_final\"),\n",
    "    value_fn = torch.load(\"value_warm_final\"),\n",
    "    #MLP(input_size, 1, num_layers, layer_size, activation),\n",
    "    gate_fn  = torch.load(\"gate_fn_dr\"),\n",
    "    nominal_policy=control,\n",
    "    hold_count = 200,\n",
    ")\n",
    "\n",
    "    \n",
    "arg_dict = {\n",
    "    'env_name' : env_name,\n",
    "    'model' : model,\n",
    "    'num_epochs' : 500,\n",
    "    'epoch_batch_size': 2048,\n",
    "    'action_var_schedule' : [2,2],\n",
    "    'gate_var_schedule'   : [.1,.1],\n",
    "    'gamma' : 1,\n",
    "    'seed': 0,\n",
    "}\n",
    "\n",
    "\n",
    "run_sg(arg_dict, ppo_switch, 'testtest', 'test')\n",
    "\n"
   ]
  },
  {
   "cell_type": "code",
   "execution_count": null,
   "metadata": {},
   "outputs": [],
   "source": []
  }
 ],
 "metadata": {
  "kernelspec": {
   "display_name": "Drake (3.6)",
   "language": "python",
   "name": "drake"
  },
  "language_info": {
   "codemirror_mode": {
    "name": "ipython",
    "version": 3
   },
   "file_extension": ".py",
   "mimetype": "text/x-python",
   "name": "python",
   "nbconvert_exporter": "python",
   "pygments_lexer": "ipython3",
   "version": "3.6.9"
  }
 },
 "nbformat": 4,
 "nbformat_minor": 4
}
