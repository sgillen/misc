{
 "cells": [
  {
   "cell_type": "code",
   "execution_count": 2,
   "metadata": {},
   "outputs": [
    {
     "name": "stdout",
     "output_type": "stream",
     "text": [
      "Spawning PlanarRigidBodyVisualizer for tree with 0 actuators\n"
     ]
    },
    {
     "name": "stderr",
     "output_type": "stream",
     "text": [
      "/usr/lib/python2.7/dist-packages/matplotlib/figure.py:418: UserWarning: matplotlib is currently using a non-GUI backend, so cannot show the figure\n",
      "  \"matplotlib is currently using a non-GUI backend, \"\n"
     ]
    },
    {
     "data": {
      "image/png": "[encoded data removed]",
      "text/plain": [
       "<matplotlib.figure.Figure at 0x7f3d2e865cd0>"
      ]
     },
     "metadata": {},
     "output_type": "display_data"
    }
   ],
   "source": [
    "import argparse\n",
    "import math\n",
    "import numpy as np\n",
    "\n",
    "from pydrake.all import (Box,\n",
    "                         DiagramBuilder,\n",
    "                         FindResourceOrThrow,\n",
    "                         FloatingBaseType,\n",
    "                         Isometry3,\n",
    "                         RigidBodyTree,\n",
    "                         Simulator,\n",
    "                         VisualElement)\n",
    "from pydrake.examples.rimless_wheel import (RimlessWheel, RimlessWheelParams)\n",
    "from underactuated import (PlanarRigidBodyVisualizer)\n",
    "\n",
    "\n",
    "tree = RigidBodyTree(FindResourceOrThrow(\n",
    "                        \"drake/examples/rimless_wheel/RimlessWheel.urdf\"),\n",
    "                     FloatingBaseType.kRollPitchYaw)\n",
    "params = RimlessWheelParams()\n",
    "R = np.identity(3)\n",
    "R[0, 0] = math.cos(params.slope())\n",
    "R[0, 2] = math.sin(params.slope())\n",
    "R[2, 0] = -math.sin(params.slope())\n",
    "R[2, 2] = math.cos(params.slope())\n",
    "X = Isometry3(rotation=R, translation=[0, 0, -5.])\n",
    "color = np.array([0.9297, 0.7930, 0.6758, 1])\n",
    "tree.world().AddVisualElement(VisualElement(Box([100., 1., 10.]), X, color))\n",
    "tree.compile()\n",
    "\n",
    "builder = DiagramBuilder()\n",
    "rimless_wheel = builder.AddSystem(RimlessWheel())\n",
    "\n",
    "visualizer = builder.AddSystem(PlanarRigidBodyVisualizer(tree,\n",
    "                                                         xlim=[-8., 8.],\n",
    "                                                         ylim=[-4., 4.]))\n",
    "builder.Connect(rimless_wheel.get_output_port(1), visualizer.get_input_port(0))\n",
    "\n",
    "diagram = builder.Build()\n",
    "simulator = Simulator(diagram)\n",
    "simulator.set_target_realtime_rate(1.0)\n",
    "simulator.set_publish_every_time_step(False)\n",
    "simulator.get_mutable_context().set_accuracy(1e-4)\n",
    "\n",
    "state = simulator.get_mutable_context().get_mutable_continuous_state_vector()\n",
    "state.SetFromVector([0, 1])\n",
    "\n",
    "simulator.StepTo(10)\n"
   ]
  },
  {
   "cell_type": "code",
   "execution_count": null,
   "metadata": {},
   "outputs": [],
   "source": []
  }
 ],
 "metadata": {
  "kernelspec": {
   "display_name": "Python 2",
   "language": "python",
   "name": "python2"
  },
  "language_info": {
   "codemirror_mode": {
    "name": "ipython",
    "version": 2
   },
   "file_extension": ".py",
   "mimetype": "text/x-python",
   "name": "python",
   "nbconvert_exporter": "python",
   "pygments_lexer": "ipython2",
   "version": "2.7.15rc1"
  }
 },
 "nbformat": 4,
 "nbformat_minor": 2
}
