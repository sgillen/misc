{
 "cells": [
  {
   "cell_type": "code",
   "execution_count": 2,
   "metadata": {},
   "outputs": [
    {
     "data": {
      "text/plain": [
       "[<matplotlib.lines.Line2D at 0x7f6e32710090>]"
      ]
     },
     "execution_count": 2,
     "metadata": {},
     "output_type": "execute_result"
    },
    {
     "data": {
      "image/png": "[encoded data removed]",
      "text/plain": [
       "<matplotlib.figure.Figure at 0x7f6e34a0e350>"
      ]
     },
     "metadata": {},
     "output_type": "display_data"
    }
   ],
   "source": [
    "import math\n",
    "import numpy as np\n",
    "import matplotlib.pyplot as plt\n",
    "\n",
    "from pydrake.examples.van_der_pol import (VanDerPolOscillator)\n",
    "from pydrake.all import (DirectCollocation, PiecewisePolynomial,\n",
    "                         SolutionResult)\n",
    "\n",
    "plant = VanDerPolOscillator()\n",
    "context = plant.CreateDefaultContext()\n",
    "\n",
    "dircol = DirectCollocation(plant, context, num_time_samples=61,\n",
    "                           minimum_timestep=0.01, maximum_timestep=0.5)\n",
    "\n",
    "dircol.AddEqualTimeIntervalsConstraints()\n",
    "\n",
    "# Initial state on the surface of section (and velocity > .1).\n",
    "dircol.AddBoundingBoxConstraint([0., 0.1], [0., 10.], dircol.initial_state())\n",
    "\n",
    "# Periodicity constraint.\n",
    "# TODO(russt): Replace this with the vectorized version pending drake #8315.\n",
    "dircol.AddLinearConstraint(\n",
    "    dircol.final_state()[0] == dircol.initial_state()[0])\n",
    "dircol.AddLinearConstraint(\n",
    "    dircol.final_state()[1] == dircol.initial_state()[1])\n",
    "\n",
    "samples = np.linspace(0, 2*math.pi, 10)\n",
    "x_guess = np.vstack(([2*math.sin(t) for t in samples],\n",
    "                     [2*math.cos(t) for t in samples]))\n",
    "initial_x_trajectory = PiecewisePolynomial.FirstOrderHold(samples, x_guess)\n",
    "\n",
    "dircol.SetInitialTrajectory(PiecewisePolynomial(), initial_x_trajectory)\n",
    "\n",
    "fig = plt.figure()\n",
    "h, = plt.plot([], [], '.-')\n",
    "plt.xlim((-2.5, 2.5))\n",
    "plt.ylim((-3., 3.))\n",
    "\n",
    "\n",
    "def draw_trajectory(t, x):\n",
    "    h.set_xdata(x[0, :])\n",
    "    h.set_ydata(x[1, :])\n",
    "    fig.canvas.draw()\n",
    "    if plt.get_backend() == u'MacOSX':\n",
    "        plt.pause(1e-10)\n",
    "\n",
    "\n",
    "dircol.AddStateTrajectoryCallback(draw_trajectory)\n",
    "\n",
    "result = dircol.Solve()\n",
    "assert(result == SolutionResult.kSolutionFound)\n",
    "\n",
    "x_trajectory = dircol.ReconstructStateTrajectory()\n",
    "\n",
    "x_knots = np.hstack([x_trajectory.value(t) for t in\n",
    "                     np.linspace(x_trajectory.start_time(),\n",
    "                                 x_trajectory.end_time(), 100)])\n",
    "plt.plot(x_knots[0, :], x_knots[1, :])\n",
    "\n",
    "#plt.show()\n"
   ]
  },
  {
   "cell_type": "code",
   "execution_count": null,
   "metadata": {},
   "outputs": [],
   "source": []
  }
 ],
 "metadata": {
  "kernelspec": {
   "display_name": "Python 2",
   "language": "python",
   "name": "python2"
  },
  "language_info": {
   "codemirror_mode": {
    "name": "ipython",
    "version": 2
   },
   "file_extension": ".py",
   "mimetype": "text/x-python",
   "name": "python",
   "nbconvert_exporter": "python",
   "pygments_lexer": "ipython2",
   "version": "2.7.15rc1"
  }
 },
 "nbformat": 4,
 "nbformat_minor": 2
}
