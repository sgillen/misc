{
 "cells": [
  {
   "cell_type": "code",
   "execution_count": 1,
   "metadata": {},
   "outputs": [
    {
     "ename": "ImportError",
     "evalue": "dlopen(/opt/drake/lib/python2.7/site-packages/pydrake/common/_module_py.so, 2): Symbol not found: __Py_ZeroStruct\n  Referenced from: /opt/drake/lib/python2.7/site-packages/pydrake/common/_module_py.so\n  Expected in: flat namespace\n in /opt/drake/lib/python2.7/site-packages/pydrake/common/_module_py.so",
     "output_type": "error",
     "traceback": [
      "\u001b[0;31m---------------------------------------------------------------------------\u001b[0m",
      "\u001b[0;31mImportError\u001b[0m                               Traceback (most recent call last)",
      "\u001b[0;32m<ipython-input-1-27a0406fbbc7>\u001b[0m in \u001b[0;36m<module>\u001b[0;34m()\u001b[0m\n\u001b[1;32m      2\u001b[0m \u001b[0;32mimport\u001b[0m \u001b[0mnumpy\u001b[0m \u001b[0;32mas\u001b[0m \u001b[0mnp\u001b[0m\u001b[0;34m\u001b[0m\u001b[0;34m\u001b[0m\u001b[0m\n\u001b[1;32m      3\u001b[0m \u001b[0;34m\u001b[0m\u001b[0m\n\u001b[0;32m----> 4\u001b[0;31m from pydrake.all import (Box,\n\u001b[0m\u001b[1;32m      5\u001b[0m                          \u001b[0mDiagramBuilder\u001b[0m\u001b[0;34m,\u001b[0m\u001b[0;34m\u001b[0m\u001b[0;34m\u001b[0m\u001b[0m\n\u001b[1;32m      6\u001b[0m                          \u001b[0mFindResourceOrThrow\u001b[0m\u001b[0;34m,\u001b[0m\u001b[0;34m\u001b[0m\u001b[0;34m\u001b[0m\u001b[0m\n",
      "\u001b[0;32m/opt/drake/lib/python2.7/site-packages/pydrake/__init__.py\u001b[0m in \u001b[0;36m<module>\u001b[0;34m()\u001b[0m\n\u001b[1;32m     30\u001b[0m \u001b[0;31m# We specifically load `common` prior to loading any other pydrake modules,\u001b[0m\u001b[0;34m\u001b[0m\u001b[0;34m\u001b[0m\u001b[0;34m\u001b[0m\u001b[0m\n\u001b[1;32m     31\u001b[0m \u001b[0;31m# in order to get assertion configuration done as early as possible.\u001b[0m\u001b[0;34m\u001b[0m\u001b[0;34m\u001b[0m\u001b[0;34m\u001b[0m\u001b[0m\n\u001b[0;32m---> 32\u001b[0;31m \u001b[0;32mfrom\u001b[0m \u001b[0;34m.\u001b[0m \u001b[0;32mimport\u001b[0m \u001b[0mcommon\u001b[0m\u001b[0;34m\u001b[0m\u001b[0;34m\u001b[0m\u001b[0m\n\u001b[0m\u001b[1;32m     33\u001b[0m \u001b[0;32mfrom\u001b[0m \u001b[0;34m.\u001b[0m\u001b[0mutil\u001b[0m\u001b[0;34m.\u001b[0m\u001b[0mdeprecation\u001b[0m \u001b[0;32mimport\u001b[0m \u001b[0mModuleShim\u001b[0m\u001b[0;34m\u001b[0m\u001b[0;34m\u001b[0m\u001b[0m\n\u001b[1;32m     34\u001b[0m \u001b[0;34m\u001b[0m\u001b[0m\n",
      "\u001b[0;32m/opt/drake/lib/python2.7/site-packages/pydrake/common/__init__.py\u001b[0m in \u001b[0;36m<module>\u001b[0;34m()\u001b[0m\n\u001b[1;32m      1\u001b[0m \u001b[0;32mfrom\u001b[0m \u001b[0m__future__\u001b[0m \u001b[0;32mimport\u001b[0m \u001b[0mabsolute_import\u001b[0m\u001b[0;34m,\u001b[0m \u001b[0mdivision\u001b[0m\u001b[0;34m,\u001b[0m \u001b[0mprint_function\u001b[0m\u001b[0;34m\u001b[0m\u001b[0;34m\u001b[0m\u001b[0m\n\u001b[1;32m      2\u001b[0m \u001b[0;34m\u001b[0m\u001b[0m\n\u001b[0;32m----> 3\u001b[0;31m \u001b[0;32mfrom\u001b[0m \u001b[0;34m.\u001b[0m\u001b[0m_module_py\u001b[0m \u001b[0;32mimport\u001b[0m \u001b[0;34m*\u001b[0m\u001b[0;34m\u001b[0m\u001b[0;34m\u001b[0m\u001b[0m\n\u001b[0m",
      "\u001b[0;31mImportError\u001b[0m: dlopen(/opt/drake/lib/python2.7/site-packages/pydrake/common/_module_py.so, 2): Symbol not found: __Py_ZeroStruct\n  Referenced from: /opt/drake/lib/python2.7/site-packages/pydrake/common/_module_py.so\n  Expected in: flat namespace\n in /opt/drake/lib/python2.7/site-packages/pydrake/common/_module_py.so"
     ]
    }
   ],
   "source": [
    "import math\n",
    "import numpy as np\n",
    "\n",
    "from pydrake.all import (Box,\n",
    "                         DiagramBuilder,\n",
    "                         FindResourceOrThrow,\n",
    "                         FloatingBaseType,\n",
    "                         Isometry3,\n",
    "                         RigidBodyTree,\n",
    "                         SignalLogger,\n",
    "                         Simulator,\n",
    "                         VisualElement)\n",
    "from pydrake.examples.compass_gait import (CompassGait, CompassGaitParams)\n",
    "from underactuated import (PlanarRigidBodyVisualizer)\n",
    "\n",
    "from IPython.display import HTML\n",
    "\n",
    "\n",
    "tree = RigidBodyTree(FindResourceOrThrow(\n",
    "                        \"drake/examples/compass_gait/CompassGait.urdf\"),\n",
    "                     FloatingBaseType.kRollPitchYaw)\n",
    "params = CompassGaitParams()\n",
    "\n",
    "R = np.identity(3)\n",
    "R[0, 0] = math.cos(params.slope())\n",
    "R[0, 2] = math.sin(params.slope())\n",
    "R[2, 0] = -math.sin(params.slope())\n",
    "R[2, 2] = math.cos(params.slope())\n",
    "X = Isometry3(rotation=R, translation=[0, 0, -5.])\n",
    "color = np.array([0.9297, 0.7930, 0.6758, 1])\n",
    "tree.world().AddVisualElement(VisualElement(Box([100., 1., 10.]), X, color))\n",
    "tree.compile()\n",
    "\n",
    "\n",
    "builder = DiagramBuilder()\n",
    "compass_gait = builder.AddSystem(CompassGait())\n",
    "\n",
    "\n",
    "logger = builder.AddSystem(SignalLogger(compass_gait.get_output_port(1).size()))\n",
    "logger._DeclarePeriodicPublish(1. / 30., 0.0)\n",
    "\n",
    "builder.Connect(compass_gait.get_output_port(1), logger.get_input_port(0))\n",
    "#builder.ExportInput(robot.get_input_port(0)) #this allows the outside world to see push inputs in (or whatever)\n",
    "\n",
    "\n",
    "#builder.Connect(compass_gait.get_output_port(0), logger.get_input_port(0))\n",
    "\n",
    "diagram = builder.Build()\n",
    "simulator = Simulator(diagram)\n",
    "simulator.set_target_realtime_rate(1.0)\n",
    "simulator.set_publish_every_time_step(True)\n",
    "simulator.get_mutable_context().set_accuracy(1e-4)\n",
    "\n",
    "state = simulator.get_mutable_context().get_mutable_continuous_state_vector()\n",
    "state.SetFromVector([0., 0., 0.4, -2.])\n",
    "\n",
    "simulator.StepTo(5)\n",
    "\n",
    "\n",
    "prbv = PlanarRigidBodyVisualizer(tree, xlim=[-5, 5], ylim=[-5, 2.5])\n",
    "ani = prbv.animate(logger, repeat=True)\n",
    "#plt.close(prbv.fig)\n",
    "HTML(ani.to_html5_video())\n",
    "    "
   ]
  },
  {
   "cell_type": "code",
   "execution_count": null,
   "metadata": {},
   "outputs": [],
   "source": []
  }
 ],
 "metadata": {
  "kernelspec": {
   "display_name": "Python [conda env:anaconda3]",
   "language": "python",
   "name": "conda-env-anaconda3-py"
  },
  "language_info": {
   "codemirror_mode": {
    "name": "ipython",
    "version": 3
   },
   "file_extension": ".py",
   "mimetype": "text/x-python",
   "name": "python",
   "nbconvert_exporter": "python",
   "pygments_lexer": "ipython3",
   "version": "3.6.7"
  }
 },
 "nbformat": 4,
 "nbformat_minor": 2
}
