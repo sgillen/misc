{
 "cells": [
  {
   "cell_type": "markdown",
   "metadata": {},
   "source": [
    "# Rigid Body Dynamics and Simulation\n",
    "\n",
    "Finally, let's see how to start assembling the tools mentioned in the Systems and Symbolic/Autodiff tutorials to make robots do interesting things.\n",
    "\n",
    "For these examples, we'll explore simulating the ultra-classic cart pole, pictured below.\n",
    "\n",
    "<img src=\"https://danielpiedrahita.files.wordpress.com/2017/02/cart-pole.png\" alt=\"drawing\" style=\"width: 400px;\"/>"
   ]
  },
  {
   "cell_type": "markdown",
   "metadata": {},
   "source": [
    "As a more complete demo, we can create an LQR solution around that upright fixed point and simulate it!\n",
    "\n",
    "See the quickstart guide for a written explanation of the many pieces of this."
   ]
  },
  {
   "cell_type": "code",
   "execution_count": 4,
   "metadata": {},
   "outputs": [],
   "source": [
    "import math\n",
    "import matplotlib.pyplot as plt\n",
    "import numpy as np\n",
    "\n",
    "from pydrake.all import (BasicVector, DiagramBuilder, FloatingBaseType,\n",
    "                         LinearQuadraticRegulator, RigidBodyPlant,\n",
    "                         RigidBodyTree, Simulator, SignalLogger, LeafSystem, PortDataType)\n",
    "from underactuated import (PlanarRigidBodyVisualizer)\n",
    "from underactuated import (FindResource, PlanarRigidBodyVisualizer)\n",
    "\n",
    "from IPython.display import HTML\n"
   ]
  },
  {
   "cell_type": "code",
   "execution_count": 8,
   "metadata": {},
   "outputs": [],
   "source": [
    "import pdb\n",
    "\n",
    "class SwingupController(LeafSystem):\n",
    "    def __init__(self, rbt,\n",
    "                 control_period=0.005,\n",
    "                 print_period=0.5):\n",
    "        LeafSystem.__init__(self)\n",
    "        self.set_name(\"Swing up Controller\")\n",
    "\n",
    "\n",
    "       \n",
    "        #self.B_inv = np.linalg.inv(self.B)\n",
    "        # Copy lots of stuff\n",
    "        self.rbt = rbt\n",
    "        self.nq = rbt.get_num_positions()\n",
    "        #self.plant = plant\n",
    "        self.nu = rbt.get_input_port(0).size()\n",
    "        #self.print_period = print_period\n",
    "        self.last_print_time = -print_period\n",
    "        self.shut_up = False\n",
    "\n",
    "        self.robot_state_input_port = \\\n",
    "            self._DeclareInputPort(PortDataType.kVectorValued,\n",
    "                                   rbt.get_num_positions() +\n",
    "                                   rbt.get_num_velocities())\n",
    "            \n",
    "\n",
    "        self._DeclareContinuousState(self.nu)\n",
    "        #self._DeclarePeriodicContinuousUpdate(period_sec=control_period)\n",
    "        self._DeclareVectorOutputPort(\n",
    "            BasicVector(self.nu),\n",
    "            self._DoCalcVectorOutput)\n",
    "        \n",
    "    def _DoCalcVectorOutput(self, context, y_data):\n",
    "        control_output = context.get_continuous_state_vector().get_value()\n",
    "        y = y_data.get_mutable_value()\n",
    "        # Get the ith finger control output\n",
    "        # y[:] = control_output[:]\n",
    "        y[:] = 0"
   ]
  },
  {
   "cell_type": "code",
   "execution_count": 9,
   "metadata": {},
   "outputs": [
    {
     "name": "stdout",
     "output_type": "stream",
     "text": [
      "<pydrake.multibody.rigid_body_tree.RigidBodyTree object at 0x7f95a33a2bf0>\n"
     ]
    },
    {
     "ename": "SystemExit",
     "evalue": "Failure at bazel-out/k8-opt/bin/tools/install/libdrake/_virtual_includes/drake_shared_library/drake/systems/framework/vector_base.h:82 in SetFromVector(): condition 'value.rows() == size()' failed.",
     "output_type": "error",
     "traceback": [
      "An exception has occurred, use %tb to see the full traceback.\n",
      "\u001b[0;31mSystemExit\u001b[0m\u001b[0;31m:\u001b[0m Failure at bazel-out/k8-opt/bin/tools/install/libdrake/_virtual_includes/drake_shared_library/drake/systems/framework/vector_base.h:82 in SetFromVector(): condition 'value.rows() == size()' failed.\n"
     ]
    }
   ],
   "source": [
    "#%tb\n",
    "#%pdb\n",
    "# Load in the cartpole from its URDF\n",
    "\n",
    "\n",
    "tree = RigidBodyTree(FindResource(\"cartpole/cartpole.urdf\"),\n",
    "                     FloatingBaseType.kFixed)\n",
    "print tree\n",
    "\n",
    "# Define an upright state\n",
    "def UprightState():\n",
    "    state = (0,math.pi,0,0)\n",
    "    return state\n",
    "\n",
    "def UprightPos():\n",
    "    state = (math.pi/2,0)\n",
    "    return state\n",
    "\n",
    "\n",
    "def BalancingLQR(robot):\n",
    "    # Design an LQR controller for stabilizing the CartPole around the upright.\n",
    "    # Returns a (static) AffineSystem that implements the controller (in\n",
    "    # the original CartPole coordinates).\n",
    "\n",
    "    context = robot.CreateDefaultContext()\n",
    "    context.FixInputPort(0, BasicVector([0]))\n",
    "\n",
    "    context.get_mutable_continuous_state_vector().SetFromVector(UprightState())\n",
    "\n",
    "    Q = np.diag((10., 10.,1,1))\n",
    "    R = [1]\n",
    "\n",
    "    return LinearQuadraticRegulator(robot, context, Q, R)\n",
    "    \n",
    "builder = DiagramBuilder()\n",
    "\n",
    "robot = builder.AddSystem(RigidBodyPlant(tree))\n",
    "\n",
    "controller = builder.AddSystem(BalancingLQR(robot))\n",
    "\n",
    "controller = builder.AddSystem(SwingupController(robot))\n",
    "\n",
    "builder.Connect(robot.get_output_port(0), controller.get_input_port(0))\n",
    "builder.Connect(controller.get_output_port(0), robot.get_input_port(0))\n",
    "\n",
    "logger = builder.AddSystem(SignalLogger(robot.get_output_port(0).size()))\n",
    "logger._DeclarePeriodicPublish(1. / 30., 0.0)\n",
    "builder.Connect(robot.get_output_port(0), logger.get_input_port(0))\n",
    "\n",
    "diagram = builder.Build()\n",
    "\n",
    "simulator = Simulator(diagram)\n",
    "simulator.set_publish_every_time_step(False)\n",
    "context = simulator.get_mutable_context()\n",
    "\n",
    "state = context.get_mutable_continuous_state_vector()\n",
    "state.SetFromVector(UprightState() + 0.1*np.random.randn(4,))\n",
    "simulator.StepTo(10.)\n",
    "\n",
    "prbv = PlanarRigidBodyVisualizer(tree, xlim=[-2.5, 2.5], ylim=[-1, 2.5])\n",
    "ani = prbv.animate(logger, resample=30, repeat=True)\n",
    "plt.close(prbv.fig)\n",
    "HTML(ani.to_html5_video())"
   ]
  },
  {
   "cell_type": "code",
   "execution_count": null,
   "metadata": {},
   "outputs": [],
   "source": []
  }
 ],
 "metadata": {
  "kernelspec": {
   "display_name": "Python 2",
   "language": "python",
   "name": "python2"
  },
  "language_info": {
   "codemirror_mode": {
    "name": "ipython",
    "version": 2
   },
   "file_extension": ".py",
   "mimetype": "text/x-python",
   "name": "python",
   "nbconvert_exporter": "python",
   "pygments_lexer": "ipython2",
   "version": "2.7.15rc1"
  }
 },
 "nbformat": 4,
 "nbformat_minor": 2
}
