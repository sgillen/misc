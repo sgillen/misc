{
 "cells": [
  {
   "cell_type": "code",
   "execution_count": 96,
   "metadata": {},
   "outputs": [],
   "source": [
    "import torch\n",
    "\n",
    "test_size  = 2\n",
    "obs_dim = 3\n",
    "act_dim = 1\n",
    "obs1_buf = torch.randn([test_size, obs_dim], dtype=torch.float32)\n",
    "obs2_buf = torch.randn([test_size, obs_dim], dtype=torch.float32)\n",
    "acts_buf = torch.randn([test_size, act_dim], dtype=torch.float32)\n",
    "rews_buf = torch.randn([test_size, 1], dtype=torch.float32)\n",
    "done_buf = torch.randn([test_size, 1], dtype=torch.float32)\n"
   ]
  },
  {
   "cell_type": "code",
   "execution_count": 97,
   "metadata": {},
   "outputs": [],
   "source": [
    "class ReplayBuffer:\n",
    "    \"\"\"\n",
    "    A simple FIFO experience replay buffer (modifed from from https://github.com/openai/spinningup/blob/master/spinup/algos/sac/sac.py)\n",
    "    \"\"\"\n",
    "\n",
    "    def __init__(self, obs_dim, act_dim, size):\n",
    "        self.obs1_buf = torch.zeros([size, obs_dim], dtype=torch.float32)\n",
    "        self.obs2_buf = torch.zeros([size, obs_dim], dtype=torch.float32)\n",
    "        self.acts_buf = torch.zeros([size, act_dim], dtype=torch.float32)\n",
    "        self.rews_buf = torch.zeros([size, 1], dtype=torch.float32)\n",
    "        self.done_buf = torch.zeros([size, 1], dtype=torch.float32)\n",
    "        self.ptr, self.size, self.max_size = 0, 0, size\n",
    "\n",
    "    def store(self, obs, next_obs, act, rew, done):\n",
    "        self.obs1_buf[self.ptr] = obs\n",
    "        self.obs2_buf[self.ptr] = next_obs\n",
    "        self.acts_buf[self.ptr] = act\n",
    "        self.rews_buf[self.ptr] = rew\n",
    "        self.done_buf[self.ptr] = done\n",
    "        self.ptr = (self.ptr + 1) % self.max_size\n",
    "        self.size = min(self.size + 1, self.max_size)\n",
    "\n",
    "    def sample_batch(self, batch_size=32):\n",
    "        idxs = np.random.randint(0, self.size, size=batch_size)\n",
    "        return (self.obs1_buf[idxs], self.obs2_buf[idxs], self.acts_buf[idxs], self.rews_buf[idxs], self.done_buf[idxs])\n",
    "\n",
    "\n",
    "def update_mean(data, cur_mean, cur_steps):\n",
    "    new_steps = data.shape[0]\n",
    "    return (torch.mean(data, 0) * new_steps + cur_mean * cur_steps) / (cur_steps + new_steps)\n",
    "\n",
    "\n",
    "def update_var(data, cur_var, cur_steps):\n",
    "    new_steps = data.shape[0]\n",
    "    return (torch.var(data, 0) * new_steps + cur_var * cur_steps) / (cur_steps + new_steps)\n",
    "\n"
   ]
  },
  {
   "cell_type": "code",
   "execution_count": 98,
   "metadata": {},
   "outputs": [],
   "source": [
    "class ReplayBuffer2:\n",
    "    \"\"\"\n",
    "    A simple FIFO experience replay buffer (modifed from from https://github.com/openai/spinningup/blob/master/spinup/algos/sac/sac.py)\n",
    "    \"\"\"\n",
    "\n",
    "    def __init__(self, obs_dim, act_dim, max_size):\n",
    "        self.obs1_buf = torch.zeros([max_size, obs_dim], dtype=torch.float32)\n",
    "        self.obs2_buf = torch.zeros([max_size, obs_dim], dtype=torch.float32)\n",
    "        self.acts_buf = torch.zeros([max_size, act_dim], dtype=torch.float32)\n",
    "        self.rews_buf = torch.zeros([max_size, 1], dtype=torch.float32)\n",
    "        self.done_buf = torch.zeros([max_size, 1], dtype=torch.float32)\n",
    "        self.ptr, self.size, self.max_size = 0, 0, max_size\n",
    "\n",
    "    def store(self, obs, next_obs, act, rew, done):\n",
    "        \n",
    "        insert_size = obs.shape[0]\n",
    "        space_left = self.max_size - (self.ptr + insert_size)\n",
    "        \n",
    "        if(space_left >= 0):\n",
    "            self.obs1_buf[self.ptr:self.ptr + insert_size,:] = obs\n",
    "            self.obs2_buf[self.ptr:self.ptr + insert_size,:] = next_obs\n",
    "            self.acts_buf[self.ptr:self.ptr + insert_size,:] = act\n",
    "            self.rews_buf[self.ptr:self.ptr + insert_size,:] = rew\n",
    "            self.done_buf[self.ptr:self.ptr + insert_size,:] = done\n",
    "            \n",
    "            self.ptr = self.ptr + insert_size\n",
    "            self.size = max(self.size, self.ptr)\n",
    "            \n",
    "        else:\n",
    "            \n",
    "            space_at_end = self.max_size - self.ptr\n",
    "            space_at_beg = (self.ptr + insert_size) - self.max_size\n",
    "            \n",
    "            self.obs1_buf[self.ptr:,:] = obs[:space_at_end,:]\n",
    "            self.obs2_buf[self.ptr:,:] = next_obs[:space_at_end,:]\n",
    "            self.acts_buf[self.ptr:,:] = act[:space_at_end,:]\n",
    "            self.rews_buf[self.ptr:,:] = rew[:space_at_end,:]\n",
    "            self.done_buf[self.ptr:,:] = done[:space_at_end,:]\n",
    "            \n",
    "            self.obs1_buf[:space_at_beg,:] = obs[space_at_end:,:]\n",
    "            self.obs2_buf[:space_at_beg,:] = next_obs[space_at_end:,:]\n",
    "            self.acts_buf[:space_at_beg,:] = act[space_at_end:,:]\n",
    "            self.rews_buf[:space_at_beg,:] = rew[space_at_end:,:]\n",
    "            self.done_buf[:space_at_beg,:] = done[space_at_end:,:]\n",
    "            \n",
    "            self.ptr = (self.ptr + insert_size) % self.max_size\n",
    "            self.size = self.max_size \n",
    "            \n",
    "\n",
    "    def sample_batch(self, batch_size=32):\n",
    "        idxs = np.random.randint(0, self.size, size=batch_size)\n",
    "        return (self.obs1_buf[idxs], self.obs2_buf[idxs], self.acts_buf[idxs], self.rews_buf[idxs], self.done_buf[idxs])\n",
    "\n",
    "\n",
    "def update_mean(data, cur_mean, cur_steps):\n",
    "    new_steps = data.shape[0]\n",
    "    return (torch.mean(data, 0) * new_steps + cur_mean * cur_steps) / (cur_steps + new_steps)\n",
    "\n",
    "\n",
    "def update_var(data, cur_var, cur_steps):\n",
    "    new_steps = data.shape[0]\n",
    "    return (torch.var(data, 0) * new_steps + cur_var * cur_steps) / (cur_steps + new_steps)\n",
    "\n",
    "replay_buf = ReplayBuffer(obs_dim, act_dim, int(1e6))"
   ]
  },
  {
   "cell_type": "code",
   "execution_count": 99,
   "metadata": {},
   "outputs": [],
   "source": [
    "replay_buf = ReplayBuffer(obs_dim, act_dim, 10)\n",
    "replay_buf2 = ReplayBuffer2(obs_dim, act_dim, 10)"
   ]
  },
  {
   "cell_type": "code",
   "execution_count": 94,
   "metadata": {},
   "outputs": [
    {
     "name": "stdout",
     "output_type": "stream",
     "text": [
      "49.3 ms ± 57.3 µs per loop (mean ± std. dev. of 7 runs, 10 loops each)\n"
     ]
    }
   ],
   "source": [
    "%%timeit\n",
    "\n",
    "for i in range(1):\n",
    "    for obs1, obs2, acts, rews, done in zip(obs1_buf, obs2_buf, acts_buf, rews_buf, done_buf):\n",
    "        replay_buf.store(obs1, obs2, acts, rews, done)"
   ]
  },
  {
   "cell_type": "code",
   "execution_count": 95,
   "metadata": {},
   "outputs": [
    {
     "name": "stdout",
     "output_type": "stream",
     "text": [
      "31.3 µs ± 340 ns per loop (mean ± std. dev. of 7 runs, 10000 loops each)\n"
     ]
    }
   ],
   "source": [
    "%%timeit\n",
    "for i in range(1):\n",
    "    replay_buf2.store(obs1_buf, obs2_buf, acts_buf, rews_buf, done_buf)"
   ]
  },
  {
   "cell_type": "code",
   "execution_count": 28,
   "metadata": {},
   "outputs": [
    {
     "name": "stdout",
     "output_type": "stream",
     "text": [
      "16.3 µs ± 119 ns per loop (mean ± std. dev. of 7 runs, 100000 loops each)\n"
     ]
    }
   ],
   "source": [
    "%%timeit\n",
    "\n",
    "\n",
    "replay_buf.obs1_buf[:test_size] = obs1_buf\n",
    "replay_buf.obs2_buf[:test_size] = obs2_buf\n",
    "replay_buf.acts_buf[:test_size] = acts_buf\n",
    "replay_buf.rews_buf[:test_size] = rews_buf\n",
    "replay_buf.done_buf[:test_size] = done_buf"
   ]
  },
  {
   "cell_type": "code",
   "execution_count": 140,
   "metadata": {},
   "outputs": [],
   "source": [
    "obs1_buf = torch.randn([test_size, obs_dim], dtype=torch.float32)\n",
    "obs2_buf = torch.randn([test_size, obs_dim], dtype=torch.float32)\n",
    "acts_buf = torch.randn([test_size, act_dim], dtype=torch.float32)\n",
    "rews_buf = torch.randn([test_size, 1], dtype=torch.float32)\n",
    "done_buf = torch.randn([test_size, 1], dtype=torch.float32)\n",
    "\n",
    "\n",
    "replay_buf2.store(obs1_buf, obs2_buf, acts_buf, rews_buf, done_buf)"
   ]
  },
  {
   "cell_type": "code",
   "execution_count": 141,
   "metadata": {},
   "outputs": [
    {
     "data": {
      "text/plain": [
       "tensor([[-1.1975,  1.6623,  0.1507],\n",
       "        [ 1.5804, -1.8119,  1.0720],\n",
       "        [ 0.9737,  1.9037, -0.2180],\n",
       "        [ 0.3617,  1.4736, -0.0153],\n",
       "        [-0.5894, -1.0121, -1.8025],\n",
       "        [ 0.6768,  1.0882, -1.2854],\n",
       "        [-0.3231, -0.2042,  0.3877],\n",
       "        [ 0.4944, -2.0150, -0.2871],\n",
       "        [-0.0999, -0.4783, -0.0402],\n",
       "        [ 0.2463, -1.0972, -0.6492]])"
      ]
     },
     "execution_count": 141,
     "metadata": {},
     "output_type": "execute_result"
    }
   ],
   "source": [
    "replay_buf2.obs1_buf"
   ]
  },
  {
   "cell_type": "code",
   "execution_count": 142,
   "metadata": {},
   "outputs": [
    {
     "data": {
      "text/plain": [
       "tensor([[ 0.5947],\n",
       "        [-1.5061],\n",
       "        [ 0.1282],\n",
       "        [ 0.6314],\n",
       "        [ 0.7548],\n",
       "        [ 0.9051],\n",
       "        [-0.6399],\n",
       "        [-0.1565],\n",
       "        [ 1.6891],\n",
       "        [-0.0991]])"
      ]
     },
     "execution_count": 142,
     "metadata": {},
     "output_type": "execute_result"
    }
   ],
   "source": [
    "replay_buf2.acts_buf"
   ]
  },
  {
   "cell_type": "code",
   "execution_count": 143,
   "metadata": {},
   "outputs": [
    {
     "data": {
      "text/plain": [
       "10"
      ]
     },
     "execution_count": 143,
     "metadata": {},
     "output_type": "execute_result"
    }
   ],
   "source": [
    "replay_buf2.size"
   ]
  },
  {
   "cell_type": "code",
   "execution_count": null,
   "metadata": {},
   "outputs": [],
   "source": []
  }
 ],
 "metadata": {
  "kernelspec": {
   "display_name": "Base Conda",
   "language": "python",
   "name": "base"
  },
  "language_info": {
   "codemirror_mode": {
    "name": "ipython",
    "version": 3
   },
   "file_extension": ".py",
   "mimetype": "text/x-python",
   "name": "python",
   "nbconvert_exporter": "python",
   "pygments_lexer": "ipython3",
   "version": "3.7.4"
  }
 },
 "nbformat": 4,
 "nbformat_minor": 4
}
