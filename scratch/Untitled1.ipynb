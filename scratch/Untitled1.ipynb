{
 "cells": [
  {
   "cell_type": "code",
   "execution_count": 1,
   "metadata": {},
   "outputs": [
    {
     "name": "stdout",
     "output_type": "stream",
     "text": [
      "\u001b[33mWARN: gym.spaces.Box autodetected dtype as <class 'numpy.float32'>. Please provide explicit dtype.\u001b[0m\n",
      "\u001b[33mWARN: gym.spaces.Box autodetected dtype as <class 'numpy.float32'>. Please provide explicit dtype.\u001b[0m\n"
     ]
    },
    {
     "name": "stderr",
     "output_type": "stream",
     "text": [
      "/Users/sgillen/work/seagul/seagul/rl/algos/__init__.py:9: UserWarning: tensorflow not installed, skipping symmetric ppo\n",
      "  warnings.warn(\"tensorflow not installed, skipping symmetric ppo\")\n",
      "/Users/sgillen/anaconda3/lib/python3.6/site-packages/gym/envs/registration.py:14: PkgResourcesDeprecationWarning: Parameters to load are deprecated.  Call .resolve and .require separately.\n",
      "  result = entry_point.load(False)\n"
     ]
    },
    {
     "data": {
      "application/vnd.jupyter.widget-view+json": {
       "model_id": "80e914603a884a3cbb008ddb779bec3b",
       "version_major": 2,
       "version_minor": 0
      },
      "text/plain": [
       "HBox(children=(IntProgress(value=0, max=20000), HTML(value='')))"
      ]
     },
     "metadata": {},
     "output_type": "display_data"
    }
   ],
   "source": [
    "from seagul.rl.regression_tests.pend_sac import arg_dict\n",
    "from seagul.rl.algos import sac \n",
    "t_model, rewards, var_dict = sac(**arg_dict)  # Should get to -200 reward\n"
   ]
  },
  {
   "cell_type": "code",
   "execution_count": 2,
   "metadata": {},
   "outputs": [
    {
     "data": {
      "text/plain": [
       "{'env_name': 'Pendulum-v0',\n",
       " 'total_steps': 409600,\n",
       " 'model': <seagul.rl.models.PPOModel at 0x1220dbba8>,\n",
       " 'epoch_batch_size': 2048,\n",
       " 'reward_stop': -200,\n",
       " 'pol_batch_size': 512,\n",
       " 'val_batch_size': 512,\n",
       " 'val_epochs': 10,\n",
       " 'pol_epochs': 10,\n",
       " 'pol_lr': 0.01,\n",
       " 'val_lr': 0.01,\n",
       " 'act_var_schedule': [0.707]}"
      ]
     },
     "execution_count": 2,
     "metadata": {},
     "output_type": "execute_result"
    }
   ],
   "source": [
    "arg_dict"
   ]
  },
  {
   "cell_type": "code",
   "execution_count": null,
   "metadata": {},
   "outputs": [],
   "source": []
  }
 ],
 "metadata": {
  "kernelspec": {
   "display_name": "anaconda3",
   "language": "python",
   "name": "base"
  },
  "language_info": {
   "codemirror_mode": {
    "name": "ipython",
    "version": 3
   },
   "file_extension": ".py",
   "mimetype": "text/x-python",
   "name": "python",
   "nbconvert_exporter": "python",
   "pygments_lexer": "ipython3",
   "version": "3.6.9"
  }
 },
 "nbformat": 4,
 "nbformat_minor": 2
}
