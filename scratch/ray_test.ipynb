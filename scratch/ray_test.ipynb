{
 "cells": [
  {
   "cell_type": "code",
   "execution_count": 2,
   "metadata": {},
   "outputs": [
    {
     "name": "stderr",
     "output_type": "stream",
     "text": [
      "2020-01-13 15:08:38,351\tWARNING worker.py:1268 -- WARNING: Not updating worker name since `setproctitle` is not installed. Install this with `pip install setproctitle` (or ray[debug]) to enable monitoring of worker processes.\n",
      "2020-01-13 15:08:38,353\tINFO resource_spec.py:205 -- Starting Ray with 4.44 GiB memory available for workers and up to 2.22 GiB for objects. You can adjust these settings with ray.init(memory=<bytes>, object_store_memory=<bytes>).\n"
     ]
    },
    {
     "data": {
      "text/plain": [
       "{'node_ip_address': '192.168.0.12',\n",
       " 'redis_address': '192.168.0.12:45857',\n",
       " 'object_store_address': '/tmp/ray/session_2020-01-13_15-08-38_352885_15543/sockets/plasma_store',\n",
       " 'raylet_socket_name': '/tmp/ray/session_2020-01-13_15-08-38_352885_15543/sockets/raylet',\n",
       " 'webui_url': None,\n",
       " 'session_dir': '/tmp/ray/session_2020-01-13_15-08-38_352885_15543'}"
      ]
     },
     "execution_count": 2,
     "metadata": {},
     "output_type": "execute_result"
    }
   ],
   "source": [
    "import ray \n",
    "from seagul.rl.algos import sac, ppo\n",
    "from seagul.nn import MLP\n",
    "from seagul.rl.models import SACModel, PPOModel \n",
    "import gym\n",
    "import torch\n",
    "\n",
    "ray.init()"
   ]
  },
  {
   "cell_type": "code",
   "execution_count": 25,
   "metadata": {},
   "outputs": [],
   "source": [
    "input_size = 3\n",
    "output_size = 1\n",
    "layer_size = 64\n",
    "num_layers = 2\n",
    "\n",
    "\n",
    "policy = MLP(input_size, output_size*2, num_layers, layer_size)\n",
    "value_fn = MLP(input_size, 1, num_layers, layer_size)\n",
    "q1_fn = MLP(input_size + output_size, 1, num_layers, layer_size)\n",
    "q2_fn = MLP(input_size + output_size, 1, num_layers, layer_size)\n",
    "model = SACModel(policy, value_fn, q1_fn, q2_fn, 3)\n",
    "\n",
    "@ray.remote\n",
    "def do_rollout(env, model, num_steps):\n",
    "    \n",
    "    acts_list = []\n",
    "    obs1_list = []\n",
    "    obs2_list = []\n",
    "    rews_list = []\n",
    "    done_list = []\n",
    "\n",
    "    dtype = torch.float32\n",
    "    act_size = env.action_space.shape[0]\n",
    "    obs = env.reset()\n",
    "    done = False\n",
    "    cur_step = 0\n",
    "\n",
    "    while not done:\n",
    "        obs = torch.as_tensor(obs, dtype=dtype).detach()\n",
    "        obs1_list.append(obs.clone())\n",
    "\n",
    "        noise = torch.randn(1, act_size)\n",
    "        act, _ = model.select_action(obs.reshape(1, -1), noise)\n",
    "        act = act.detach()\n",
    "\n",
    "        obs, rew, done, _ = env.step(act.numpy().reshape(-1))\n",
    "        obs = torch.as_tensor(obs, dtype=dtype).detach()\n",
    "\n",
    "        acts_list.append(torch.as_tensor(act.clone(), dtype=dtype))\n",
    "        rews_list.append(torch.as_tensor(rew, dtype=dtype))\n",
    "        obs2_list.append(obs.clone())\n",
    "\n",
    "\n",
    "        if cur_step < num_steps:\n",
    "            done_list.append(torch.as_tensor(done))\n",
    "        else:\n",
    "            done_list.append(torch.as_tensor(False))\n",
    "\n",
    "        cur_step+=1\n",
    "\n",
    "    ep_obs1 = torch.stack(obs1_list)\n",
    "    ep_acts = torch.stack(acts_list)\n",
    "    ep_rews = torch.stack(rews_list).reshape(-1, 1)\n",
    "    ep_obs2 = torch.stack(obs2_list)\n",
    "    ep_done = torch.stack(done_list).reshape(-1, 1)\n",
    "    \n",
    "    print(torch.pow(ep_obs1,2).mean())\n",
    "    return (ep_obs1, ep_obs2, ep_acts, ep_rews, ep_done)\n",
    "\n",
    "def do_rollout_local(env, model, num_steps):\n",
    "      \n",
    "    acts_list = []\n",
    "    obs1_list = []\n",
    "    obs2_list = []\n",
    "    rews_list = []\n",
    "    done_list = []\n",
    "\n",
    "    dtype = torch.float32\n",
    "    act_size = env.action_space.shape[0]\n",
    "    obs = env.reset()\n",
    "    done = False\n",
    "    cur_step = 0\n",
    "\n",
    "    while not done:\n",
    "        obs = torch.as_tensor(obs, dtype=dtype).detach()\n",
    "        obs1_list.append(obs.clone())\n",
    "\n",
    "        noise = torch.randn(1, act_size)\n",
    "        act, _ = model.select_action(obs.reshape(1, -1), noise)\n",
    "        act = act.detach()\n",
    "\n",
    "        obs, rew, done, _ = env.step(act.numpy().reshape(-1))\n",
    "        obs = torch.as_tensor(obs, dtype=dtype).detach()\n",
    "\n",
    "        acts_list.append(torch.as_tensor(act.clone(), dtype=dtype))\n",
    "        rews_list.append(torch.as_tensor(rew, dtype=dtype))\n",
    "        obs2_list.append(obs.clone())\n",
    "\n",
    "\n",
    "        if cur_step < num_steps:\n",
    "            done_list.append(torch.as_tensor(done))\n",
    "        else:\n",
    "            done_list.append(torch.as_tensor(False))\n",
    "\n",
    "        cur_step+=1\n",
    "\n",
    "    ep_obs1 = torch.stack(obs1_list)\n",
    "    ep_acts = torch.stack(acts_list)\n",
    "    ep_rews = torch.stack(rews_list).reshape(-1, 1)\n",
    "    ep_obs2 = torch.stack(obs2_list)\n",
    "    ep_done = torch.stack(done_list).reshape(-1, 1)\n",
    "\n",
    "    print(torch.pow(ep_obs1,2).mean())\n",
    "    return (ep_obs1, ep_obs2, ep_acts, ep_rews, ep_done)\n",
    "\n",
    "\n",
    "\n",
    "\n",
    "def do_calc_local(env):\n",
    "    print(env)\n",
    "    obs = env.reset()\n",
    "    print(obs)\n",
    "    return obs\n",
    "\n",
    "@ray.remote\n",
    "def do_calc(env):\n",
    "    print(env)\n",
    "    obs = env.reset()\n",
    "    print(obs)\n",
    "    return obs"
   ]
  },
  {
   "cell_type": "code",
   "execution_count": 26,
   "metadata": {},
   "outputs": [],
   "source": [
    "env_name = \"Pendulum-v0\"\n",
    "env = gym.make(env_name)"
   ]
  },
  {
   "cell_type": "code",
   "execution_count": 50,
   "metadata": {},
   "outputs": [
    {
     "name": "stdout",
     "output_type": "stream",
     "text": [
      "tensor(2.4565)\n"
     ]
    }
   ],
   "source": [
    "#%%timeit\n",
    "futures = [do_rollout.remote(env, model,200) for _ in range(1)]\n",
    "a = ray.get(futures)\n",
    "\n",
    "print(torch.pow(a[0][0],2).mean())"
   ]
  },
  {
   "cell_type": "code",
   "execution_count": 51,
   "metadata": {},
   "outputs": [
    {
     "name": "stdout",
     "output_type": "stream",
     "text": [
      "\u001b[2m\u001b[36m(pid=15594)\u001b[0m tensor(2.4565)\n",
      "tensor(1.7422)\n",
      "tensor(1.7422)\n"
     ]
    }
   ],
   "source": [
    "#%%timeit\n",
    "for _ in range(1):\n",
    "    b = do_rollout_local(env, model, 15000)\n",
    "print(torch.pow(b[0],2).mean())"
   ]
  },
  {
   "cell_type": "code",
   "execution_count": 7,
   "metadata": {},
   "outputs": [
    {
     "name": "stdout",
     "output_type": "stream",
     "text": [
      "<TimeLimit<PendulumEnv<Pendulum-v0>>>\n",
      "[-0.01198911 -0.99992813 -0.79208164]\n"
     ]
    },
    {
     "data": {
      "text/plain": [
       "array([-0.01198911, -0.99992813, -0.79208164])"
      ]
     },
     "execution_count": 7,
     "metadata": {},
     "output_type": "execute_result"
    }
   ],
   "source": [
    "do_calc_local(env)"
   ]
  },
  {
   "cell_type": "code",
   "execution_count": 8,
   "metadata": {},
   "outputs": [
    {
     "name": "stderr",
     "output_type": "stream",
     "text": [
      "2020-01-13 15:08:49,372\tWARNING worker.py:348 -- WARNING: Falling back to serializing objects of type <class 'numpy.dtype'> by using pickle. This may be inefficient.\n",
      "2020-01-13 15:08:49,376\tWARNING worker.py:348 -- WARNING: Falling back to serializing objects of type <class 'numpy.random.mtrand.RandomState'> by using pickle. This may be inefficient.\n"
     ]
    },
    {
     "name": "stdout",
     "output_type": "stream",
     "text": [
      "[-0.88505316  0.46548996  0.87610353]\n",
      "\u001b[2m\u001b[36m(pid=15594)\u001b[0m <TimeLimit<PendulumEnv<Pendulum-v0>>>\n",
      "\u001b[2m\u001b[36m(pid=15594)\u001b[0m [-0.88505316  0.46548996  0.87610353]\n"
     ]
    }
   ],
   "source": [
    "future = do_calc.remote(env)\n",
    "print(ray.get(future))"
   ]
  },
  {
   "cell_type": "code",
   "execution_count": null,
   "metadata": {},
   "outputs": [],
   "source": []
  }
 ],
 "metadata": {
  "kernelspec": {
   "display_name": "Symmetric RL (3.6)",
   "language": "python",
   "name": "sym"
  },
  "language_info": {
   "codemirror_mode": {
    "name": "ipython",
    "version": 3
   },
   "file_extension": ".py",
   "mimetype": "text/x-python",
   "name": "python",
   "nbconvert_exporter": "python",
   "pygments_lexer": "ipython3",
   "version": "3.6.9"
  }
 },
 "nbformat": 4,
 "nbformat_minor": 4
}
