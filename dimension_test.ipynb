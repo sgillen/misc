{
 "cells": [
  {
   "cell_type": "code",
   "execution_count": 92,
   "metadata": {},
   "outputs": [],
   "source": [
    "import numpy as np\n",
    "import matplotlib.pyplot as plt\n",
    "from scipy.integrate import solve_ivp\n",
    "import random\n",
    "\n",
    "\n",
    "from sklearn import linear_model, datasets"
   ]
  },
  {
   "cell_type": "code",
   "execution_count": 93,
   "metadata": {},
   "outputs": [],
   "source": [
    "def shrink(t,q):\n",
    "    x = q[0]; y = q[1]\n",
    "    dx = -x\n",
    "    dy = -y\n",
    "    return np.array([-x, -y])"
   ]
  },
  {
   "cell_type": "code",
   "execution_count": 96,
   "metadata": {},
   "outputs": [],
   "source": [
    "\n",
    "num_trials = 10 # this is the number of intital conditions to try, note the total number of trials is num_trials*num_trials\n",
    "\n",
    "min_x = -10\n",
    "max_x = 10\n",
    "\n",
    "min_y = -10\n",
    "max_y = 10\n",
    "\n",
    "x_vals = np.linspace(min_x, max_y, num_trials)\n",
    "y_vals = np.linspace(min_y, max_y, num_trials)\n",
    "\n",
    "dt = .1\n",
    "t_eval = np.arange(0,5,dt)\n",
    "\n",
    "q = np.zeros((len(t_eval), num_trials, num_trials, 2))\n",
    "\n",
    "for i, x in enumerate(x_vals):\n",
    "    for j, y in enumerate(y_vals):\n",
    "        \n",
    "\n",
    "        sol = solve_ivp(shrink, (0,5), np.array([x,y]), vectorized = True, t_eval = t_eval)\n",
    "        q[:,i,j,:] = sol.y.T\n",
    "\n",
    "        \n",
    "        \n",
    "        plt.plot(sol.y[0,:], sol.y[1,:])\n",
    "        \n",
    "        \n",
    "%matplotlib inline\n",
    "#plt.gca().set_aspect('equal', adjustable='box')\n",
    "traj_list = [np.flip(q[:,i,j,:], axis = 0) for i in range(num_trials) for j in range(num_trials)]"
   ]
  },
  {
   "cell_type": "code",
   "execution_count": 73,
   "metadata": {},
   "outputs": [],
   "source": [
    "# Calculate thefractional dimension at each time step (or something like that anyway)\n",
    "# Method Katie Suggests\n",
    "\n",
    "# TODO make this a function\n",
    "\n",
    "# just calculating the length of the shortest trajectory\n",
    "min_t = min([x.shape[0] for x in traj_list]) \n",
    "\n",
    "NR_list = []\n",
    "r_delta = .01\n",
    "delta = .01\n",
    "for i in range(min_t):\n",
    "    NR_list.append([])\n",
    "    \n",
    "    r_min = delta**2 # Length of the ball around our point. Delta from above, need to start somewhere\n",
    "    r_max = 3\n",
    "    num_r = 100\n",
    "    N = 0\n",
    "    \n",
    "    for r in np.linspace(r_min, r_max, num=num_r):\n",
    "        N = 0\n",
    "        points = [traj[i,:] for traj in traj_list]\n",
    "        random.shuffle(points) #shuffles points in place\n",
    "\n",
    "        while(True):\n",
    "            # Is a try catch really the best way to terminate?\n",
    "            # probably not but right now I don't care\n",
    "            try:\n",
    "                center = points.pop(0) # pop also removes point from our list\n",
    "                points[:] = [x for x in points if sum((center - x)**2) > r]\n",
    "                N+=1\n",
    "            except IndexError:\n",
    "                NR_list[i].append((N,r))\n",
    "                break\n",
    "        "
   ]
  },
  {
   "cell_type": "code",
   "execution_count": 88,
   "metadata": {},
   "outputs": [
    {
     "name": "stdout",
     "output_type": "stream",
     "text": [
      "Using matplotlib backend: MacOSX\n"
     ]
    },
    {
     "data": {
      "text/plain": [
       "[<matplotlib.lines.Line2D at 0x11843da58>]"
      ]
     },
     "execution_count": 88,
     "metadata": {},
     "output_type": "execute_result"
    }
   ],
   "source": [
    "%matplotlib\n",
    "\n",
    "a = np.array(NR_list[30])\n",
    "\n",
    "plt.plot(a[:,1], a[:,0],'x-')\n",
    "plt.figure()\n",
    "\n",
    "plt.plot(np.log(a[:,1]), np.log(a[:,0]),'-')\n",
    "#plt.figure()\n",
    "\n",
    "\n",
    "X = np.log(a[:,1]).reshape(-1,1)\n",
    "y = np.log(a[:,0]).reshape(-1,1)\n",
    "\n",
    "# adapted from https://scikit-learn.org/stable/auto_examples/linear_model/plot_ransac.html\n",
    "\n",
    "lr = linear_model.LinearRegression()\n",
    "lr.fit(X, y)\n",
    "\n",
    "ransac = linear_model.RANSACRegressor()\n",
    "ransac.fit(X, y)\n",
    "\n",
    "inlier_mask = ransac.inlier_mask_\n",
    "outlier_mask = np.logical_not(inlier_mask)\n",
    "\n",
    "# Predict data of estimated models\n",
    "line_X = np.arange(X.min(), X.max())[:, np.newaxis]\n",
    "#line_y = lr.predict(line_X)\n",
    "line_y_ransac = ransac.predict(line_X)\n",
    "\n",
    "plt.scatter(X[inlier_mask], y[inlier_mask], color='yellowgreen', marker='.',\n",
    "            label='Inliers')\n",
    "plt.scatter(X[outlier_mask], y[outlier_mask], color='gold', marker='.',\n",
    "            label='Outliers')\n",
    "\n",
    "plt.plot(line_X, line_y_ransac)"
   ]
  },
  {
   "cell_type": "code",
   "execution_count": null,
   "metadata": {},
   "outputs": [],
   "source": []
  }
 ],
 "metadata": {
  "kernelspec": {
   "display_name": "anaconda3",
   "language": "python",
   "name": "base"
  },
  "language_info": {
   "codemirror_mode": {
    "name": "ipython",
    "version": 3
   },
   "file_extension": ".py",
   "mimetype": "text/x-python",
   "name": "python",
   "nbconvert_exporter": "python",
   "pygments_lexer": "ipython3",
   "version": "3.6.8"
  }
 },
 "nbformat": 4,
 "nbformat_minor": 2
}
