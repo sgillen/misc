{
 "cells": [
  {
   "cell_type": "code",
   "execution_count": 75,
   "metadata": {},
   "outputs": [],
   "source": [
    "import numpy as np\n",
    "import scipy.optimize as opt\n",
    "import matplotlib.pyplot as plt\n",
    "\n",
    "\n",
    "## Example dimension calculation function\n",
    "def variation_dim(X, order=1):\n",
    "    # Implements the order p variation fractal dimension from https://arxiv.org/pdf/1101.1444.pdf (eq 18)\n",
    "    # order 1 corresponds to the madogram, 2 to the variogram, 1/2 to the rodogram\n",
    "    return 2 - 1 / (order * np.log(2)) * (np.log(power_var(X, 2, order)) - np.log(power_var(X, 1, order)))\n",
    "\n",
    "# Helper function\n",
    "def power_var(X, l, ord):\n",
    "    # The power variation, see variation_dim\n",
    "    diffs = X[l:] - X[:-l]\n",
    "    norms = np.zeros(diffs.shape[0])\n",
    "    for i, d in enumerate(diffs):\n",
    "        norms[i] = np.linalg.norm(d, ord=1)\n",
    "\n",
    "    return 1 / (2 * len(X) - l) * np.sum(norms)\n",
    "\n",
    "\n",
    "\n",
    "## Example dimension calculation function\n",
    "def mesh_dim(data, scaling_factor=1.5, init_d=1e-2, upper_size_ratio=4/5, lower_size_ratio=0.0, d_limit=1e-9):\n",
    "    \"\"\"\n",
    "    Args:\n",
    "        data - any array like, represents the trajectory you want to compute the dimension of\n",
    "        scaling factors - float indicating how much to scale d by for every new mesh\n",
    "        init_d - float, initial box size\n",
    "        upper_size_ratio - upper_size_ratio*data.shape[0] determines what size of mesh to stop at when finding the upper bound of the curve.\n",
    "        lower_size_ratio - lower_size_ratio*data.shape[0] determines what size of mesh to stop at when finding the lower bound of the curve. Usually best to leave at 0.\n",
    "        d_limit - smallest d value to allow when seeking the upper_size bound\n",
    "\n",
    "    Returns:\n",
    "        mdim: linear fit to the log(mesh) log(d) data, intentional underestimate of the meshing dimensions\n",
    "        cdim: the conservative mesh dimension, that is the largest slope from the log log data, an intentional overestimate of the\n",
    "        mesh_sizes: sizes of each mesh created during the computation\n",
    "        d_vals: box sizes used to create each mesh during the computation\n",
    "    \"\"\"\n",
    "\n",
    "    mesh_size_upper = np.round(upper_size_ratio * data.shape[0])\n",
    "    mesh_size_lower = np.round(np.max((1.0, lower_size_ratio * data.shape[0])))\n",
    "    d = init_d\n",
    "\n",
    "    mesh = create_box_mesh(data, d)\n",
    "    mesh_sizes = [len(mesh)]\n",
    "    d_vals = [d]\n",
    "\n",
    "    while mesh_sizes[0] < mesh_size_upper and d > d_limit:\n",
    "        d /= scaling_factor\n",
    "        mesh = create_box_mesh(data, d)\n",
    "        mesh_sizes.insert(0, len(mesh))\n",
    "        d_vals.insert(0, d)\n",
    "\n",
    "    d = init_d\n",
    "    while mesh_sizes[-1] > mesh_size_lower and d > d_limit:\n",
    "        d = d * scaling_factor\n",
    "        mesh = create_box_mesh(data, d)\n",
    "        mesh_sizes.append(len(mesh))\n",
    "        d_vals.append(d)\n",
    "\n",
    "    for i, m in enumerate(mesh_sizes):\n",
    "        if m < mesh_size_upper:\n",
    "            lin_begin = i\n",
    "            break\n",
    "\n",
    "    xdata = np.log2(d_vals[lin_begin:])\n",
    "    ydata = np.log2(mesh_sizes[lin_begin:])\n",
    "\n",
    "    # Fit a curve to the log log line\n",
    "    def f(x, m, b):\n",
    "        return m * x + b\n",
    "\n",
    "    popt, pcov = opt.curve_fit(f, xdata, ydata)\n",
    "\n",
    "    # find the largest slope\n",
    "    min_slope = 0\n",
    "    for i in range(len(ydata) - 2):\n",
    "        slope = (ydata[i+1] - ydata[i]) / (xdata[i + 1] - xdata[i])\n",
    "        if slope < min_slope:\n",
    "            min_slope = slope\n",
    "\n",
    "    return -popt[0], -min_slope, mesh_sizes, d_vals\n",
    "\n",
    "\n",
    "def create_box_mesh(data, d, initial_mesh=None):\n",
    "    \"\"\" Creates a mesh from the given data using boxes of size d\n",
    "    Args:\n",
    "        data: np.array, the data you want to create a mesh for\n",
    "        d: float, the length of the box used to determine membership in the mesh\n",
    "        initial_mesh: dict, output from a previous call to create_box_mesh, used to add to a mesh rather than build a new one\n",
    "    Returns:\n",
    "        mesh: dict, keys are the mesh point coordinates, values are how many points in the original data set are represented by the mesh point\n",
    "    \"\"\"\n",
    "    if initial_mesh is None:\n",
    "        initial_mesh = {}\n",
    "\n",
    "    mesh = initial_mesh\n",
    "    data = np.asarray(data)\n",
    "\n",
    "    scale = 1 / d\n",
    "\n",
    "    keys = np.round(data * scale, decimals=0) * d\n",
    "    keys[keys == -0.0] = 0.0\n",
    "\n",
    "    for key in keys:\n",
    "        key = tuple(key)\n",
    "        if key in mesh:\n",
    "            mesh[key] += 1\n",
    "        else:\n",
    "            mesh[key] = 1\n",
    "\n",
    "    return mesh"
   ]
  },
  {
   "cell_type": "code",
   "execution_count": 53,
   "metadata": {},
   "outputs": [],
   "source": [
    "def jessdim(X, optional_argument=None):\n",
    "    # Write some new code here\n",
    "    return 0"
   ]
  },
  {
   "cell_type": "code",
   "execution_count": 83,
   "metadata": {},
   "outputs": [
    {
     "name": "stdout",
     "output_type": "stream",
     "text": [
      "Rodogram: 1.995768029464667\n",
      "Madogram: 1.9978840147323333\n",
      "Variogram: 1.9989420073661668\n",
      "Optimistic Mesh Dim: 4.977416566765821\n",
      "New dimension: 0\n"
     ]
    },
    {
     "data": {
      "image/png": "[encoded data removed]",
      "text/plain": [
       "<Figure size 432x288 with 1 Axes>"
      ]
     },
     "metadata": {
      "needs_background": "light"
     },
     "output_type": "display_data"
    }
   ],
   "source": [
    "#\n",
    "X = np.random.random((10000,10))\n",
    "\n",
    "plt.plot(X)\n",
    "\n",
    "print(f\"Rodogram: {variation_dim(X, order=.5)}\")\n",
    "print(f\"Madogram: {variation_dim(X, order=1)}\")\n",
    "print(f\"Variogram: {variation_dim(X, order=2)}\")\n",
    "print(f\"Optimistic Mesh Dim: {mesh_dim(X)[0]}\")\n",
    "print(f\"New dimension: {jessdim(X)}\")"
   ]
  },
  {
   "cell_type": "code",
   "execution_count": 84,
   "metadata": {},
   "outputs": [],
   "source": [
    "np.random.standard_normal(size=(10000, 10))"
   ]
  },
  {
   "cell_type": "code",
   "execution_count": 84,
   "metadata": {},
   "outputs": [
    {
     "name": "stdout",
     "output_type": "stream",
     "text": [
      "Rodogram: 0.0014459470058971746\n",
      "Madogram: 1.0007229735029486\n",
      "Variogram: 1.5003614867514743\n",
      "Optimistic Mesh Dim: 0.88241856446217\n",
      "New dimension: 0\n"
     ]
    },
    {
     "data": {
      "image/png": "[encoded data removed]",
      "text/plain": [
       "<Figure size 432x288 with 1 Axes>"
      ]
     },
     "metadata": {
      "needs_background": "light"
     },
     "output_type": "display_data"
    }
   ],
   "source": [
    "X = np.linspace(np.zeros(10) ,np.ones(10)*10,1000)\n",
    "plt.plot(X)\n",
    "\n",
    "print(f\"Rodogram: {variation_dim(X, order=.5)}\")\n",
    "print(f\"Madogram: {variation_dim(X, order=1)}\")\n",
    "print(f\"Variogram: {variation_dim(X, order=2)}\")\n",
    "print(f\"Optimistic Mesh Dim: {mesh_dim(X)[0]}\")\n",
    "print(f\"New dimension: {jessdim(X)}\")"
   ]
  },
  {
   "cell_type": "code",
   "execution_count": null,
   "metadata": {},
   "outputs": [],
   "source": []
  }
 ],
 "metadata": {
  "kernelspec": {
   "display_name": "Base Conda",
   "language": "python",
   "name": "base"
  },
  "language_info": {
   "codemirror_mode": {
    "name": "ipython",
    "version": 3
   },
   "file_extension": ".py",
   "mimetype": "text/x-python",
   "name": "python",
   "nbconvert_exporter": "python",
   "pygments_lexer": "ipython3",
   "version": "3.7.4"
  }
 },
 "nbformat": 4,
 "nbformat_minor": 4
}
