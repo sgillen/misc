{
 "cells": [
  {
   "cell_type": "code",
   "execution_count": 97,
   "metadata": {},
   "outputs": [
    {
     "name": "stdout",
     "output_type": "stream",
     "text": [
      "50000\n"
     ]
    }
   ],
   "source": [
    "import llist\n",
    "inp = open('./day5_input.txt').read()\n",
    "poll = llist.dllist()\n",
    "for l in inp:\n",
    "    poll.append(l)\n",
    "    \n",
    "print(len(poll))"
   ]
  },
  {
   "cell_type": "code",
   "execution_count": 102,
   "metadata": {},
   "outputs": [],
   "source": [
    "# pretty sure this is slow becuase using nodeat(i) is slow\n",
    "# will need to implement my own linked list to make this work..\n",
    "# should I add to llist impl..?\n",
    "\n",
    "def reduce(poll2):\n",
    "    changed = True\n",
    "    \n",
    "    while (changed):\n",
    "        changed = False\n",
    "        remove_list = []\n",
    "        for i in range(0,len(poll2) - 1):\n",
    "             if poll2[i].upper() == poll2[i + 1].upper()  and poll2[i].isupper() != poll2[i+1].isupper():\n",
    "                if poll2.nodeat(i+1) not in remove_list and poll2.nodeat(i) not in remove_list:\n",
    "                    remove_list.append(poll2.nodeat(i))\n",
    "                    remove_list.append(poll2.nodeat(i+1))\n",
    "                    changed = True\n",
    "                \n",
    "               \n",
    "                \n",
    "        for n in remove_list:\n",
    "             poll2.remove(n)\n",
    "              \n",
    "                    \n",
    "                    \n",
    "    \n",
    "    return len(poll2)"
   ]
  },
  {
   "cell_type": "code",
   "execution_count": 98,
   "metadata": {},
   "outputs": [],
   "source": [
    "alpha = 'abcdefghijklmnopqrstuvwxyz'"
   ]
  },
  {
   "cell_type": "code",
   "execution_count": 112,
   "metadata": {},
   "outputs": [],
   "source": [
    "min_length = 50000\n",
    "for l in alpha:\n",
    "    \n",
    "    inp = open('./day5_input.txt').read()\n",
    "    poll = llist.dllist()\n",
    "    for le in inp:\n",
    "        poll.append(le)\n",
    "    changed = True\n",
    "    \n",
    "    \n",
    "    remove_list = []\n",
    "    for i in range(0,len(poll) - 1):\n",
    "        if poll[i].lower() == l:   \n",
    "            remove_list.append(poll.nodeat(i))\n",
    "\n",
    "    for n in remove_list:\n",
    "         poll.remove(n)\n",
    "\n",
    "\n",
    "    length = reduce(poll)\n",
    "    if length < min_length:\n",
    "        min_length = length"
   ]
  },
  {
   "cell_type": "code",
   "execution_count": 114,
   "metadata": {},
   "outputs": [
    {
     "data": {
      "text/plain": [
       "6538"
      ]
     },
     "execution_count": 114,
     "metadata": {},
     "output_type": "execute_result"
    }
   ],
   "source": [
    "min_length"
   ]
  },
  {
   "cell_type": "code",
   "execution_count": 35,
   "metadata": {},
   "outputs": [
    {
     "data": {
      "text/plain": [
       "10766"
      ]
     },
     "execution_count": 35,
     "metadata": {},
     "output_type": "execute_result"
    }
   ],
   "source": [
    "len(poll)"
   ]
  },
  {
   "cell_type": "code",
   "execution_count": 111,
   "metadata": {},
   "outputs": [
    {
     "data": {
      "text/plain": [
       "10766"
      ]
     },
     "execution_count": 111,
     "metadata": {},
     "output_type": "execute_result"
    }
   ],
   "source": [
    "min_length"
   ]
  },
  {
   "cell_type": "code",
   "execution_count": null,
   "metadata": {},
   "outputs": [],
   "source": []
  }
 ],
 "metadata": {
  "kernelspec": {
   "display_name": "Python [conda env:anaconda3]",
   "language": "python",
   "name": "conda-env-anaconda3-py"
  },
  "language_info": {
   "codemirror_mode": {
    "name": "ipython",
    "version": 3
   },
   "file_extension": ".py",
   "mimetype": "text/x-python",
   "name": "python",
   "nbconvert_exporter": "python",
   "pygments_lexer": "ipython3",
   "version": "3.6.7"
  }
 },
 "nbformat": 4,
 "nbformat_minor": 2
}
