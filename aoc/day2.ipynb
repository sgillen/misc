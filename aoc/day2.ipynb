{
 "cells": [
  {
   "cell_type": "code",
   "execution_count": 28,
   "metadata": {},
   "outputs": [],
   "source": [
    "# part one\n",
    "\n",
    "str_input = open('day2_input.txt').read().split('\\n')\n",
    "\n",
    "two_count = 0\n",
    "three_count = 0\n",
    "\n",
    "for word in str_input:\n",
    "    char_dict = {} \n",
    "    two_seen = False\n",
    "    three_seen = False\n",
    "\n",
    "    for char in word:\n",
    "        if char in char_dict:\n",
    "            char_dict[char] += 1\n",
    "        else:\n",
    "            char_dict[char] = 1\n",
    "        \n",
    "    for value in char_dict.values():\n",
    "        if value == 2 and not two_seen:\n",
    "            two_count += 1\n",
    "            two_seen = True\n",
    "        if value == 3 and not three_seen:\n",
    "            three_count += 1\n",
    "            three_seen = True\n",
    "\n",
    "            \n",
    "three_count * two_count"
   ]
  },
  {
   "cell_type": "code",
   "execution_count": 52,
   "metadata": {},
   "outputs": [],
   "source": [
    "# part two\n",
    "\n",
    "import itertools\n",
    "str_input = open('day2_input.txt').read().split('\\n')\n",
    "\n",
    "\n",
    "def word_diff(word1, word2):\n",
    "    diff = 0\n",
    "    for letter1, letter2 in zip(word1, word2):\n",
    "        if letter1 is not letter2:\n",
    "            diff += 1\n",
    "    return diff\n",
    "\n",
    "\n",
    "str_input = open('day2_input.txt').read().split('\\n')\n",
    "\n",
    "for word1, word2 in itertools.combinations(str_input,2):\n",
    "    diff = word_diff(word1,word2)\n",
    "    if diff == 1:\n",
    "        answer = (word1, word2)"
   ]
  },
  {
   "cell_type": "code",
   "execution_count": 68,
   "metadata": {},
   "outputs": [],
   "source": [
    "common_word = []\n",
    "for letter1, letter2 in zip(answer[0], answer[1]):\n",
    "    if letter1 is letter2:\n",
    "        common_word.append(letter1)\n",
    "\n",
    "#common_word"
   ]
  },
  {
   "cell_type": "code",
   "execution_count": 69,
   "metadata": {},
   "outputs": [
    {
     "data": {
      "text/plain": [
       "'tjxmoewpdkyaihvrndfluwbzc'"
      ]
     },
     "execution_count": 69,
     "metadata": {},
     "output_type": "execute_result"
    }
   ],
   "source": [
    "''.join(common_word)"
   ]
  },
  {
   "cell_type": "code",
   "execution_count": null,
   "metadata": {},
   "outputs": [],
   "source": [
    "# Thought this was fun..\n",
    "for char, count in zip(char_dict.keys(), char_dict.values()):\n",
    "    print(char,count)"
   ]
  }
 ],
 "metadata": {
  "kernelspec": {
   "display_name": "Python [conda env:anaconda3]",
   "language": "python",
   "name": "conda-env-anaconda3-py"
  },
  "language_info": {
   "codemirror_mode": {
    "name": "ipython",
    "version": 3
   },
   "file_extension": ".py",
   "mimetype": "text/x-python",
   "name": "python",
   "nbconvert_exporter": "python",
   "pygments_lexer": "ipython3",
   "version": "3.6.3"
  }
 },
 "nbformat": 4,
 "nbformat_minor": 2
}
