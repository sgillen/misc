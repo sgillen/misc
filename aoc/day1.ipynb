{
 "cells": [
  {
   "cell_type": "code",
   "execution_count": 32,
   "metadata": {},
   "outputs": [
    {
     "name": "stdout",
     "output_type": "stream",
     "text": [
      "561\n"
     ]
    }
   ],
   "source": [
    "# Part one\n",
    "\n",
    "str_input = open('day1_input.txt').read().split('\\n')\n",
    "#str_input = open('day1_input.txt').read().strip()\n",
    "foo = str_input.pop() #last input is a blank so just remove it\n",
    "int_input = [int(st) for st in str_input]\n",
    "\n",
    "total_freq = 0\n",
    "for freq in int_input:\n",
    "    total_freq += freq\n",
    "    \n",
    "print(total_freq)"
   ]
  },
  {
   "cell_type": "code",
   "execution_count": 25,
   "metadata": {},
   "outputs": [
    {
     "name": "stdout",
     "output_type": "stream",
     "text": [
      "563\n"
     ]
    }
   ],
   "source": [
    "# part two\n",
    "\n",
    "# same as above but hey maybe I want to run just cell 2\n",
    "str_input = open('day1_input.txt').read().split('\\n')\n",
    "foo = str_input.pop() #last input is a blank so just remove it\n",
    "int_input = [int(st) for st in str_input]\n",
    "\n",
    "total_freq = 0\n",
    "freq_dict = {}\n",
    "repeat_freq = False\n",
    "\n",
    "# This is in my opinion kind of ugly\n",
    "while True:\n",
    "    for freq in int_input:\n",
    "        total_freq += freq\n",
    "        if total_freq not in freq_dict:\n",
    "            freq_dict[total_freq] = True\n",
    "        else:\n",
    "            repeat_freq = total_freq\n",
    "            break\n",
    "            \n",
    "    if repeat_freq:\n",
    "        break\n",
    "    \n",
    "print(repeat_freq)"
   ]
  },
  {
   "cell_type": "code",
   "execution_count": 23,
   "metadata": {},
   "outputs": [
    {
     "data": {
      "text/plain": [
       "False"
      ]
     },
     "execution_count": 23,
     "metadata": {},
     "output_type": "execute_result"
    }
   ],
   "source": [
    "-14 not in freq_dict"
   ]
  },
  {
   "cell_type": "code",
   "execution_count": null,
   "metadata": {},
   "outputs": [],
   "source": []
  }
 ],
 "metadata": {
  "kernelspec": {
   "display_name": "Python [conda env:anaconda3]",
   "language": "python",
   "name": "conda-env-anaconda3-py"
  },
  "language_info": {
   "codemirror_mode": {
    "name": "ipython",
    "version": 3
   },
   "file_extension": ".py",
   "mimetype": "text/x-python",
   "name": "python",
   "nbconvert_exporter": "python",
   "pygments_lexer": "ipython3",
   "version": "3.6.3"
  }
 },
 "nbformat": 4,
 "nbformat_minor": 2
}
