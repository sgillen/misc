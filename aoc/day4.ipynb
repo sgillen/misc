{
 "cells": [
  {
   "cell_type": "code",
   "execution_count": 186,
   "metadata": {},
   "outputs": [],
   "source": [
    "import datetime as dt\n",
    "import copy\n",
    "\n",
    "with open('day4_input.txt') as f:\n",
    "    inp_raw = f.readlines()"
   ]
  },
  {
   "cell_type": "code",
   "execution_count": 187,
   "metadata": {},
   "outputs": [],
   "source": [
    "inp = [None for _ in range(len(inp_raw))]\n",
    "time_list = [None for _ in range(len(inp_raw))]\n",
    "for i,event in enumerate(inp_raw):\n",
    "    inter = event.split(']')\n",
    "    timestamp = inter[0].strip('[')\n",
    "    \n",
    "    (date, time) = timestamp.split(' ')\n",
    "    (year, month, day) = map(int, date.split('-'))\n",
    "    (hour, minute) = map(int, time.split(':'))\n",
    "\n",
    "    time = dt.datetime(year, month, day, hour, minute)\n",
    "    \n",
    "    if 'Guard' in inter[1]:\n",
    "        action = int(inter[1][8:12])\n",
    "    elif 'asleep' in inter[1]:\n",
    "        action = 'asleep'\n",
    "    elif 'wake' in inter[1]:\n",
    "        action = 'wake'\n",
    "    \n",
    "    inp[i] = (time, action)\n",
    "    time_list[i] = time\n",
    "    \n",
    "    \n",
    "inp.sort() # These seems to magically work"
   ]
  },
  {
   "cell_type": "code",
   "execution_count": 188,
   "metadata": {},
   "outputs": [],
   "source": [
    "(date, time) = test.split(' ')\n",
    "(year, month, day) = map(int, date.split('-'))\n",
    "(hour, minute) = map(int, time.split(':'))\n",
    "\n",
    "test_dt = dt.datetime(year, month, day, hour, minute)"
   ]
  },
  {
   "cell_type": "code",
   "execution_count": 189,
   "metadata": {},
   "outputs": [],
   "source": [
    "class worker:\n",
    "    def __init__(self, gid):\n",
    "        self.minute_dict = {x:0 for x in range(0,60)}\n",
    "        self.total_mins = 0\n",
    "        self.gid = gid\n",
    "        \n",
    "worker_dict = {}"
   ]
  },
  {
   "cell_type": "code",
   "execution_count": 190,
   "metadata": {},
   "outputs": [],
   "source": [
    "cur_worker = None\n",
    "for event in inp:\n",
    "    if type(event[1]) is int:\n",
    "        gid = event[1]\n",
    "        \n",
    "        if gid not in worker_dict:\n",
    "            worker_dict[gid] = worker(gid)\n",
    "        \n",
    "        cur_worker = worker_dict[gid]\n",
    "        \n",
    "    if event[1] == 'asleep':\n",
    "        sleep_time = event[0]\n",
    "    if event[1] == 'wake':\n",
    "        wake_time = event[0]\n",
    "        total_time = wake_time - sleep_time\n",
    "        worker_dict[gid].total_mins += (total_time.seconds/60)\n",
    "        \n",
    "        for minute in range(sleep_time.minute, wake_time.minute):\n",
    "            worker_dict[gid].minute_dict[minute] += 1\n",
    "            "
   ]
  },
  {
   "cell_type": "code",
   "execution_count": 191,
   "metadata": {},
   "outputs": [],
   "source": [
    "max_minutes = 0\n",
    "max_worker = None\n",
    "for worker in worker_dict.values():\n",
    "    \n",
    "    if worker.total_mins > max_minutes:\n",
    "        max_worker = worker\n",
    "        max_minutes = worker.total_mins"
   ]
  },
  {
   "cell_type": "code",
   "execution_count": 192,
   "metadata": {},
   "outputs": [],
   "source": [
    "max_minutes = 0\n",
    "max_bin = None\n",
    "\n",
    "for minute_bin, total_mins in max_worker.minute_dict.items():\n",
    "    if total_mins > max_minutes:\n",
    "        max_bin = minute_bin\n",
    "        max_minutes = total_minutes\n",
    "            "
   ]
  },
  {
   "cell_type": "code",
   "execution_count": 193,
   "metadata": {},
   "outputs": [
    {
     "data": {
      "text/plain": [
       "71748"
      ]
     },
     "execution_count": 193,
     "metadata": {},
     "output_type": "execute_result"
    }
   ],
   "source": [
    "max_minute*max_worker.gid"
   ]
  },
  {
   "cell_type": "code",
   "execution_count": 204,
   "metadata": {},
   "outputs": [],
   "source": [
    "max_minutes = 0\n",
    "max_bin = None\n",
    "max_worker2 = None\n",
    "\n",
    "for worker in worker_dict.values():\n",
    "    for minute_bin, total_mins in worker.minute_dict.items():\n",
    "        if total_mins > max_minutes:\n",
    "            max_bin = minute_bin\n",
    "            max_minutes = total_mins\n",
    "            max_worker2 = worker"
   ]
  },
  {
   "cell_type": "code",
   "execution_count": 205,
   "metadata": {},
   "outputs": [
    {
     "data": {
      "text/plain": [
       "106850"
      ]
     },
     "execution_count": 205,
     "metadata": {},
     "output_type": "execute_result"
    }
   ],
   "source": [
    "max_worker2.gid*max_bin"
   ]
  },
  {
   "cell_type": "code",
   "execution_count": 202,
   "metadata": {},
   "outputs": [
    {
     "name": "stdout",
     "output_type": "stream",
     "text": [
      "1993\n",
      "50\n"
     ]
    }
   ],
   "source": [
    "print(max_worker2.gid)\n",
    "print(max_bin)"
   ]
  },
  {
   "cell_type": "code",
   "execution_count": 203,
   "metadata": {},
   "outputs": [
    {
     "data": {
      "text/plain": [
       "{131: <__main__.worker at 0x10f1f09b0>,\n",
       " 151: <__main__.worker at 0x10f1f0be0>,\n",
       " 193: <__main__.worker at 0x10f1f05c0>,\n",
       " 229: <__main__.worker at 0x10f1f0f98>,\n",
       " 821: <__main__.worker at 0x10f1f0390>,\n",
       " 1091: <__main__.worker at 0x10f1e0518>,\n",
       " 1171: <__main__.worker at 0x10f1e0320>,\n",
       " 1237: <__main__.worker at 0x10f1e03c8>,\n",
       " 1451: <__main__.worker at 0x10f1f0c50>,\n",
       " 1709: <__main__.worker at 0x10f1f0550>,\n",
       " 1913: <__main__.worker at 0x10f1f0240>,\n",
       " 1993: <__main__.worker at 0x10f1f0eb8>,\n",
       " 2083: <__main__.worker at 0x10f200dd8>,\n",
       " 2137: <__main__.worker at 0x10f1f0f28>,\n",
       " 2297: <__main__.worker at 0x10f1e09b0>,\n",
       " 2399: <__main__.worker at 0x10f1f01d0>,\n",
       " 2731: <__main__.worker at 0x10f1f0400>,\n",
       " 2797: <__main__.worker at 0x10f1f08d0>,\n",
       " 2851: <__main__.worker at 0x10f200f60>,\n",
       " 2939: <__main__.worker at 0x10f1f0320>,\n",
       " 3373: <__main__.worker at 0x10f1f04e0>,\n",
       " 3433: <__main__.worker at 0x10f1f0780>,\n",
       " 3491: <__main__.worker at 0x10f2001d0>}"
      ]
     },
     "execution_count": 203,
     "metadata": {},
     "output_type": "execute_result"
    }
   ],
   "source": [
    "worker_dict"
   ]
  },
  {
   "cell_type": "code",
   "execution_count": null,
   "metadata": {},
   "outputs": [],
   "source": []
  }
 ],
 "metadata": {
  "kernelspec": {
   "display_name": "Python [conda env:anaconda3]",
   "language": "python",
   "name": "conda-env-anaconda3-py"
  },
  "language_info": {
   "codemirror_mode": {
    "name": "ipython",
    "version": 3
   },
   "file_extension": ".py",
   "mimetype": "text/x-python",
   "name": "python",
   "nbconvert_exporter": "python",
   "pygments_lexer": "ipython3",
   "version": "3.6.7"
  }
 },
 "nbformat": 4,
 "nbformat_minor": 2
}
