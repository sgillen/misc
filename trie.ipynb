{
 "cells": [
  {
   "cell_type": "markdown",
   "metadata": {},
   "source": [
    "In words, what are we trying to do?\n",
    "We want to store lists of data very fast. Think strings.\n",
    "\n",
    "How are we going to do it?\n",
    "We will implement a multilayer hash table. Each entry has in it another complete table of all symbols. \n",
    "This is effectively a tree that hash a hash table at every node.\n",
    "\n",
    "How will we implement it.\n",
    "Using a python class. \n"
   ]
  },
  {
   "cell_type": "code",
   "execution_count": 66,
   "metadata": {},
   "outputs": [],
   "source": [
    "class Trie:\n",
    "        \n",
    "    # Todo - allow empty Tries\n",
    "    def __init__(self, x = {}):\n",
    "        self.root = x\n",
    "\n",
    "        \n",
    "    def lookup(self, string):\n",
    "        \n",
    "        cur_table = self.root\n",
    "        \n",
    "        for char in string:\n",
    "            if char not in cur_table:\n",
    "                return False\n",
    "            else:\n",
    "                cur_table = cur_table[char].child_table\n",
    "                \n",
    "        return True\n",
    "        \n",
    "    \n",
    "    def insert(self, string):\n",
    "        \n",
    "        cur_table = self.root\n",
    "        \n",
    "        for char in string:\n",
    "            if char in cur_table:\n",
    "                cur_table = cur_table[char].child_table\n",
    "            else:\n",
    "                cur_table[char] = _Node(cur_table)\n",
    "                cur_table = cur_table[char].child_table\n",
    " \n",
    "    def delete(self, x):\n",
    "        pass\n",
    "    \n",
    "    \n",
    "class _Node:\n",
    "    def __init__(self, data):\n",
    "        self.child_table = {}   # Child is another node\n",
    "        self.data = data   # Do we need this?\n",
    "        "
   ]
  },
  {
   "cell_type": "code",
   "execution_count": 70,
   "metadata": {},
   "outputs": [
    {
     "name": "stdout",
     "output_type": "stream",
     "text": [
      "True\n",
      "False\n",
      "True\n"
     ]
    }
   ],
   "source": [
    "thing = Trie()\n",
    "thing.insert('abc')\n",
    "print(thing.lookup('abc'))\n",
    "print(thing.lookup('abb'))\n",
    "print(thing.lookup('ab'))\n"
   ]
  },
  {
   "cell_type": "code",
   "execution_count": null,
   "metadata": {},
   "outputs": [],
   "source": []
  }
 ],
 "metadata": {
  "kernelspec": {
   "display_name": "Python [default]",
   "language": "python",
   "name": "python3"
  },
  "language_info": {
   "codemirror_mode": {
    "name": "ipython",
    "version": 3
   },
   "file_extension": ".py",
   "mimetype": "text/x-python",
   "name": "python",
   "nbconvert_exporter": "python",
   "pygments_lexer": "ipython3",
   "version": "3.6.3"
  }
 },
 "nbformat": 4,
 "nbformat_minor": 2
}
