{
 "cells": [
  {
   "cell_type": "code",
   "execution_count": 3,
   "metadata": {},
   "outputs": [],
   "source": [
    "#sgillen: implementation of trajectory optimization for robosimian\n",
    "\n",
    "# jupyter magic \n",
    "#==============================================================================\n",
    "\n",
    "#%load_ext line_profiler\n",
    "\n",
    "#%lprun -f __main__ __main__()\n",
    "\n",
    "\n",
    "# imports\n",
    "#==============================================================================\n",
    "\n",
    "import math\n",
    "import numpy as np\n",
    "import matplotlib.pyplot as plt\n",
    "\n",
    "from pydrake.all import (BasicVector, DiagramBuilder, FloatingBaseType,\n",
    "                         RigidBodyPlant, RigidBodyTree, Simulator,SignalLogger, \n",
    "                         Isometry3,VisualElement, Box, CollisionElement,\n",
    "                            DirectCollocation, PiecewisePolynomial)\n",
    "\n",
    "#from pydrake.all import \n",
    "from underactuated import (FindResource, PlanarRigidBodyVisualizer)\n",
    "\n",
    "from IPython.display import HTML\n",
    "\n",
    "#load the walker \n",
    "tree = RigidBodyTree(FindResource(\"../../notebooks/robosimian/robosim_nomesh.urdf\"), FloatingBaseType.kRollPitchYaw)\n",
    "#tree = RigidBodyTree(FindResource(\"../../notebooks/robosimian/robosim_UCSB.urdf\"), FloatingBaseType.kFixed)\n",
    "\n",
    "plant = RigidBodyPlant(tree)\n",
    "context = plant.CreateDefaultContext()\n",
    "\n",
    "\n"
   ]
  },
  {
   "cell_type": "code",
   "execution_count": null,
   "metadata": {},
   "outputs": [],
   "source": [
    "FloatingBaseType.kRollPitchYaw"
   ]
  }
 ],
 "metadata": {
  "kernelspec": {
   "display_name": "Python 2",
   "language": "python",
   "name": "python2"
  },
  "language_info": {
   "codemirror_mode": {
    "name": "ipython",
    "version": 2
   },
   "file_extension": ".py",
   "mimetype": "text/x-python",
   "name": "python",
   "nbconvert_exporter": "python",
   "pygments_lexer": "ipython2",
   "version": "2.7.15rc1"
  }
 },
 "nbformat": 4,
 "nbformat_minor": 2
}
