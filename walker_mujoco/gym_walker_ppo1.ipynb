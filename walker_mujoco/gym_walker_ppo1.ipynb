{
 "cells": [
  {
   "cell_type": "markdown",
   "metadata": {},
   "source": [
    "This uses the open AI gym baseline with some slight modifications. Mostly copied code from here\n",
    "https://github.com/openai/baselines/tree/master/baselines/ppo1. Looks like the version I got from pip and the version currently on master don't quite sync up. (For example there is no tf_util.save_state fcn so we save manually"
   ]
  },
  {
   "cell_type": "code",
   "execution_count": 1,
   "metadata": {},
   "outputs": [
    {
     "name": "stderr",
     "output_type": "stream",
     "text": [
      "/Users/sgillen/anaconda3/lib/python3.6/site-packages/h5py/__init__.py:34: FutureWarning: Conversion of the second argument of issubdtype from `float` to `np.floating` is deprecated. In future, it will be treated as `np.float64 == np.dtype(float).type`.\n",
      "  from ._conv import register_converters as _register_converters\n"
     ]
    }
   ],
   "source": [
    "from baselines.common.cmd_util import make_mujoco_env, mujoco_arg_parser\n",
    "from baselines.common import tf_util as U\n",
    "import tensorflow as tf\n",
    "from baselines import logger\n",
    "import os\n",
    "from baselines.ppo1 import mlp_policy, pposgd_simple\n",
    "\n",
    "\n",
    "def train(env_id, num_timesteps, seed=0):\n",
    "\n",
    "    \n",
    "    U.make_session(num_cpu=1).__enter__()\n",
    "    \n",
    "    def policy_fn(name, ob_space, ac_space):\n",
    "        return mlp_policy.MlpPolicy(name=name, ob_space=ob_space, ac_space=ac_space, hid_size=64, num_hid_layers=2)\n",
    "\n",
    "    env = make_mujoco_env(env_id, seed)\n",
    "    pi = pposgd_simple.learn(env, policy_fn,\n",
    "            max_timesteps=num_timesteps,\n",
    "            timesteps_per_actorbatch=2048,\n",
    "            clip_param=0.2, entcoeff=0.0,\n",
    "            optim_epochs=10, optim_stepsize=3e-4, optim_batchsize=64,\n",
    "            gamma=0.99, lam=0.95, schedule='linear',\n",
    "        )\n",
    "    env.close()\n",
    "   \n",
    "    return pi\n",
    "\n",
    "\n",
    "\n",
    "   "
   ]
  },
  {
   "cell_type": "code",
   "execution_count": null,
   "metadata": {},
   "outputs": [],
   "source": [
    "logger.configure()\n",
    "train(\"Walker2d-v2\", num_timesteps=5000000, seed=0)\n",
    "U.save_state(\"./saved/5mil_flat\")"
   ]
  },
  {
   "cell_type": "code",
   "execution_count": 4,
   "metadata": {},
   "outputs": [
    {
     "name": "stdout",
     "output_type": "stream",
     "text": [
      "Logging to /var/folders/qq/gpxz4l6s1tndfdhysbz8bdym0000gn/T/openai-2018-08-27-17-58-49-567478\n",
      "\u001b[33mWARN: gym.spaces.Box autodetected dtype as <class 'numpy.float32'>. Please provide explicit dtype.\u001b[0m\n",
      "\u001b[33mWARN: gym.spaces.Box autodetected dtype as <class 'numpy.float32'>. Please provide explicit dtype.\u001b[0m\n",
      "********** Iteration 0 ************\n",
      "Optimizing...\n",
      "     pol_surr |    pol_entpen |       vf_loss |            kl |           ent\n",
      "     -0.00675 |       0.00000 |       9.48014 |       0.00147 |       8.51539\n",
      "     -0.02158 |       0.00000 |       8.28080 |       0.00637 |       8.51047\n",
      "     -0.02782 |       0.00000 |       7.47112 |       0.00898 |       8.50481\n",
      "     -0.03148 |       0.00000 |       6.89381 |       0.01096 |       8.49936\n",
      "     -0.03413 |       0.00000 |       6.47413 |       0.01110 |       8.49700\n",
      "     -0.03660 |       0.00000 |       6.17714 |       0.01175 |       8.49347\n",
      "     -0.03829 |       0.00000 |       5.96013 |       0.01336 |       8.48884\n",
      "     -0.03964 |       0.00000 |       5.83429 |       0.01397 |       8.48429\n",
      "     -0.04120 |       0.00000 |       5.73483 |       0.01554 |       8.48105\n",
      "     -0.04252 |       0.00000 |       5.65951 |       0.01713 |       8.47771\n",
      "Evaluating losses...\n",
      "     -0.04483 |       0.00000 |       5.61656 |       0.01736 |       8.47721\n",
      "----------------------------------\n",
      "| EpLenMean       | 16.9         |\n",
      "| EpRewMean       | -0.931       |\n",
      "| EpThisIter      | 117          |\n",
      "| EpisodesSoFar   | 117          |\n",
      "| TimeElapsed     | 3.43         |\n",
      "| TimestepsSoFar  | 2037         |\n",
      "| ev_tdlam_before | -0.0279      |\n",
      "| loss_ent        | 8.477215     |\n",
      "| loss_kl         | 0.01736144   |\n",
      "| loss_pol_entpen | 0.0          |\n",
      "| loss_pol_surr   | -0.044831753 |\n",
      "| loss_vf_loss    | 5.6165595    |\n",
      "----------------------------------\n"
     ]
    },
    {
     "ename": "ValueError",
     "evalue": "The passed save_path is not a valid checkpoint: ./test.save",
     "traceback": [
      "\u001b[0;31m---------------------------------------------------------------------------\u001b[0m",
      "\u001b[0;31mValueError\u001b[0m                                Traceback (most recent call last)",
      "\u001b[0;32m<ipython-input-4-ea76aa6f1a9e>\u001b[0m in \u001b[0;36m<module>\u001b[0;34m()\u001b[0m\n\u001b[1;32m      8\u001b[0m \u001b[0;34m\u001b[0m\u001b[0m\n\u001b[1;32m      9\u001b[0m \u001b[0mpi\u001b[0m \u001b[0;34m=\u001b[0m \u001b[0mtrain\u001b[0m\u001b[0;34m(\u001b[0m\u001b[0;34m'Walker2d-v2'\u001b[0m\u001b[0;34m,\u001b[0m \u001b[0mnum_timesteps\u001b[0m\u001b[0;34m=\u001b[0m\u001b[0;36m1\u001b[0m\u001b[0;34m,\u001b[0m \u001b[0mseed\u001b[0m\u001b[0;34m=\u001b[0m\u001b[0;36m0\u001b[0m\u001b[0;34m)\u001b[0m\u001b[0;34m\u001b[0m\u001b[0m\n\u001b[0;32m---> 10\u001b[0;31m \u001b[0mU\u001b[0m\u001b[0;34m.\u001b[0m\u001b[0mload_state\u001b[0m\u001b[0;34m(\u001b[0m\u001b[0;34m'./test.save'\u001b[0m\u001b[0;34m)\u001b[0m\u001b[0;34m\u001b[0m\u001b[0m\n\u001b[0m\u001b[1;32m     11\u001b[0m \u001b[0;31m#os.makedirs(os.path.dirname(\"./saved\"), exist_ok=True)\u001b[0m\u001b[0;34m\u001b[0m\u001b[0;34m\u001b[0m\u001b[0m\n\u001b[1;32m     12\u001b[0m \u001b[0;31m#saver = tf.train.Saver()\u001b[0m\u001b[0;34m\u001b[0m\u001b[0;34m\u001b[0m\u001b[0m\n",
      "\u001b[0;32m~/work_dir/baselines/baselines/common/tf_util.py\u001b[0m in \u001b[0;36mload_state\u001b[0;34m(fname, sess)\u001b[0m\n\u001b[1;32m    315\u001b[0m     \u001b[0msess\u001b[0m \u001b[0;34m=\u001b[0m \u001b[0msess\u001b[0m \u001b[0;32mor\u001b[0m \u001b[0mget_session\u001b[0m\u001b[0;34m(\u001b[0m\u001b[0;34m)\u001b[0m\u001b[0;34m\u001b[0m\u001b[0m\n\u001b[1;32m    316\u001b[0m     \u001b[0msaver\u001b[0m \u001b[0;34m=\u001b[0m \u001b[0mtf\u001b[0m\u001b[0;34m.\u001b[0m\u001b[0mtrain\u001b[0m\u001b[0;34m.\u001b[0m\u001b[0mSaver\u001b[0m\u001b[0;34m(\u001b[0m\u001b[0;34m)\u001b[0m\u001b[0;34m\u001b[0m\u001b[0m\n\u001b[0;32m--> 317\u001b[0;31m     \u001b[0msaver\u001b[0m\u001b[0;34m.\u001b[0m\u001b[0mrestore\u001b[0m\u001b[0;34m(\u001b[0m\u001b[0mtf\u001b[0m\u001b[0;34m.\u001b[0m\u001b[0mget_default_session\u001b[0m\u001b[0;34m(\u001b[0m\u001b[0;34m)\u001b[0m\u001b[0;34m,\u001b[0m \u001b[0mfname\u001b[0m\u001b[0;34m)\u001b[0m\u001b[0;34m\u001b[0m\u001b[0m\n\u001b[0m\u001b[1;32m    318\u001b[0m \u001b[0;34m\u001b[0m\u001b[0m\n\u001b[1;32m    319\u001b[0m \u001b[0;32mdef\u001b[0m \u001b[0msave_state\u001b[0m\u001b[0;34m(\u001b[0m\u001b[0mfname\u001b[0m\u001b[0;34m,\u001b[0m \u001b[0msess\u001b[0m\u001b[0;34m=\u001b[0m\u001b[0;32mNone\u001b[0m\u001b[0;34m)\u001b[0m\u001b[0;34m:\u001b[0m\u001b[0;34m\u001b[0m\u001b[0m\n",
      "\u001b[0;32m~/anaconda3/lib/python3.6/site-packages/tensorflow/python/training/saver.py\u001b[0m in \u001b[0;36mrestore\u001b[0;34m(self, sess, save_path)\u001b[0m\n\u001b[1;32m   1715\u001b[0m     \u001b[0;32mif\u001b[0m \u001b[0;32mnot\u001b[0m \u001b[0mcheckpoint_exists\u001b[0m\u001b[0;34m(\u001b[0m\u001b[0mcompat\u001b[0m\u001b[0;34m.\u001b[0m\u001b[0mas_text\u001b[0m\u001b[0;34m(\u001b[0m\u001b[0msave_path\u001b[0m\u001b[0;34m)\u001b[0m\u001b[0;34m)\u001b[0m\u001b[0;34m:\u001b[0m\u001b[0;34m\u001b[0m\u001b[0m\n\u001b[1;32m   1716\u001b[0m       raise ValueError(\"The passed save_path is not a valid checkpoint: \"\n\u001b[0;32m-> 1717\u001b[0;31m                        + compat.as_text(save_path))\n\u001b[0m\u001b[1;32m   1718\u001b[0m \u001b[0;34m\u001b[0m\u001b[0m\n\u001b[1;32m   1719\u001b[0m     \u001b[0mlogging\u001b[0m\u001b[0;34m.\u001b[0m\u001b[0minfo\u001b[0m\u001b[0;34m(\u001b[0m\u001b[0;34m\"Restoring parameters from %s\"\u001b[0m\u001b[0;34m,\u001b[0m \u001b[0mcompat\u001b[0m\u001b[0;34m.\u001b[0m\u001b[0mas_text\u001b[0m\u001b[0;34m(\u001b[0m\u001b[0msave_path\u001b[0m\u001b[0;34m)\u001b[0m\u001b[0;34m)\u001b[0m\u001b[0;34m\u001b[0m\u001b[0m\n",
      "\u001b[0;31mValueError\u001b[0m: The passed save_path is not a valid checkpoint: ./test.save"
     ],
     "output_type": "error"
    }
   ],
   "source": [
    "#def loaded_policy_fn(name, ob_space, ac_space):\n",
    "#    return mlp_policy.MlpPolicy(name=name, ob_space=ob_space, ac_space=ac_space, hid_size=64, num_hid_layers=2)\n",
    "\n",
    "#loader = tf.train.Saver()\n",
    "#session = loader.restore(tf.get_default_session(), 'saved/test.save')\n",
    "\n",
    "logger.configure()\n",
    "\n",
    "pi = train('Walker2d-v2', num_timesteps=1, seed=0)\n",
    "U.load_state('./test.save')\n",
    "#os.makedirs(os.path.dirname(\"./saved\"), exist_ok=True)\n",
    "#saver = tf.train.Saver()\n",
    "#saver.save(tf.get_default_session(), \"./saved/test.save\")\n",
    "    \n",
    "env = make_mujoco_env('Walker2d-v2',seed=0)\n",
    "ob = env.reset()     \n",
    "\n",
    "while True:\n",
    "    action = pi.act(stochastic=False, ob=ob)[0]\n",
    "    ob, _, done, _ =  env.step(action)\n",
    "    env.render()\n",
    "    if done:\n",
    "        ob = env.reset()"
   ]
  },
  {
   "cell_type": "code",
   "execution_count": 4,
   "metadata": {},
   "outputs": [],
   "source": [
    "env = make_mujoco_env(\"Walker2d-v2\", 0)\n",
    "ob_space = env.observation_space\n",
    "ac_space = env.action_space"
   ]
  }
 ],
 "metadata": {
  "kernelspec": {
   "display_name": "Python [default]",
   "language": "python",
   "name": "python3"
  },
  "language_info": {
   "codemirror_mode": {
    "name": "ipython",
    "version": 3
   },
   "file_extension": ".py",
   "mimetype": "text/x-python",
   "name": "python",
   "nbconvert_exporter": "python",
   "pygments_lexer": "ipython3",
   "version": "3.6.3"
  }
 },
 "nbformat": 4,
 "nbformat_minor": 2
}
