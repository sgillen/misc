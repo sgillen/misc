{
 "cells": [
  {
   "cell_type": "code",
   "execution_count": 1,
   "metadata": {},
   "outputs": [],
   "source": [
    "import torch\n",
    "import torchvision\n",
    "import torchvision.transforms as transforms\n",
    "\n",
    "import matplotlib.pyplot as plt\n",
    "import numpy as np\n",
    "\n",
    "import torch.optim as optim\n",
    "\n",
    "\n",
    "device = torch.device(\"cuda:0\" if torch.cuda.is_available() else \"cpu\")"
   ]
  },
  {
   "cell_type": "code",
   "execution_count": 2,
   "metadata": {},
   "outputs": [
    {
     "name": "stdout",
     "output_type": "stream",
     "text": [
      "Files already downloaded and verified\n",
      "Files already downloaded and verified\n"
     ]
    }
   ],
   "source": [
    "transform = transforms.Compose(\n",
    "    [transforms.ToTensor(),\n",
    "     transforms.Normalize((0.5, 0.5, 0.5), (0.5, 0.5, 0.5))])\n",
    "\n",
    "trainset = torchvision.datasets.CIFAR10(root='./data', train=True,\n",
    "                                        download=True, transform=transform)\n",
    "trainloader = torch.utils.data.DataLoader(trainset, batch_size=4,\n",
    "                                          shuffle=True, num_workers=2)\n",
    "\n",
    "testset = torchvision.datasets.CIFAR10(root='./data', train=False,\n",
    "                                       download=True, transform=transform)\n",
    "testloader = torch.utils.data.DataLoader(testset, batch_size=4,\n",
    "                                         shuffle=False, num_workers=2)\n",
    "\n",
    "classes = ('plane', 'car', 'bird', 'cat',\n",
    "           'deer', 'dog', 'frog', 'horse', 'ship', 'truck')"
   ]
  },
  {
   "cell_type": "code",
   "execution_count": 3,
   "metadata": {},
   "outputs": [
    {
     "data": {
      "image/png": "[encoded data removed]",
      "text/plain": [
       "<Figure size 432x288 with 1 Axes>"
      ]
     },
     "metadata": {
      "needs_background": "light"
     },
     "output_type": "display_data"
    },
    {
     "name": "stdout",
     "output_type": "stream",
     "text": [
      "horse horse  deer horse\n"
     ]
    }
   ],
   "source": [
    "# functions to show an image\n",
    "def imshow(img):\n",
    "    img = img / 2 + 0.5     # unnormalize\n",
    "    npimg = img.numpy()\n",
    "    plt.imshow(np.transpose(npimg, (1, 2, 0)))\n",
    "    plt.show()\n",
    "\n",
    "\n",
    "# get some random training images\n",
    "dataiter = iter(trainloader)\n",
    "images, labels = dataiter.next()\n",
    "\n",
    "# show images\n",
    "imshow(torchvision.utils.make_grid(images))\n",
    "# print labels\n",
    "print(' '.join('%5s' % classes[labels[j]] for j in range(4)))"
   ]
  },
  {
   "cell_type": "code",
   "execution_count": 4,
   "metadata": {},
   "outputs": [],
   "source": [
    "import torch.nn as nn\n",
    "import torch.nn.functional as F\n",
    "\n",
    "\n",
    "class Net(nn.Module):\n",
    "    def __init__(self):\n",
    "        super(Net, self).__init__()\n",
    "        self.conv1 = nn.Conv2d(3, 6, 5)\n",
    "        self.pool = nn.MaxPool2d(2, 2)\n",
    "        self.conv2 = nn.Conv2d(6, 16, 5)\n",
    "        self.fc1 = nn.Linear(16 * 5 * 5, 120)\n",
    "        self.fc2 = nn.Linear(120, 84)\n",
    "        self.fc3 = nn.Linear(84, 10)\n",
    "\n",
    "    def forward(self, x):\n",
    "        x = self.pool(F.relu(self.conv1(x)))\n",
    "        x = self.pool(F.relu(self.conv2(x)))\n",
    "        x = x.view(-1, 16 * 5 * 5)\n",
    "        x = F.relu(self.fc1(x))\n",
    "        x = F.relu(self.fc2(x))\n",
    "        x = self.fc3(x)\n",
    "        return x\n",
    "\n",
    "\n",
    "net = Net()"
   ]
  },
  {
   "cell_type": "code",
   "execution_count": 5,
   "metadata": {},
   "outputs": [],
   "source": [
    "net.to(device)\n",
    "\n",
    "criterion = nn.CrossEntropyLoss()\n",
    "optimizer = optim.SGD(net.parameters(), lr=0.001, momentum=0.9)"
   ]
  },
  {
   "cell_type": "code",
   "execution_count": null,
   "metadata": {},
   "outputs": [
    {
     "name": "stdout",
     "output_type": "stream",
     "text": [
      "[1,  2000] loss: 2.245\n",
      "[1,  4000] loss: 1.906\n",
      "[1,  6000] loss: 1.686\n",
      "[1,  8000] loss: 1.581\n",
      "[1, 10000] loss: 1.531\n",
      "[1, 12000] loss: 1.474\n",
      "[2,  2000] loss: 1.419\n",
      "[2,  4000] loss: 1.361\n",
      "[2,  6000] loss: 1.346\n",
      "[2,  8000] loss: 1.321\n",
      "[2, 10000] loss: 1.297\n",
      "[2, 12000] loss: 1.288\n",
      "[3,  2000] loss: 1.197\n",
      "[3,  4000] loss: 1.219\n",
      "[3,  6000] loss: 1.195\n",
      "[3,  8000] loss: 1.203\n",
      "[3, 10000] loss: 1.193\n",
      "[3, 12000] loss: 1.200\n",
      "[4,  2000] loss: 1.118\n",
      "[4,  4000] loss: 1.116\n",
      "[4,  6000] loss: 1.123\n",
      "[4,  8000] loss: 1.101\n",
      "[4, 10000] loss: 1.121\n",
      "[4, 12000] loss: 1.080\n",
      "[5,  2000] loss: 1.008\n",
      "[5,  4000] loss: 1.042\n",
      "[5,  6000] loss: 1.047\n",
      "[5,  8000] loss: 1.046\n",
      "[5, 10000] loss: 1.048\n",
      "[5, 12000] loss: 1.045\n",
      "[6,  2000] loss: 0.964\n",
      "[6,  4000] loss: 0.974\n",
      "[6,  6000] loss: 0.989\n",
      "[6,  8000] loss: 0.990\n",
      "[6, 10000] loss: 1.002\n",
      "[6, 12000] loss: 0.985\n",
      "[7,  2000] loss: 0.908\n",
      "[7,  4000] loss: 0.917\n",
      "[7,  6000] loss: 0.946\n",
      "[7,  8000] loss: 0.952\n",
      "[7, 10000] loss: 0.975\n",
      "[7, 12000] loss: 0.953\n",
      "[8,  2000] loss: 0.866\n",
      "[8,  4000] loss: 0.883\n",
      "[8,  6000] loss: 0.892\n",
      "[8,  8000] loss: 0.910\n",
      "[8, 10000] loss: 0.943\n",
      "[8, 12000] loss: 0.916\n",
      "[9,  2000] loss: 0.830\n",
      "[9,  4000] loss: 0.846\n",
      "[9,  6000] loss: 0.872\n",
      "[9,  8000] loss: 0.844\n",
      "[9, 10000] loss: 0.888\n",
      "[9, 12000] loss: 0.906\n",
      "[10,  2000] loss: 0.787\n",
      "[10,  4000] loss: 0.825\n",
      "[10,  6000] loss: 0.842\n",
      "[10,  8000] loss: 0.849\n",
      "[10, 10000] loss: 0.863\n",
      "[10, 12000] loss: 0.878\n",
      "[11,  2000] loss: 0.757\n",
      "[11,  4000] loss: 0.780\n",
      "[11,  6000] loss: 0.805\n",
      "[11,  8000] loss: 0.837\n",
      "[11, 10000] loss: 0.818\n",
      "[11, 12000] loss: 0.844\n",
      "[12,  2000] loss: 0.707\n",
      "[12,  4000] loss: 0.777\n",
      "[12,  6000] loss: 0.790\n",
      "[12,  8000] loss: 0.811\n",
      "[12, 10000] loss: 0.785\n",
      "[12, 12000] loss: 0.822\n",
      "[13,  2000] loss: 0.711\n",
      "[13,  4000] loss: 0.739\n",
      "[13,  6000] loss: 0.760\n",
      "[13,  8000] loss: 0.787\n",
      "[13, 10000] loss: 0.811\n",
      "[13, 12000] loss: 0.802\n",
      "[14,  2000] loss: 0.704\n",
      "[14,  4000] loss: 0.721\n",
      "[14,  6000] loss: 0.768\n",
      "[14,  8000] loss: 0.768\n",
      "[14, 10000] loss: 0.757\n",
      "[14, 12000] loss: 0.778\n",
      "[15,  2000] loss: 0.683\n",
      "[15,  4000] loss: 0.687\n",
      "[15,  6000] loss: 0.715\n",
      "[15,  8000] loss: 0.755\n",
      "[15, 10000] loss: 0.750\n",
      "[15, 12000] loss: 0.753\n",
      "[16,  2000] loss: 0.669\n",
      "[16,  4000] loss: 0.691\n",
      "[16,  6000] loss: 0.711\n",
      "[16,  8000] loss: 0.732\n",
      "[16, 10000] loss: 0.751\n",
      "[16, 12000] loss: 0.755\n",
      "[17,  2000] loss: 0.645\n",
      "[17,  4000] loss: 0.694\n",
      "[17,  6000] loss: 0.692\n",
      "[17,  8000] loss: 0.742\n",
      "[17, 10000] loss: 0.739\n",
      "[17, 12000] loss: 0.734\n",
      "[18,  2000] loss: 0.638\n",
      "[18,  4000] loss: 0.642\n",
      "[18,  6000] loss: 0.685\n",
      "[18,  8000] loss: 0.709\n",
      "[18, 10000] loss: 0.716\n",
      "[18, 12000] loss: 0.760\n",
      "[19,  2000] loss: 0.623\n",
      "[19,  4000] loss: 0.658\n",
      "[19,  6000] loss: 0.671\n",
      "[19,  8000] loss: 0.700\n",
      "[19, 10000] loss: 0.717\n",
      "[19, 12000] loss: 0.733\n"
     ]
    }
   ],
   "source": [
    "for epoch in range(50):  # loop over the dataset multiple times\n",
    "\n",
    "    running_loss = 0.0\n",
    "    for i, data in enumerate(trainloader, 0):\n",
    "        # get the inputs\n",
    "        inputs, labels = data\n",
    "        inputs, labels = inputs.to(device), labels.to(device)\n",
    "\n",
    "        # zero the parameter gradients\n",
    "        optimizer.zero_grad()\n",
    "\n",
    "        # forward + backward + optimize\n",
    "        outputs = net(inputs)\n",
    "        loss = criterion(outputs, labels)\n",
    "        loss.backward()\n",
    "        optimizer.step()\n",
    "\n",
    "        # print statistics\n",
    "        running_loss += loss.item()\n",
    "        if i % 2000 == 1999:    # print every 2000 mini-batches\n",
    "            print('[%d, %5d] loss: %.3f' %\n",
    "                  (epoch + 1, i + 1, running_loss / 2000))\n",
    "            running_loss = 0.0\n",
    "\n",
    "print('Finished Training')"
   ]
  },
  {
   "cell_type": "code",
   "execution_count": 15,
   "metadata": {},
   "outputs": [
    {
     "data": {
      "image/png": "[encoded data removed]",
      "text/plain": [
       "<Figure size 432x288 with 1 Axes>"
      ]
     },
     "metadata": {
      "needs_background": "light"
     },
     "output_type": "display_data"
    },
    {
     "name": "stdout",
     "output_type": "stream",
     "text": [
      "GroundTruth:    cat  ship  ship plane\n"
     ]
    }
   ],
   "source": [
    "dataiter = iter(testloader)\n",
    "images, labels = dataiter.next()\n",
    "\n",
    "# print images\n",
    "imshow(torchvision.utils.make_grid(images))\n",
    "print('GroundTruth: ', ' '.join('%5s' % classes[labels[j]] for j in range(4)))"
   ]
  },
  {
   "cell_type": "code",
   "execution_count": 16,
   "metadata": {},
   "outputs": [],
   "source": [
    "images = images.to(device)\n",
    "outputs = net(images)"
   ]
  },
  {
   "cell_type": "code",
   "execution_count": 17,
   "metadata": {},
   "outputs": [
    {
     "name": "stdout",
     "output_type": "stream",
     "text": [
      "Predicted:    cat   car plane plane\n"
     ]
    }
   ],
   "source": [
    "_, predicted = torch.max(outputs, 1)\n",
    "\n",
    "print('Predicted: ', ' '.join('%5s' % classes[predicted[j]]\n",
    "                              for j in range(4)))"
   ]
  },
  {
   "cell_type": "code",
   "execution_count": 18,
   "metadata": {},
   "outputs": [
    {
     "name": "stdout",
     "output_type": "stream",
     "text": [
      "Accuracy of the network on the 10000 test images: 63 %\n"
     ]
    }
   ],
   "source": [
    "correct = 0\n",
    "total = 0\n",
    "with torch.no_grad():\n",
    "    for data in testloader:\n",
    "        images, labels = data\n",
    "        images, labels = images.to(device), labels.to(device)\n",
    "        outputs = net(images)\n",
    "        _, predicted = torch.max(outputs.data, 1)\n",
    "        total += labels.size(0)\n",
    "        correct += (predicted == labels).sum().item()\n",
    "\n",
    "print('Accuracy of the network on the 10000 test images: %d %%' % (\n",
    "    100 * correct / total))"
   ]
  },
  {
   "cell_type": "code",
   "execution_count": null,
   "metadata": {},
   "outputs": [],
   "source": [
    "class_correct = list(0. for i in range(10))\n",
    "class_total = list(0. for i in range(10))\n",
    "with torch.no_grad():\n",
    "    for data in testloader:\n",
    "        images, labels = data\n",
    "        outputs = net(images)\n",
    "        _, predicted = torch.max(outputs, 1)\n",
    "        c = (predicted == labels).squeeze()\n",
    "        for i in range(4):\n",
    "            label = labels[i]\n",
    "            class_correct[label] += c[i].item()\n",
    "            class_total[label] += 1\n",
    "\n",
    "\n",
    "for i in range(10):\n",
    "    print('Accuracy of %5s : %2d %%' % (\n",
    "        classes[i], 100 * class_correct[i] / class_total[i]))"
   ]
  },
  {
   "cell_type": "code",
   "execution_count": null,
   "metadata": {},
   "outputs": [],
   "source": []
  }
 ],
 "metadata": {
  "kernelspec": {
   "display_name": "ucsb_python3",
   "language": "python",
   "name": "env"
  },
  "language_info": {
   "codemirror_mode": {
    "name": "ipython",
    "version": 3
   },
   "file_extension": ".py",
   "mimetype": "text/x-python",
   "name": "python",
   "nbconvert_exporter": "python",
   "pygments_lexer": "ipython3",
   "version": "3.6.6"
  }
 },
 "nbformat": 4,
 "nbformat_minor": 2
}
