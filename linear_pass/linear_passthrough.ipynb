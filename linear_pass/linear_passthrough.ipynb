{
 "cells": [
  {
   "cell_type": "code",
<<<<<<< HEAD
   "execution_count": 1,
   "metadata": {},
   "outputs": [],
=======
   "execution_count": 2,
   "metadata": {},
   "outputs": [
    {
     "name": "stdout",
     "output_type": "stream",
     "text": [
      "Using matplotlib backend: MacOSX\n"
     ]
    }
   ],
>>>>>>> 8399ba00aca1a377243f9098471e9eba470a6a4b
   "source": [
    "# started here https://medium.com/@tomgrek/building-your-first-neural-net-from-scratch-with-pytorch-56b0e9c84d54\n",
    "\n",
    "import torch\n",
    "from torch.autograd import Variable\n",
    "import torch.nn as nn\n",
    "import torch.nn.functional as F\n",
    "import matplotlib.pyplot as plt \n",
    "import torch.optim as optim\n",
    "import numpy as np\n",
    "import copy\n",
    "\n",
<<<<<<< HEAD
    "%matplotlib inline\n"
=======
    "%matplotlib"
>>>>>>> 8399ba00aca1a377243f9098471e9eba470a6a4b
   ]
  },
  {
   "cell_type": "code",
<<<<<<< HEAD
   "execution_count": 8,
=======
   "execution_count": 4,
>>>>>>> 8399ba00aca1a377243f9098471e9eba470a6a4b
   "metadata": {},
   "outputs": [],
   "source": [
    "class Net(nn.Module):\n",
    "    def __init__(self):\n",
    "        super(Net, self).__init__()\n",
<<<<<<< HEAD
    "        self.fc1 = nn.Linear(1,1)\n",
    "        self.fc2 = nn.Linear(1,1)\n",
=======
    "        self.fc1 = nn.Linear(1,64)\n",
    "        self.fc2 = nn.Linear(64,1)\n",
>>>>>>> 8399ba00aca1a377243f9098471e9eba470a6a4b
    "    def forward(self, x):\n",
    "        x = F.relu(self.fc2(F.relu(self.fc1(x))))\n",
    "        return x\n",
    "    \n",
    "net = Net()\n",
    "#optimizer = optim.SGD(net.parameters(), lr=0.0001, momentum = .05)\n",
    "optimizer = optim.Adam(net.parameters(), lr=0.01)\n",
    "\n"
   ]
  },
  {
   "cell_type": "code",
<<<<<<< HEAD
   "execution_count": null,
=======
   "execution_count": 5,
>>>>>>> 8399ba00aca1a377243f9098471e9eba470a6a4b
   "metadata": {},
   "outputs": [],
   "source": [
    "class SkipNet(nn.Module):\n",
    "    def __init__(self):\n",
    "        super(SkipNet, self).__init__()\n",
    "        self.fc1 = nn.Linear(1,64)\n",
    "        self.fc2 = nn.Linear(64,1)\n",
    "        self.linear_gain = nn.Linear(1,1)\n",
    "    def forward(self, x):\n",
    "        x = F.relu(self.fc2(F.relu(self.fc1(x)))) + self.linear_gain(x) \n",
<<<<<<< HEAD
    "        return x"
   ]
  },
  {
   "cell_type": "code",
   "execution_count": 9,
   "metadata": {},
   "outputs": [
    {
     "name": "stdout",
     "output_type": "stream",
     "text": [
      "[Parameter containing:\n",
      "tensor([[-0.5292]], requires_grad=True), Parameter containing:\n",
      "tensor([0.4254], requires_grad=True), Parameter containing:\n",
      "tensor([[-0.0370]], requires_grad=True), Parameter containing:\n",
      "tensor([-0.4664], requires_grad=True)]\n"
     ]
    }
   ],
   "source": [
    "#net = Net().cuda()\n",
    "net = Net()\n",
    "#skipnet = SkipNet()\n",
    "print(list(net.parameters()))"
=======
    "        return x\n",
    "    \n",
    "skipnet = SkipNet()\n",
    "#skipoptimizer = optim.SGD(net.parameters(), lr=0.01, momentum = .05)\n",
    "skipoptimizer = optim.Adam(skipnet.parameters(), lr=0.01)"
>>>>>>> 8399ba00aca1a377243f9098471e9eba470a6a4b
   ]
  },
  {
   "cell_type": "code",
<<<<<<< HEAD
   "execution_count": 10,
   "metadata": {},
   "outputs": [
    {
     "name": "stdout",
     "output_type": "stream",
     "text": [
      "tensor([[[0.1181]]], requires_grad=True)\n",
      "tensor([[[0.]]], grad_fn=<ReluBackward>)\n"
     ]
    }
   ],
   "source": [
    "input = Variable(torch.randn(1,1,1), requires_grad=True)\n",
    "print(input)\n",
    "out = net(input)\n",
    "print(out)\n"
   ]
  },
  {
   "cell_type": "code",
   "execution_count": 16,
=======
   "execution_count": 7,
>>>>>>> 8399ba00aca1a377243f9098471e9eba470a6a4b
   "metadata": {},
   "outputs": [],
   "source": [
    "def criterion(out, label):\n",
    "    return (label - out)**2\n",
    "\n",
<<<<<<< HEAD
    "\n",
    "criterion = nn.MSELoss()\n",
    "\n",
    "optimizer = optim.SGD(net.parameters(), lr=0.01, momentum=0.5)\n",
    "#skipoptimizer = optim.SGD(skipnet.parameters(), lr=0.01, momentum=0.5)"
=======
    "def skipcriterion(out, label):\n",
    "    return (label - out)**2 + (torch.abs(net.fc1.weight).sum() + torch.abs(net.fc2.weight).sum()) / 2048\n",
    "\n",
    "#data = [(1,3), (2,6), (3,9), (4,12), (5,15), (6,18)]\n",
    "\n",
    "num_points = 100\n",
    "input_data = [x for x in range(0,num_points)]\n",
    "linear_data = [(3*x) for x in range(0,num_points)]\n",
    "#plt.plot(input_data, linear_data)\n",
    "\n",
    "\n",
    "\n",
    "# small experiment I ran to add a quadratic disturbance to some linear data, to see if our network can handle that\n",
    "quad_points = 25\n",
    "scaling_factor = .15\n",
    "quad = [-scaling_factor*(x - quad_points/2)**2 + scaling_factor*(quad_points/2)**2 for x in range(0,quad_points)]\n",
    "\n",
    "output_data = copy.deepcopy(linear_data)\n",
    "\n",
    "\n",
    "start_point = 30\n",
    "for i in range(0, quad_points):\n",
    "    output_data[i + start_point] = linear_data[i + start_point] + quad[i]\n",
    "\n",
    "#plt.plot(quad)\n",
    "#plt.plot(output_data)\n",
    "\n"
>>>>>>> 8399ba00aca1a377243f9098471e9eba470a6a4b
   ]
  },
  {
   "cell_type": "code",
<<<<<<< HEAD
   "execution_count": 22,
=======
   "execution_count": 9,
>>>>>>> 8399ba00aca1a377243f9098471e9eba470a6a4b
   "metadata": {},
   "outputs": [],
   "source": [
    "loss_hist = []\n",
    "weight_hist1 = []\n",
<<<<<<< HEAD
    "weight_hist2 = []"
   ]
  },
  {
   "cell_type": "code",
   "execution_count": 23,
   "metadata": {},
   "outputs": [],
   "source": [
    "for epoch in range(100):\n",
    "    for i, data2 in enumerate(data):\n",
=======
    "weight_hist2 = []\n",
    "\n",
    "#import pdb; pdb.set_trace()\n",
    "\n",
    "weight_hist1.append(net.fc1.weight.clone())\n",
    "for epoch in range(1000):\n",
    "    total_loss = 0\n",
    "    \n",
    "    for i, data2 in enumerate(zip(input_data, output_data)):\n",
    "        \n",
    "        \n",
>>>>>>> 8399ba00aca1a377243f9098471e9eba470a6a4b
    "        X, Y = iter(data2)\n",
    "        #X, Y = Variable(torch.FloatTensor([X]), requires_grad=True).cuda(), Variable(torch.FloatTensor([Y]), requires_grad=False).cuda()\n",
    "        X, Y = Variable(torch.FloatTensor([X]), requires_grad=True), Variable(torch.FloatTensor([Y]), requires_grad=False)\n",
    "\n",
    "        optimizer.zero_grad()\n",
    "        outputs = net(X)\n",
    "        loss = criterion(outputs, Y)\n",
    "        loss.backward()\n",
    "        optimizer.step()\n",
    "        \n",
<<<<<<< HEAD
    "        loss_hist.append(loss.data)\n",
    "        weight_hist1.append(net.fc1.weight)\n",
    "        weight_hist2.append(net.fc2.weight)\n",
    "        #if (i % 10 == 0):\n",
    "           # print(\"Epoch {} - loss: {}\".format(epoch, loss.data[0]))"
=======
    "        total_loss += loss\n",
    "        \n",
    "    loss_hist.append(total_loss/len(input_data))\n",
    "    weight_hist1.append(net.fc1.weight.clone())\n",
    "    weight_hist2.append(net.fc2.weight.clone())\n",
    "       "
>>>>>>> 8399ba00aca1a377243f9098471e9eba470a6a4b
   ]
  },
  {
   "cell_type": "code",
<<<<<<< HEAD
   "execution_count": null,
   "metadata": {},
   "outputs": [],
   "source": [
    "# for the skip network\n",
    "skip_loss_hist = []\n",
    "skip_weight_hist1 = []\n",
    "skip_weight_hist2 = []\n",
    "\n",
    "for epoch in range(100):\n",
    "    for i, data2 in enumerate(data):\n",
    "        X, Y = iter(data2)\n",
    "        #X, Y = Variable(torch.FloatTensor([X]), requires_grad=True).cuda(), Variable(torch.FloatTensor([Y]), requires_grad=False).cuda()\n",
    "        X, Y = Variable(torch.FloatTensor([X]), requires_grad=True), Variable(torch.FloatTensor([Y]), requires_grad=False)\n",
    "\n",
    "        skipoptimizer.zero_grad()\n",
    "        outputs = net(X)\n",
    "        loss = criterion(outputs, Y)\n",
    "        loss.backward()\n",
    "        skipoptimizer.step()\n",
    "        \n",
    "        skip_loss_hist.append(loss.data[0])\n",
    "        skip_weight_hist1.append(net.fc1.weight)\n",
    "        skip_weight_hist2.append(net.fc2.weight)\n",
    "        if (i % 10 == 0):\n",
    "            print(\"Epoch {} - loss: {}\".format(epoch, loss.data[0]))\n"
   ]
  },
  {
   "cell_type": "code",
   "execution_count": 24,
   "metadata": {},
   "outputs": [
    {
     "data": {
      "text/plain": [
       "[<matplotlib.lines.Line2D at 0x7fcbc1efb3c8>]"
      ]
     },
     "execution_count": 24,
     "metadata": {},
     "output_type": "execute_result"
    },
    {
     "data": {
      "image/png": "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\n",
      "text/plain": [
       "<Figure size 432x288 with 1 Axes>"
      ]
     },
     "metadata": {
      "needs_background": "light"
     },
     "output_type": "display_data"
    }
   ],
   "source": [
    "plt.plot(loss_hist)\n"
   ]
  },
  {
   "cell_type": "code",
   "execution_count": null,
   "metadata": {},
   "outputs": [],
   "source": [
    "plt.plot(skip_loss_hist)"
   ]
  },
  {
   "cell_type": "code",
   "execution_count": null,
   "metadata": {},
   "outputs": [],
   "source": [
    "plt.plot(skip_weight_hist1[0])"
   ]
  },
  {
   "cell_type": "code",
   "execution_count": 25,
   "metadata": {},
   "outputs": [
    {
     "name": "stdout",
     "output_type": "stream",
     "text": [
      "Epoch 0 - loss: 9.0\n",
      "Epoch 1 - loss: 9.0\n",
      "Epoch 2 - loss: 9.0\n",
      "Epoch 3 - loss: 9.0\n",
      "Epoch 4 - loss: 9.0\n",
      "Epoch 5 - loss: 9.0\n",
      "Epoch 6 - loss: 9.0\n",
      "Epoch 7 - loss: 9.0\n",
      "Epoch 8 - loss: 9.0\n",
      "Epoch 9 - loss: 9.0\n",
      "Epoch 10 - loss: 9.0\n",
      "Epoch 11 - loss: 9.0\n",
      "Epoch 12 - loss: 9.0\n",
      "Epoch 13 - loss: 9.0\n",
      "Epoch 14 - loss: 9.0\n",
      "Epoch 15 - loss: 9.0\n",
      "Epoch 16 - loss: 9.0\n",
      "Epoch 17 - loss: 9.0\n",
      "Epoch 18 - loss: 9.0\n",
      "Epoch 19 - loss: 9.0\n",
      "Epoch 20 - loss: 9.0\n",
      "Epoch 21 - loss: 9.0\n",
      "Epoch 22 - loss: 9.0\n",
      "Epoch 23 - loss: 9.0\n",
      "Epoch 24 - loss: 9.0\n",
      "Epoch 25 - loss: 9.0\n",
      "Epoch 26 - loss: 9.0\n",
      "Epoch 27 - loss: 9.0\n",
      "Epoch 28 - loss: 9.0\n",
      "Epoch 29 - loss: 9.0\n",
      "Epoch 30 - loss: 9.0\n",
      "Epoch 31 - loss: 9.0\n",
      "Epoch 32 - loss: 9.0\n",
      "Epoch 33 - loss: 9.0\n",
      "Epoch 34 - loss: 9.0\n",
      "Epoch 35 - loss: 9.0\n",
      "Epoch 36 - loss: 9.0\n",
      "Epoch 37 - loss: 9.0\n",
      "Epoch 38 - loss: 9.0\n",
      "Epoch 39 - loss: 9.0\n",
      "Epoch 40 - loss: 9.0\n",
      "Epoch 41 - loss: 9.0\n",
      "Epoch 42 - loss: 9.0\n",
      "Epoch 43 - loss: 9.0\n",
      "Epoch 44 - loss: 9.0\n",
      "Epoch 45 - loss: 9.0\n",
      "Epoch 46 - loss: 9.0\n",
      "Epoch 47 - loss: 9.0\n",
      "Epoch 48 - loss: 9.0\n",
      "Epoch 49 - loss: 9.0\n",
      "Epoch 50 - loss: 9.0\n",
      "Epoch 51 - loss: 9.0\n",
      "Epoch 52 - loss: 9.0\n",
      "Epoch 53 - loss: 9.0\n",
      "Epoch 54 - loss: 9.0\n",
      "Epoch 55 - loss: 9.0\n",
      "Epoch 56 - loss: 9.0\n",
      "Epoch 57 - loss: 9.0\n",
      "Epoch 58 - loss: 9.0\n",
      "Epoch 59 - loss: 9.0\n",
      "Epoch 60 - loss: 9.0\n",
      "Epoch 61 - loss: 9.0\n",
      "Epoch 62 - loss: 9.0\n",
      "Epoch 63 - loss: 9.0\n",
      "Epoch 64 - loss: 9.0\n",
      "Epoch 65 - loss: 9.0\n",
      "Epoch 66 - loss: 9.0\n",
      "Epoch 67 - loss: 9.0\n",
      "Epoch 68 - loss: 9.0\n",
      "Epoch 69 - loss: 9.0\n",
      "Epoch 70 - loss: 9.0\n",
      "Epoch 71 - loss: 9.0\n",
      "Epoch 72 - loss: 9.0\n",
      "Epoch 73 - loss: 9.0\n",
      "Epoch 74 - loss: 9.0\n",
      "Epoch 75 - loss: 9.0\n",
      "Epoch 76 - loss: 9.0\n",
      "Epoch 77 - loss: 9.0\n",
      "Epoch 78 - loss: 9.0\n",
      "Epoch 79 - loss: 9.0\n",
      "Epoch 80 - loss: 9.0\n",
      "Epoch 81 - loss: 9.0\n",
      "Epoch 82 - loss: 9.0\n",
      "Epoch 83 - loss: 9.0\n",
      "Epoch 84 - loss: 9.0\n",
      "Epoch 85 - loss: 9.0\n",
      "Epoch 86 - loss: 9.0\n",
      "Epoch 87 - loss: 9.0\n",
      "Epoch 88 - loss: 9.0\n",
      "Epoch 89 - loss: 9.0\n",
      "Epoch 90 - loss: 9.0\n",
      "Epoch 91 - loss: 9.0\n",
      "Epoch 92 - loss: 9.0\n",
      "Epoch 93 - loss: 9.0\n",
      "Epoch 94 - loss: 9.0\n",
      "Epoch 95 - loss: 9.0\n",
      "Epoch 96 - loss: 9.0\n",
      "Epoch 97 - loss: 9.0\n",
      "Epoch 98 - loss: 9.0\n",
      "Epoch 99 - loss: 9.0\n"
     ]
    },
    {
     "name": "stderr",
     "output_type": "stream",
     "text": [
      "/home/sgillen/work_dir/ucsb/env/lib/python3.6/site-packages/ipykernel_launcher.py:25: UserWarning: invalid index of a 0-dim tensor. This will be an error in PyTorch 0.5. Use tensor.item() to convert a 0-dim tensor to a Python number\n"
     ]
    }
   ],
   "source": [
    "class Net(nn.Module):\n",
    "    def __init__(self):\n",
    "        super(Net, self).__init__()\n",
    "        self.fc1 = nn.Linear(1,1)\n",
    "        self.fc2 = nn.Linear(1,1)\n",
    "    def forward(self, x):\n",
    "        x = F.relu(self.fc2(F.relu(self.fc1(x))))\n",
    "        return x\n",
    "    \n",
    "criterion = nn.MSELoss()\n",
    "net = Net()\n",
    "optimizer = optim.SGD(net.parameters(), lr=0.01, momentum=0.5)\n",
    "data = [(1,3), (2,6), (3,9), (4,12), (5,15), (6,18)]\n",
=======
   "execution_count": 6,
   "metadata": {},
   "outputs": [
    {
     "data": {
      "text/plain": [
       "Text(0.5,1,'output')"
      ]
     },
     "execution_count": 6,
     "metadata": {},
     "output_type": "execute_result"
    },
    {
     "data": {
      "image/png": "iVBORw0KGgoAAAANSUhEUgAAAXQAAAEICAYAAABPgw/pAAAABHNCSVQICAgIfAhkiAAAAAlwSFlz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\n",
      "text/plain": [
       "<matplotlib.figure.Figure at 0x109cd1ba8>"
      ]
     },
     "metadata": {},
     "output_type": "display_data"
    },
    {
     "data": {
      "image/png": "iVBORw0KGgoAAAANSUhEUgAAAXoAAAEICAYAAABRSj9aAAAABHNCSVQICAgIfAhkiAAAAAlwSFlz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\n",
      "text/plain": [
       "<matplotlib.figure.Figure at 0x10d49b198>"
      ]
     },
     "metadata": {},
     "output_type": "display_data"
    }
   ],
   "source": [
    "%matplotlib inline\n",
    "plt.plot(loss_hist, 'x-')\n",
    "plt.title(\"loss\")\n",
    "plt.figure()\n",
    "\n",
    "#torch.all(torch.eq(weight_hist1[0], weight_hist1[121]))\n",
    "\n",
    "test = net(torch.FloatTensor([1]))\n",
    "test.data\n",
    "\n",
    "output = []\n",
    "for data in input_data:\n",
    "    output.append(net(torch.FloatTensor([data]).data))\n",
    "\n",
    "plt.plot(output)\n",
    "plt.title(\"output\")"
   ]
  },
  {
   "cell_type": "code",
   "execution_count": 7,
   "metadata": {},
   "outputs": [],
   "source": [
    "# for the skip network\n",
    "skip_loss_hist = []\n",
    "skip_weight_hist1 = []\n",
    "skip_weight_hist2 = []\n",
    "skip_weight_pass_hist = []\n",
>>>>>>> 8399ba00aca1a377243f9098471e9eba470a6a4b
    "\n",
    "\n",
    "for epoch in range(1000):\n",
    "    total_loss = 0\n",
    "\n",
    "    for i, data2 in enumerate(zip(input_data, output_data)):\n",
    "        X, Y = iter(data2)\n",
    "        X, Y = Variable(torch.FloatTensor([X]), requires_grad=True), Variable(torch.FloatTensor([Y]), requires_grad=False)\n",
<<<<<<< HEAD
    "        optimizer.zero_grad()\n",
    "        outputs = net(X)\n",
    "        loss = criterion(outputs, Y)\n",
    "        loss.backward()\n",
    "        optimizer.step()\n",
    "        if (i % 10 == 0):\n",
    "            print(\"Epoch {} - loss: {}\".format(epoch, loss.data[0]))"
=======
    "\n",
    "        skipoptimizer.zero_grad()\n",
    "        outputs = skipnet(X)\n",
    "        loss = skipcriterion(outputs, Y)\n",
    "        loss.backward()\n",
    "        skipoptimizer.step()\n",
    "        total_loss += loss\n",
    "        \n",
    "    skip_loss_hist.append(total_loss/len(input_data))\n",
    "    skip_weight_hist1.append(skipnet.fc1.weight.clone())\n",
    "    skip_weight_hist2.append(skipnet.fc2.weight.clone())\n",
    "    skip_weight_pass_hist.append(skipnet.linear_gain.weight.clone())"
   ]
  },
  {
   "cell_type": "code",
   "execution_count": 9,
   "metadata": {},
   "outputs": [
    {
     "data": {
      "text/plain": [
       "Text(0.5,1,'output')"
      ]
     },
     "execution_count": 9,
     "metadata": {},
     "output_type": "execute_result"
    },
    {
     "data": {
      "image/png": "iVBORw0KGgoAAAANSUhEUgAAAYcAAAEICAYAAAC0+DhzAAAABHNCSVQICAgIfAhkiAAAAAlwSFlz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\ngg==\n",
      "text/plain": [
       "<matplotlib.figure.Figure at 0x10d4ffe80>"
      ]
     },
     "metadata": {},
     "output_type": "display_data"
    },
    {
     "data": {
      "image/png": "iVBORw0KGgoAAAANSUhEUgAAAXoAAAEICAYAAABRSj9aAAAABHNCSVQICAgIfAhkiAAAAAlwSFlz\nAAALEgAACxIB0t1+/AAAADl0RVh0U29mdHdhcmUAbWF0cGxvdGxpYiB2ZXJzaW9uIDIuMS4wLCBo\ndHRwOi8vbWF0cGxvdGxpYi5vcmcvpW3flQAAIABJREFUeJzt3Xl8VOXZ//HPxRIg7EuAQIhh3xEx\nbKIWRSu4IS7V1tZdbH/a2tanLKJ1t2hreXxalwe3onUnIBQRVxB3BcVsbGEPBBIIBEgI2e7fH3Po\nk2qQkMzkZGa+79drXplzz5kz1+EkX07unLnGnHOIiEjkauB3ASIiEloKehGRCKegFxGJcAp6EZEI\np6AXEYlwCnoRkQinoBcRiXAKepFKzMyZWa/6uj2RmlDQi4hEOAW9RCQz629my8xsn5llmNmF3vgy\nM7uh0nrXmNnH3v3l3vC3ZnbQzC43s7Fmlm1mt5vZbjPbbGZXVnr+cW0v1PstUpVGfhcgEmxm1hj4\nF/As8GPgVGCBmSX/0POcc6ebmQNOdM5ledsaC3QGOgBdgVHAYjNb4Zxbe7zbE/GDzuglEo0CWgAz\nnXMlzrkPgEXAT2uxzTudc4edcx8CbwI/CUKdInVCQS+RqAuwzTlXUWlsC4Ez8prY65wr/M62utS0\nOJG6pqCXSLQD6GZmlb+/E4HtQCEQW2m8czW219bMmn9nWzu8+zXZnkidUtBLJPqCQABPMbPG3jz7\nBcArwCrgYjOL9S57vP47z90F9Khim/eYWYyZnQacD7zujdd0eyJ1RkEvEcc5VwJcCEwAdgOPA1c5\n59YAs4ASAgE8B3jxO0+/G5jjXa1zZB5+J7CXwFn8i8AvvW1Rw+2J1CnTB4+IHJ3328A/nXMJftci\nUlM6oxcRiXAKehGRCKepGxGRCKczehGRCFcvWiB06NDBJSUl+V2GiEhYWbly5W7nXNyx1qsXQZ+U\nlMSKFSv8LkNEJKyY2ZbqrKepGxGRCKegFxGJcMcMejNramZfmtm3Xl/ve7zx7mb2hZmtN7NXzSzG\nG2/iLWd5jyeFdhdEROSHVOeM/jBwpnPuRGAoMN7MRgEPAbOcc70JvD38SI+P6wl0++tF4O3hDwW/\nbBERqa5jBr0LOOgtNvZuDjgTmOuNzwEu8u5P9JbxHh9nZha0ikVE5LhUa47ezBqa2SogF3gX2ADs\nc86Veatk83+9vrsC2wC8xwuA9lVsc7KZrTCzFXl5ebXbCxEROapqBb1zrtw5NxRIAEYA/atazfta\n1dn7995+65yb7ZxLds4lx8Ud8zJQERGpoeO66sY5tw9YRuCj2tqY2ZHr8BP4vw9iyAa6AXiPtwby\ng1GsiEikKC2v4PFlWXy7bV/IX6s6V93EmVkb734z4CxgNbAUuNRb7WpggXd/obeM9/gHTg11RET+\nLX17ARc99gkPL1nLW+k7Q/561XlnbDyBD05oSOA/htecc4vMLBN4xczuB74BnvHWfwZ4wcyyCJzJ\nXxGCukVEwk5xaTl/+2A9T364kbaxMTxx5TAmDI4P+eseM+idc6nASVWMbyQwX//d8WLgsqBUJyIS\nIVZszmdKSiob8wq5ZFgCd57fnzaxMXXy2vWi142ISKQ6eLiMPy9Zw/Ofb6FL62Y8f90ITu9Ttxeg\nKOhFRELkw3V53D4vjR0Fh7h6dBJ/OKcvzZvUfewq6EVEgmxfUQn3LVpNytfZ9Ixrzus3jSY5qZ1v\n9SjoRUSCaHFaDn9ckM7eolJuOaMXt5zZi6aNG/pak4JeRCQIcvcX88cFGSzJ2Mmgrq2Yc90IBnZp\n7XdZgIJeRKRWnHO8vjKb+xdlUlxWwdTx/bjxtO40alh/usAr6EVEamhbfhG3z0/jo/W7GZHUjpmX\nDKZHXAu/y/oeBb2IyHEqr3A8/9lmHl6ylgYG900cyJUjT6BBg/rZqFdBLyJyHLJyDzBlbipfb93H\n2L5xPDBpMF3bNPO7rB+koBcRqYbS8gqeXLaBv32QRWyThsy6/EQuGtqVcPi4DQW9iMgxpGUX8Ie5\n37Jm5wHOHxLP3RcOpEOLJn6XVW0KehGRoyguLWfWe+t4avlGOrRowuxfnMyPB3b2u6zjpqAXEanC\nl5vymZqSyqbdhVwxvBvTz+1P62aN/S6rRhT0IiKVHCgu5eEla3nh8y10a9eMF28YyZheHfwuq1YU\n9CIinqVrc5kxL42c/cVcf2p3bvtxH2Jjwj8mw38PRERqKb+whPsWZTL/m+307tiClF+dwrDEtn6X\nFTQKehGJWs453kzL4a4FGRQcKuU343pz8xk9adLI3yZkwaagF5GotGt/MXe8kc67mbsYktCaf94w\nkv7xrfwuKyQU9CISVZxzvPrVNh5YvJqSsgpmnNufa8ck1asmZMGmoBeRqLF1TxHT5qXy6YY9jOze\njocuGUJSh+Z+lxVyCnoRiXjlFY7nPtnEX95ZS6MGDXhw0mCuGN6t3jYhCzYFvYhEtLU7DzA1JZVV\n2/ZxZr+OPDBpEPGt63cTsmBT0ItIRCopq+DxZVk8tjSLlk0b8+gVQ7nwxC5h0YQs2BT0IhJxvt22\njylzU1m76wAXntiFuy4YQPswakIWbAp6EYkYh0oCTcie/mgjHVs25emrkjlrQCe/y/LdMa8nMrNu\nZrbUzFabWYaZ3eqN321m281slXc7t9JzpptZlpmtNbNzQrkDIiIAn23Yw4RHlzN7+UYuH57IO78/\nXSHvqc4ZfRlwm3PuazNrCaw0s3e9x2Y55/5SeWUzGwBcAQwEugDvmVkf51x5MAsXEQHYX1zKzLfW\n8NIXWzmhfSwv3TiSU3qGdxOyYDtm0DvncoAc7/4BM1sNdP2Bp0wEXnHOHQY2mVkWMAL4LAj1ioj8\n2/urdzFjfjq5B4q58bTu/P7svjSLiaz2BcFwXG8FM7Mk4CTgC2/oFjNLNbNnzexIB6CuwLZKT8um\niv8YzGyyma0wsxV5eXnHXbiIRK89Bw/zm5e/4fo5K2jdrDHz/t8YZpw3QCF/FNUOejNrAaQAv3XO\n7QeeAHoCQwmc8T9yZNUqnu6+N+DcbOdcsnMuOS4u7rgLF5Ho45xjwartnD1rOW+l5/Dbs3rzr1+f\nytBubfwurV6r1lU3ZtaYQMi/6JybB+Cc21Xp8aeARd5iNtCt0tMTgB1BqVZEolZOwSHufCOd91bn\nMrRbGx6+dAh9OrX0u6ywcMygt8C7C54BVjvn/lppPN6bvweYBKR79xcCL5nZXwn8MbY38GVQqxaR\nqFFR4Xj5q638afEayioquOO8/lw7pjsNo6R9QTBU54x+DPALIM3MVnljtwM/NbOhBKZlNgM3ATjn\nMszsNSCTwBU7N+uKGxGpic27C5k2L5XPN+ZzSs/2zLx4CIntY/0uK+xU56qbj6l63n3xDzznAeCB\nWtQlIlGsrLyCZz/ZxCPvrCOmYQNmXjyYy4d3i8r2BcGgd8aKSL2yZud+ps5N5dvsAs7q34n7LxpE\n59ZN/S4rrCnoRaReOFxWzmNLN/D40ixaN2vM3392EucNjtdZfBAo6EXEd99s3cuUuamszz3IpJO6\n8sfzB9C2eYzfZUUMBb2I+KaopIxH3lnHs59sonOrpjx3zXDO6NfR77IijoJeRHzxadZups1LY2t+\nET8flcjU8f1o2bSx32VFJAW9iNSpgkOl/Gnxal75ahtJ7WN5ZfIoRvVo73dZEU1BLyJ15t3MXdzx\nRhp5Bw5z04968Luz+tC0sfrThJqCXkRCbvfBw9y9MINFqTn069ySp65KZkiC+tPUFQW9iIRMoAnZ\nDu75VwaFh8u57ew+/HJsTxo3PK7GuVJLCnoRCYkd+w4xY34aS9fmcVJiGx6+ZAi91YTMFwp6EQmq\nigrHi19uZebi1VQ4uOuCAVw1OklNyHykoBeRoNmYd5BpKWl8uTmfU3t14E8XD6ZbOzUh85uCXkRq\nray8gqc/3sSsd9fRpFEDHr50CJednKD2BfWEgl5EaiVzx36mpHxL+vb9nDOwE/dNHETHVmpCVp8o\n6EWkRopLy/n7B1k8+eEG2sTG8MSVw5gwON7vsqQKCnoROW4rt+QzZW4qG/IKuXhYoAlZm1g1Iauv\nFPQiUm2Fh8v489trmfPZZrq0bsac60bwoz5xfpclx6CgF5FqWb4uj+nz0ti+7xBXjT6BKeP70aKJ\nIiQc6CiJyA8qKCrl/jczeX1lNj06NOe1m0Yzons7v8uS46CgF5GjWpKew50LMsgvLOFXY3ty67je\nakIWhhT0IvI9uQeKuWtBBm+l72RAfCueu2Y4g7q29rssqSEFvYj8m3OOlK+3c9+iTA6VlvOHc/oy\n+fQeakIW5hT0IgJA9t4ibp+fzvJ1eSSf0JaZlwyhV8cWfpclQaCgF4lyFRWOFz7fwkNL1gBw78SB\n/HzkCTRQE7KIoaAXiWJZuQeZlpLKii17Ob1PHA9OGkRCWzUhizTHDHoz6wY8D3QGKoDZzrlHzawd\n8CqQBGwGfuKc22uBLkaPAucCRcA1zrmvQ1O+iNREaXkFs5dv5NH31tMspiGPXHYiFw/rqiZkEao6\nZ/RlwG3Oua/NrCWw0szeBa4B3nfOzTSzacA0YCowAejt3UYCT3hfRaQeSN9ewJS5qWTm7Oe8wfHc\nfeFA4lo28bssCaFjBr1zLgfI8e4fMLPVQFdgIjDWW20OsIxA0E8EnnfOOeBzM2tjZvHedkTEJ8Wl\n5Tz6/npmL99Iu+YxPPnzkxk/qLPfZUkdOK45ejNLAk4CvgA6HQlv51yOmXX0VusKbKv0tGxv7D+C\n3swmA5MBEhMTa1C6iFTXV5vzmTo3lY27C/lJcgIzzh1A69jGfpcldaTaQW9mLYAU4LfOuf0/MJdX\n1QPuewPOzQZmAyQnJ3/vcRGpvYOHy3h4yRqe/2wLCW2b8c/rR3Jq7w5+lyV1rFpBb2aNCYT8i865\ned7wriNTMmYWD+R649lAt0pPTwB2BKtgEameD9flcfu8NHYUHOLaMUn814/70lxNyKLSMd/u5l1F\n8wyw2jn310oPLQSu9u5fDSyoNH6VBYwCCjQ/L1J39haW8PvXVnH1s1/StHED5v5yNHddMFAhH8Wq\nc+THAL8A0sxslTd2OzATeM3Mrge2Apd5jy0mcGllFoHLK68NasUiUiXnHG+l7+SPC9LZV1TKLWf0\n4tfjetGkkZqQRbvqXHXzMVXPuwOMq2J9B9xcy7pE5Djk7i/mzgXpvJ2xi8FdW/P8dSMZ0KWV32VJ\nPaHf5UTCmHOO11dmc/+iTA6XVTBtQj9uOLU7jdSETCpR0IuEqW35RUyfl8bHWbsZkdSOmZcMpkec\nmpDJ9ynoRcJMeYVjzqeb+fPba2nYwLj/okH8bESimpDJUSnoRcLI+l0HmJqSytdb9zG2bxwPThpM\nlzbN/C5L6jkFvUgYKC2v4MllG/jbB1k0b9KQ/758KBOHdlETMqkWBb1IPZeavY8pc1NZs/MA5w8J\nNCHr0EJNyKT6FPQi9VRxaTmz3l3HUx9tJK5lE566KpmzB3TyuywJQwp6kXroi417mJqSyuY9RVwx\nvBvTz+1P62ZqQiY1o6AXqUcOFJfy0JI1/PPzrSS2i+WlG0ZySi81IZPaUdCL1BNL1+QyY34aO/cX\nc8Op3fn9j/sQG6MfUak9fReJ+Cy/sIT7FmUy/5vt9O7YgpRfncJJiW39LksiiIJexCfOORal5nD3\nwgwKDpXym3G9ufmMnmpCJkGnoBfxwa79xdzxRjrvZu5iSEJrXrxxJP06qwmZhIaCXqQOOed49att\nPLB4NSVlFdx+bj+uG6MmZBJaCnqROrJ1TxHT5qXy6YY9jOzejocuGUJSh+Z+lyVRQEEvEmLlFY7n\nPtnEX95ZS6MGDXhw0mCuGN5NTcikzijoRUJo7c5AE7JV2/Yxrl9H7p80iPjWakImdUtBLxICJWUV\nPL4si8eWZtGyaWMevWIoF56oJmTiDwW9SJB9uy3QhGztrgNMHNqFP54/gPZqQiY+UtCLBMmhknJm\nvbeOpz/aSMeWTXnm6mTG9VcTMvGfgl4kCD7dsJvp89LYsqeIn41MZNqEfrRqqiZkUj8o6EVqYX9x\nKX9avIaXv9zKCe1jefnGUYzu2d7vskT+g4JepIbeX72LGfPTyT1QzOTTe/C7s/rQLEbtC6T+UdCL\nHKc9Bw9zz78yWfjtDvp2asn//uJkTuzWxu+yRI5KQS9STc45Fn67g3v+lcmB4lJ+d1YffjW2JzGN\n1L5A6rdjfoea2bNmlmtm6ZXG7jaz7Wa2yrudW+mx6WaWZWZrzeycUBUuUpdyCg5xw5wV3PrKKrq1\ni+XN35zGrWf1VshLWKjOGf0/gL8Dz39nfJZz7i+VB8xsAHAFMBDoArxnZn2cc+VBqFWkzlVUOF75\naht/Wrya0ooK7jivP9eO6U5DtS+QMHLMoHfOLTezpGpubyLwinPuMLDJzLKAEcBnNa5QxCebdxcy\nbV4qn2/M55Se7Zl58RAS28f6XZbIcavNHP0tZnYVsAK4zTm3F+gKfF5pnWxv7HvMbDIwGSAxMbEW\nZYgEV1l5Bc9+solH3llHTKMGzLx4MJcP76b2BRK2ajrB+ATQExgK5ACPeONV/SS4qjbgnJvtnEt2\nziXHxcXVsAyR4Fqds5+Ln/iUBxev4fQ+cbz3+x9xxYhEhbyEtRqd0Tvndh25b2ZPAYu8xWygW6VV\nE4AdNa5OpI4cLivnsQ+yeHzZBlo3a8zff3YS5w2OV8BLRKhR0JtZvHMux1ucBBy5Imch8JKZ/ZXA\nH2N7A1/WukqREPp6616mzk1lfe5BJp3UlT+eP4C2zWP8LkskaI4Z9Gb2MjAW6GBm2cBdwFgzG0pg\nWmYzcBOAcy7DzF4DMoEy4GZdcSP1VVFJGX95ex3PfbqJ+FZNee7a4ZzRt6PfZYkEnTlX5RR6nUpO\nTnYrVqzwuwyJIh+v3820ealk7z3Ez0clMnV8P1qqCZmEGTNb6ZxLPtZ6emesRJWCQ6U88GYmr63I\npnuH5rw6eRQje6gJmUQ2Bb1EjbczdnLnG+nsPniYm07vwe/O7kPTxmpCJpFPQS8Rb/fBw9y1MIM3\nU3Po17klT1+dzJAENSGT6KGgl4jlnGP+N9u5d1EmRYfLue3sPvxybE8aN1R/GokuCnqJSNv3HWLG\n/DSWrc1jWGIbHr50CL06tvS7LBFfKOglolRUOF78Ygsz31pDhYO7LhjAVaOT1IRMopqCXiLGxryD\nTEtJ48vN+ZzWuwMPThpMt3ZqQiaioJewV1ZewVMfbWLWe+to2qgBD186hMtOTlD7AhGPgl7CWsaO\nAqampJK+fT/jB3bm3osG0rFlU7/LEqlXFPQSlopLy/nbB+t58sONtI2N4YkrhzFhcLzfZYnUSwp6\nCTsrt+QzZW4qG/IKufTkBO44rz9tYtWETORoFPQSNgoPl/Hnt9cy57PNdGndjDnXjeBHffRZBiLH\noqCXsLB8XR7T56Wxo+AQV49O4g/n9KV5E337ilSHflKkXisoKuW+NzOZuzKbHnHNef2m0SQntfO7\nLJGwoqCXemtJeg53Lsggv7CEm8/oya/P7K0mZCI1oKCXeif3QDF3LcjgrfSdDIhvxXPXDGdQ19Z+\nlyUSthT0Um8450j5ejv3LcrkUGk5U8b35cbTeqgJmUgtKeilXtiWX8Tt89P4aP1ukk9oy0OXDqFn\nXAu/yxKJCAp68VVFheOFz7fw0JI1GHDvxIH8fOQJNFATMpGgUdCLb7JyDzItJZUVW/Zyep84Hpw0\niIS2akImEmwKeqlzpeUVzF6+kUffX09sTEMeuexELh7WVU3IREJEQS91Kn17AVPmppKZs59zB3fm\nngsHEdeyid9liUQ0Bb3UieLSch59fz2zl2+kXfMYnvz5yYwf1NnvskSigoJeQu6rzflMnZvKxt2F\nXHZyAnecN4DWsY39LkskaijoJWQOHi7j4SVreP6zLSS0bcY/rx/Jqb07+F2WSNQ5ZtCb2bPA+UCu\nc26QN9YOeBVIAjYDP3HO7bXAX9MeBc4FioBrnHNfh6Z0qc+Wrs1lxrw0cvYXc+2YQBOy2BidV4j4\noTpvOfwHMP47Y9OA951zvYH3vWWACUBv7zYZeCI4ZUq42FtYwu9fXcW1z31FbJNGzP3lKdx1wUCF\nvIiPjvnT55xbbmZJ3xmeCIz17s8BlgFTvfHnnXMO+NzM2phZvHMuJ1gFS/3knGNx2k7uWpjOvqJS\nbjmjF78e14smjdSETMRvNT3N6nQkvJ1zOWbW0RvvCmyrtF62N/a9oDezyQTO+klMTKxhGVIf5O4v\n5s4F6bydsYvBXVvz/HUjGdClld9liYgn2L9PV/WOF1fVis652cBsgOTk5CrXkfrNOcfrK7O5f1Em\nh8sqmDq+Hzee1p1GakImUq/UNOh3HZmSMbN4INcbzwa6VVovAdhRmwKlftqWX8T0eWl8nLWbEd3b\nMfPiwfRQEzKReqmmQb8QuBqY6X1dUGn8FjN7BRgJFGh+PrKUVzjmfLqZP7+9lgYG9100iCtHJKoJ\nmUg9Vp3LK18m8IfXDmaWDdxFIOBfM7Prga3AZd7qiwlcWplF4PLKa0NQs/hk/a4DTE1J5eut+xjb\nN44HJw2mS5tmfpclIsdQnatufnqUh8ZVsa4Dbq5tUVK/lJRV8L8fbuBvH2TRvElDZl1+IhcNVRMy\nkXChi5vlB6Vm72PK3FTW7DzABSd24a4LBtChhZqQiYQTBb1Uqbi0nFnvruOpjzbSoUUTnroqmbMH\ndPK7LBGpAQW9fM/nG/cwfV4am3YX8tMR3Zg2oT+tm6kJmUi4UtDLvx0oLmXmW2t48YutJLaL5aUb\nRnJKLzUhEwl3CnoBYOmaXG6fn8au/cXccGp3bvtxX5rFqH2BSCRQ0Ee5/MIS7v1XBm+s2kGfTi14\n/MpTOCmxrd9liUgQKeijlHOORak53L0wg4JDpdw6rjc3n9GLmEZqXyASaRT0UWjX/mJmzE/nvdW7\nGJLQmhdvHEm/zmpCJhKpFPRRxDnHq19t44HFqyktr2DGuf25dkySmpCJRDgFfZTYsqeQaSlpfLZx\nD6N6tGPmxUNI6tDc77JEpA4o6CNceYXjuU828Zd31tK4QQMenDSYK4Z3UxMykSiioI9ga3ceYEpK\nKt9u28e4fh25f9Ig4lurCZlItFHQR6CSsgoeX5bFY0uzaNm0Mf/z05O4YEi8mpCJRCkFfYRZtW0f\nU+Z+y7pdB7nQa0LWXk3IRKKagj5CHCop55F31vLsJ5vo2LIpz1ydzLj+akImIgr6iPDpht1MS0lj\na34RPxuZyLQJ/WjVVE3IRCRAQR/GCg6VMvOt1bz85TaS2sfyyuRRjOrR3u+yRKSeUdCHqXczd3HH\nG2nkHTjM5NN78Luz+qgJmYhUSUEfZnYfPMzdCzNYlJpDv84teeqqZIYktPG7LBGpxxT0YcI5x4JV\nO7jnXxkcPFzG787qw6/G9lQTMhE5JgV9GMgpOMSM+el8sCaXod3a8PClQ+jTqaXfZYlImFDQ12MV\nFY6Xv9rKnxavobzCccd5/bl2THcaqn2BiBwHBX09tWl3IdNSUvliUz5jerXnT5OGkNg+1u+yRCQM\nKejrmbLyCp75eBN/fXcdMY0a8NAlg/lJcje1LxCRGqtV0JvZZuAAUA6UOeeSzawd8CqQBGwGfuKc\n21u7MqPD6pz9TE1JJTW7gLMHdOL+iwbRqVVTv8sSkTAXjDP6M5xzuystTwPed87NNLNp3vLUILxO\nxDpcVs5jH2Tx+LINtIltzN9/dhLnDVYTMhEJjlBM3UwExnr35wDLUNAf1ddb9zJ1birrcw9y8bCu\n3HneANo2j/G7LBGJILUNege8Y2YO+F/n3Gygk3MuB8A5l2NmHWtbZCQqKinjz2+v5R+fbia+VVOe\nu3Y4Z/TVP5WIBF9tg36Mc26HF+bvmtma6j7RzCYDkwESExNrWUZ4+Xj9bqbPT2Vb/iGuGn0CU8b3\no0UT/V1cREKjVuninNvhfc01s/nACGCXmcV7Z/PxQO5RnjsbmA2QnJzsalNHuCgoKuWBxZm8tiKb\nHh2a89pNoxnRvZ3fZYlIhKtx0JtZc6CBc+6Ad//HwL3AQuBqYKb3dUEwCg13b2fs5M430tlTWMKv\nxvbk1nG9adpYTchEJPRqc0bfCZjvXRnSCHjJObfEzL4CXjOz64GtwGW1LzN85R0INCF7My2H/vGt\nePaa4Qzq2trvskQkitQ46J1zG4ETqxjfA4yrTVGRwDnH/G+2c++iTIoOl/OHc/oy+fQeNG6oJmQi\nUrf0F8AQ2L7vEDPmp7FsbR7DEgNNyHp1VBMyEfGHgj6IKiocL36xhZlvrcEBd18wgF+MTlITMhHx\nlYI+SDbkHWR6Shpfbs7ntN4deHDSYLq1UxMyEfGfgr6WysoreOqjTcx6bx1NGzXgz5cO4dKTE9S+\nQETqDQV9LWTsKGBqSirp2/czfmBn7r1oIB1bqgmZiNQvCvoaKC4t5+8fZPHkhxtoExvDE1cOY8Lg\neL/LEhGpkoL+OK3YnM/UlFQ25BVyybAE7jy/P21i1YRMROovBX01FR4ONCGb89lmurRuxvPXjeD0\nPnF+lyUickwK+mpYvi6P6fPS2FFwiKtGBZqQNVcTMhEJE0qrH7CvqIT731zN3JXZ9Ixrzus3jSY5\nSU3IRCS8KOiP4q20HO5ckMHeohJuPqMnvz5TTchEJDwp6L8j90Axf3wjgyUZOxnYpRVzrhvOwC5q\nQiYi4UtB73HOMXdlNvctyqS4rEJNyEQkYijogW35Rdw+P42P1u9meFJbZl4yhJ5xLfwuS0QkKKI6\n6CsqHM9/tpmH316LAfdcOJBfjDqBBmpCJiIRJGqDPiv3INNSUlmxZS8/6hPHA5MGkdBWTchEJPJE\nXdCXllcwe/lGHn1vPc1iGvLIZSdy8bCuakImIhErqoI+fXsBU+amkpmzn/MGx3P3hQOJa9nE77JE\nREIqKoK+uLScR99fz+zlG2nXPIYnf34y4wd19rssEZE6EfFB/+WmfKalpLJxdyGXJ3fj9nP70zq2\nsd9liYjUmYgN+oOHy3jorTW88PkWEto245/Xj+TU3h38LktEpM5FZNAvW5vL7fPSyNlfzHVjuvNf\n5/QhNiYid1VE5JgiKv32FpZNbVuiAAAFQUlEQVRw36JM5n2znV4dWzD3l6dw8glt/S5LRMRXERH0\nzjkWp+3kroXp7Csq5Tdn9uLmM3vRpJGakImIhH3Q79pfzJ1vpPNO5i4Gd23NC9ePpH98K7/LEhGp\nN0IW9GY2HngUaAg87ZybGezXWLoml9+88g0lZRVMn9CP60/tTiM1IRMR+Q8hCXozawg8BpwNZANf\nmdlC51xmMF+ne4fmDEtsy90XDqR7h+bB3LSISMQI1Rn9CCDLObcRwMxeASYCQQ36pA7NmXPdiGBu\nUkQk4oRqnqMrsK3ScrY39m9mNtnMVpjZiry8vBCVISIioQr6qjqEuf9YcG62cy7ZOZccFxcXojJE\nRCRUQZ8NdKu0nADsCNFriYjIDwhV0H8F9Daz7mYWA1wBLAzRa4mIyA8IyR9jnXNlZnYL8DaByyuf\ndc5lhOK1RETkh4XsOnrn3GJgcai2LyIi1aN3F4mIRDgFvYhIhDPn3LHXCnURZnnAlho+vQOwO4jl\nhIto3O9o3GeIzv2Oxn2G49/vE5xzx7w+vV4EfW2Y2QrnXLLfddS1aNzvaNxniM79jsZ9htDtt6Zu\nREQinIJeRCTCRULQz/a7AJ9E435H4z5DdO53NO4zhGi/w36OXkREflgknNGLiMgPUNCLiES4sA56\nMxtvZmvNLMvMpvldTyiYWTczW2pmq80sw8xu9cbbmdm7Zrbe+9rW71pDwcwamtk3ZrbIW+5uZl94\n+/2q1zQvYphZGzOba2ZrvGM+OhqOtZn9zvv+Tjezl82saSQeazN71sxyzSy90liVx9cC/sfLt1Qz\nG1bT1w3boK/0cYUTgAHAT81sgL9VhUQZcJtzrj8wCrjZ289pwPvOud7A+95yJLoVWF1p+SFglrff\ne4HrfakqdB4Fljjn+gEnEtj3iD7WZtYV+A2Q7JwbRKAR4hVE5rH+BzD+O2NHO74TgN7ebTLwRE1f\nNGyDnkofV+icKwGOfFxhRHHO5TjnvvbuHyDwg9+VwL7O8VabA1zkT4WhY2YJwHnA096yAWcCc71V\nImq/zawVcDrwDIBzrsQ5t48oONYEGiw2M7NGQCyQQwQea+fcciD/O8NHO74TgeddwOdAGzOLr8nr\nhnPQH/PjCiONmSUBJwFfAJ2cczkQ+M8A6OhfZSHz38AUoMJbbg/sc86VecuRdsx7AHnAc9501dNm\n1pwIP9bOue3AX4CtBAK+AFhJZB/ryo52fIOWceEc9Mf8uMJIYmYtgBTgt865/X7XE2pmdj6Q65xb\nWXm4ilUj6Zg3AoYBTzjnTgIKibBpmqp4c9ITge5AF6A5gWmL74qkY10dQft+D+egj5qPKzSzxgRC\n/kXn3DxveNeRX+O8r7l+1RciY4ALzWwzgWm5Mwmc4bfxfr2HyDvm2UC2c+4Lb3kugeCP9GN9FrDJ\nOZfnnCsF5gGnENnHurKjHd+gZVw4B31UfFyhNy/9DLDaOffXSg8tBK727l8NLKjr2kLJOTfdOZfg\nnEsicGw/cM5dCSwFLvVWi6j9ds7tBLaZWV9vaByQSYQfawJTNqPMLNb7fj+y3xF7rL/jaMd3IXCV\nd/XNKKDgyBTPcXPOhe0NOBdYB2wAZvhdT4j28VQCv66lAqu827kE5qvfB9Z7X9v5XWsI/w3GAou8\n+z2AL4Es4HWgid/1BXlfhwIrvOP9BtA2Go41cA+wBkgHXgCaROKxBl4m8HeIUgJn7Ncf7fgSmLp5\nzMu3NAJXJdXoddUCQUQkwoXz1I2IiFSDgl5EJMIp6EVEIpyCXkQkwinoRUQinIJeRCTCKehFRCLc\n/webgOUOdYrJuwAAAABJRU5ErkJggg==\n",
      "text/plain": [
       "<matplotlib.figure.Figure at 0x10d504320>"
      ]
     },
     "metadata": {},
     "output_type": "display_data"
    }
   ],
   "source": [
    "plt.plot(skip_loss_hist, 'x-')\n",
    "plt.title(\"loss\")\n",
    "plt.figure()\n",
    "\n",
    "\n",
    "output = []\n",
    "for data in input_data:\n",
    "    output.append(skipnet(torch.FloatTensor([data]).data))\n",
    "\n",
    "plt.plot(output)\n",
    "plt.title(\"output\")\n",
    "#print(skip_weight_hist1[0])\n",
    "#print(skip_weight_hist1[100])"
   ]
  },
  {
   "cell_type": "code",
   "execution_count": null,
   "metadata": {},
   "outputs": [],
   "source": [
    "loss_hist[1:100]"
>>>>>>> 8399ba00aca1a377243f9098471e9eba470a6a4b
   ]
  },
  {
   "cell_type": "code",
   "execution_count": null,
   "metadata": {},
   "outputs": [],
   "source": [
    "class LinearNet(nn.Module):\n",
    "    def __init__(self):\n",
    "        super(LinearNet, self).__init__()\n",
    "        self.fc1 = nn.Linear(1,1)\n",
    "        self.fc2 = nn.Linear(1,1)\n",
    "    def forward(self, x):\n",
    "        x = self.fc1(x)\n",
    "        return x\n",
    "    \n",
    "net = LinearNet()\n",
    "optimizer = optim.SGD(net.parameters(), lr=0.01, momentum=0.5)"
   ]
  }
 ],
 "metadata": {
  "kernelspec": {
   "display_name": "Python [conda env:anaconda3]",
   "language": "python",
   "name": "conda-env-anaconda3-py"
  },
  "language_info": {
   "codemirror_mode": {
    "name": "ipython",
    "version": 3
   },
   "file_extension": ".py",
   "mimetype": "text/x-python",
   "name": "python",
   "nbconvert_exporter": "python",
   "pygments_lexer": "ipython3",
   "version": "3.6.3"
  }
 },
 "nbformat": 4,
 "nbformat_minor": 2
}
