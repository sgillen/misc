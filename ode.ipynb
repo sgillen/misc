{
 "cells": [
  {
   "cell_type": "code",
   "execution_count": 45,
   "metadata": {},
   "outputs": [
    {
     "name": "stdout",
     "output_type": "stream",
     "text": [
      "1.1.0\n"
     ]
    }
   ],
   "source": [
    "from scipy.integrate import ode, odeint\n",
    "import scipy\n",
    "import numpy as np\n",
    "import matplotlib.pyplot as plt\n",
    "print(scipy.__version__)"
   ]
  },
  {
   "cell_type": "code",
   "execution_count": 2,
   "metadata": {},
   "outputs": [],
   "source": [
    "#help(ode) #uncomment for details via jupyter magic"
   ]
  },
  {
   "cell_type": "markdown",
   "metadata": {},
   "source": [
    "Let's look at the van der pol oscillator   \n",
    "  \n",
    "  $$   \\dot x0 = \\mu \\left(x0-\\frac{1}{3}x0^3-x1\\right) \\\\\n",
    " \\dot x1 =\\frac {1}{\\mu } x0 $$"
   ]
  },
  {
   "cell_type": "code",
   "execution_count": 47,
   "metadata": {},
   "outputs": [],
   "source": [
    "def f(t,x, mu):\n",
    "    dx = [0,0]\n",
    "    dx[0] = mu*(x[0] - 1/3*x[0]**3 - x[1])\n",
    "    dx[1] = 1/mu*x[0]\n",
    "    return [dx[0], dx[1]]"
   ]
  },
  {
   "cell_type": "code",
   "execution_count": 48,
   "metadata": {},
   "outputs": [],
   "source": [
    "#define some intial conditions\n",
    "y0 = np.array([1.0, 2.0])\n",
    "t0 = 0"
   ]
  },
  {
   "cell_type": "code",
   "execution_count": 72,
   "metadata": {},
   "outputs": [
    {
     "name": "stdout",
     "output_type": "stream",
     "text": [
      "[1.+0.j 2.+0.j]\n"
     ]
    }
   ],
   "source": [
    "solver = ode(f)\n",
    "solver.set_integrator('zvode', method='bdf')\n",
    "solver.set_initial_value(y0,t0)\n",
    "solver.set_f_params(2.0)\n",
    "t = np.arange(0.0,10.0,.01)\n",
    "result = solver.integrate(t)\n",
    "print(result)"
   ]
  },
  {
   "cell_type": "code",
   "execution_count": 75,
   "metadata": {},
   "outputs": [],
   "source": [
    "def f_int(x,t):\n",
    "    mu = 5\n",
    "    dx = np.array([0,0])\n",
    "    dx[0] = mu*(x[0] - 1/3*x[0]**3 - x[1])\n",
    "    dx[1] = 1/mu*x[0]\n",
    "    return [dx[0], dx[1]]"
   ]
  },
  {
   "cell_type": "code",
   "execution_count": 76,
   "metadata": {},
   "outputs": [
    {
     "name": "stdout",
     "output_type": "stream",
     "text": [
      "[[ 1.          2.        ]\n",
      " [ 0.94        2.        ]\n",
      " [ 0.88        2.        ]\n",
      " ...\n",
      " [-2.31027751  2.        ]\n",
      " [-2.31027751  2.        ]\n",
      " [-2.31027751  2.        ]]\n"
     ]
    },
    {
     "data": {
      "text/plain": [
       "[<matplotlib.lines.Line2D at 0x7fe2b259fa90>,\n",
       " <matplotlib.lines.Line2D at 0x7fe2b259fbe0>]"
      ]
     },
     "execution_count": 76,
     "metadata": {},
     "output_type": "execute_result"
    },
    {
     "data": {
      "image/png": "[encoded data removed]",
      "text/plain": [
       "<matplotlib.figure.Figure at 0x7fe2b25f97f0>"
      ]
     },
     "metadata": {},
     "output_type": "display_data"
    }
   ],
   "source": [
    "t = np.arange(0.0,10.0,.01)\n",
    "y0 = np.array([1.0, 2.0])\n",
    "\n",
    "result = odeint(f_int,y0,t)\n",
    "print(result)\n",
    "plt.plot(result)"
   ]
  },
  {
   "cell_type": "code",
   "execution_count": null,
   "metadata": {},
   "outputs": [],
   "source": []
  },
  {
   "cell_type": "code",
   "execution_count": null,
   "metadata": {},
   "outputs": [],
   "source": []
  }
 ],
 "metadata": {
  "kernelspec": {
   "display_name": "Python 3",
   "language": "python",
   "name": "python3"
  },
  "language_info": {
   "codemirror_mode": {
    "name": "ipython",
    "version": 3
   },
   "file_extension": ".py",
   "mimetype": "text/x-python",
   "name": "python",
   "nbconvert_exporter": "python",
   "pygments_lexer": "ipython3",
   "version": "3.6.5"
  }
 },
 "nbformat": 4,
 "nbformat_minor": 2
}
