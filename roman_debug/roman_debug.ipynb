{
 "cells": [
  {
   "cell_type": "code",
   "execution_count": 2,
   "metadata": {},
   "outputs": [],
   "source": [
    "import pybullet as p\n",
    "import time\n",
    "import pybullet_data\n",
    "import os\n",
    "import sys\n",
    "import numpy as np\n",
    "\n",
    "clientId = p.connect(p.SHARED_MEMORY)\n",
    "\n",
    "if (clientId<0):\n",
    "     clientId= p.connect(p.DIRECT)"
   ]
  },
  {
   "cell_type": "code",
   "execution_count": 24,
   "metadata": {},
   "outputs": [
    {
     "name": "stdout",
     "output_type": "stream",
     "text": [
      "/home/sgillen/miniconda3/envs/sym/lib/python3.6/site-packages/pybullet_data\n",
      "Number of Joints:  8\n",
      "Joint Information:  (1, b'limb1_joint1', 0, 7, 6, 1, 1.0, 10.0, -3.1415, 3.1415, 1000.0, 0.5, b'limb1_link1', (1.0, 0.0, 0.0), (0.17203, 0.0, 0.0), (0.9999999999991198, 0.0, 0.0, -1.3267948966775328e-06), 0)\n"
     ]
    }
   ],
   "source": [
    "p.resetSimulation()\n",
    "p.setGravity(0,0,-10)\n",
    "useRealTimeSim = 1\n",
    "\n",
    "p.setRealTimeSimulation(useRealTimeSim) # either this\n",
    "plane = p.loadURDF(os.path.join(pybullet_data.getDataPath(),\"plane.urdf\"))\n",
    "\n",
    "p.resetSimulation()\n",
    "print(pybullet_data.getDataPath())\n",
    "robotId = p.loadURDF(\"/home/sgillen/work/misc/roman_debug/send_to_sean/robosim_UCSB_no_wheel.urdf\", [0,0,1],flags=8, useFixedBase=1)\n",
    "#rs = p.loadURDF(os.path.join(pybullet_data.getDataPath(),\"robosim_UCSB.urdf\", [2,0,1],flags=8, useFixedBase=1))\n",
    "\n",
    "print(\"Number of Joints: \", p.getNumJoints(bodyUniqueId=robotId, physicsClientId=clientId))\n",
    "print(\"Joint Information: \", p.getJointInfo(bodyUniqueId=robotId,jointIndex=1, physicsClientId=clientId))\n",
    "p.setJointMotorControl2(bodyUniqueId=robotId, jointIndex=1, controlMode=p.POSITION_CONTROL, targetPosition= 0.1, force=200)\n",
    "targetPositionXYZ = [1.0, 2.0, 3.0]\n",
    "targetJointPositions = p.calculateInverseKinematics2(bodyUniqueId=robotId, endEffectorLinkIndices=[1],targetPositions=[targetPositionXYZ])\n",
    "\n",
    "#targetJointPositions = p.calculateInverseKinematics(robotId, 0, targetPositionXYZ)\n",
    "\n",
    "\n"
   ]
  },
  {
   "cell_type": "code",
   "execution_count": 27,
   "metadata": {},
   "outputs": [
    {
     "ename": "error",
     "evalue": "number of target positions should match the number of joint indices",
     "output_type": "error",
     "traceback": [
      "\u001b[0;31m---------------------------------------------------------------------------\u001b[0m",
      "\u001b[0;31merror\u001b[0m                                     Traceback (most recent call last)",
      "\u001b[0;32m<ipython-input-27-99f309417ab4>\u001b[0m in \u001b[0;36m<module>\u001b[0;34m\u001b[0m\n\u001b[0;32m----> 1\u001b[0;31m \u001b[0mp\u001b[0m\u001b[0;34m.\u001b[0m\u001b[0msetJointMotorControlArray\u001b[0m\u001b[0;34m(\u001b[0m\u001b[0mbodyIndex\u001b[0m \u001b[0;34m=\u001b[0m \u001b[0mrobotId\u001b[0m\u001b[0;34m,\u001b[0m \u001b[0mjointIndices\u001b[0m\u001b[0;34m=\u001b[0m\u001b[0;34m[\u001b[0m\u001b[0;36m0\u001b[0m\u001b[0;34m,\u001b[0m \u001b[0;36m1\u001b[0m\u001b[0;34m,\u001b[0m \u001b[0;36m2\u001b[0m\u001b[0;34m,\u001b[0m \u001b[0;36m3\u001b[0m\u001b[0;34m,\u001b[0m \u001b[0;36m4\u001b[0m\u001b[0;34m,\u001b[0m \u001b[0;36m5\u001b[0m\u001b[0;34m,\u001b[0m \u001b[0;36m6\u001b[0m\u001b[0;34m,\u001b[0m \u001b[0;36m7\u001b[0m\u001b[0;34m]\u001b[0m\u001b[0;34m,\u001b[0m \u001b[0mcontrolMode\u001b[0m\u001b[0;34m=\u001b[0m\u001b[0mp\u001b[0m\u001b[0;34m.\u001b[0m\u001b[0mPOSITION_CONTROL\u001b[0m\u001b[0;34m,\u001b[0m \u001b[0mtargetPositions\u001b[0m\u001b[0;34m=\u001b[0m\u001b[0mtargetJointPositions\u001b[0m\u001b[0;34m)\u001b[0m\u001b[0;34m\u001b[0m\u001b[0;34m\u001b[0m\u001b[0m\n\u001b[0m\u001b[1;32m      2\u001b[0m \u001b[0;34m\u001b[0m\u001b[0m\n\u001b[1;32m      3\u001b[0m \u001b[0;31m#[1,2,3,4,5,6,7,8]\u001b[0m\u001b[0;34m\u001b[0m\u001b[0;34m\u001b[0m\u001b[0;34m\u001b[0m\u001b[0m\n\u001b[1;32m      4\u001b[0m \u001b[0;34m\u001b[0m\u001b[0m\n\u001b[1;32m      5\u001b[0m \u001b[0;32mwhile\u001b[0m\u001b[0;34m(\u001b[0m\u001b[0;32mTrue\u001b[0m\u001b[0;34m)\u001b[0m\u001b[0;34m:\u001b[0m\u001b[0;34m\u001b[0m\u001b[0;34m\u001b[0m\u001b[0m\n",
      "\u001b[0;31merror\u001b[0m: number of target positions should match the number of joint indices"
     ]
    }
   ],
   "source": [
    "p.setJointMotorControlArray(bodyIndex = robotId, jointIndices=[0, 1, 2, 3, 4, 5, 6, 7], controlMode=p.POSITION_CONTROL, targetPositions=targetJointPositions)\n",
    "\n",
    "#[1,2,3,4,5,6,7,8]\n",
    "\n",
    "while(True):\n",
    "    dummy_var=1\n",
    "    #print(\"Joint Information: \", p.getJointInfo(bodyUniqueId=robotId,jointIndex=1, physicsClientId=clientId))\n",
    "    "
   ]
  },
  {
   "cell_type": "code",
   "execution_count": null,
   "metadata": {},
   "outputs": [],
   "source": []
  }
 ],
 "metadata": {
  "kernelspec": {
   "display_name": "Symmetric RL (3.6)",
   "language": "python",
   "name": "sym"
  },
  "language_info": {
   "codemirror_mode": {
    "name": "ipython",
    "version": 3
   },
   "file_extension": ".py",
   "mimetype": "text/x-python",
   "name": "python",
   "nbconvert_exporter": "python",
   "pygments_lexer": "ipython3",
   "version": "3.6.9"
  }
 },
 "nbformat": 4,
 "nbformat_minor": 4
}
