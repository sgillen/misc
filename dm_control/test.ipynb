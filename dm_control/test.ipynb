{
 "cells": [
  {
   "cell_type": "code",
   "execution_count": null,
   "metadata": {},
   "outputs": [],
   "source": [
    "#import glfw\n",
    "#assert glfw.init()\n",
    "\n",
    "from dm_control import suite\n",
    "import numpy as np\n",
    "\n",
    "\n",
    "\n",
    "# Load one task:\n",
    "env = suite.load(domain_name=\"cartpole\", task_name=\"swingup\")\n",
    "\n",
    "# Iterate over a task set:\n",
    "for domain_name, task_name in suite.BENCHMARKING:\n",
    "    env = suite.load(domain_name, task_name)\n",
    "\n",
    "# Step through an episode and print out reward, discount and observation.\n",
    "action_spec = env.action_spec()\n",
    "time_step = env.reset()\n",
    "while not time_step.last():\n",
    "    action = np.random.uniform(action_spec.minimum,\n",
    "                             action_spec.maximum,\n",
    "                             size=action_spec.shape)\n",
    "    time_step = env.step(action)\n",
    "    #print(time_step.reward, time_step.discount, time_step.observation)\n",
    "env.\n"
   ]
  },
  {
   "cell_type": "code",
   "execution_count": null,
   "metadata": {},
   "outputs": [],
   "source": []
  }
 ],
 "metadata": {
  "kernelspec": {
   "display_name": "Python [default]",
   "language": "python",
   "name": "python3"
  },
  "language_info": {
   "codemirror_mode": {
    "name": "ipython",
    "version": 3
   },
   "file_extension": ".py",
   "mimetype": "text/x-python",
   "name": "python",
   "nbconvert_exporter": "python",
   "pygments_lexer": "ipython3",
   "version": "3.6.3"
  }
 },
 "nbformat": 4,
 "nbformat_minor": 2
}
