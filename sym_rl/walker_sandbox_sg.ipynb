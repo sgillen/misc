{
 "cells": [
  {
   "cell_type": "code",
   "execution_count": 4,
   "metadata": {},
   "outputs": [
    {
     "ename": "UnregisteredEnv",
     "evalue": "No registered env with id: Walker2dBulletEnv-v0",
     "output_type": "error",
     "traceback": [
      "\u001b[0;31m---------------------------------------------------------------------------\u001b[0m",
      "\u001b[0;31mKeyError\u001b[0m                                  Traceback (most recent call last)",
      "\u001b[0;32m~/miniconda3/envs/sym/lib/python3.6/site-packages/gym/envs/registration.py\u001b[0m in \u001b[0;36mspec\u001b[0;34m(self, path)\u001b[0m\n\u001b[1;32m    131\u001b[0m         \u001b[0;32mtry\u001b[0m\u001b[0;34m:\u001b[0m\u001b[0;34m\u001b[0m\u001b[0;34m\u001b[0m\u001b[0m\n\u001b[0;32m--> 132\u001b[0;31m             \u001b[0;32mreturn\u001b[0m \u001b[0mself\u001b[0m\u001b[0;34m.\u001b[0m\u001b[0menv_specs\u001b[0m\u001b[0;34m[\u001b[0m\u001b[0mid\u001b[0m\u001b[0;34m]\u001b[0m\u001b[0;34m\u001b[0m\u001b[0;34m\u001b[0m\u001b[0m\n\u001b[0m\u001b[1;32m    133\u001b[0m         \u001b[0;32mexcept\u001b[0m \u001b[0mKeyError\u001b[0m\u001b[0;34m:\u001b[0m\u001b[0;34m\u001b[0m\u001b[0;34m\u001b[0m\u001b[0m\n",
      "\u001b[0;31mKeyError\u001b[0m: 'Walker2dBulletEnv-v0'",
      "\nDuring handling of the above exception, another exception occurred:\n",
      "\u001b[0;31mUnregisteredEnv\u001b[0m                           Traceback (most recent call last)",
      "\u001b[0;32m<ipython-input-4-31cf47f50ee3>\u001b[0m in \u001b[0;36m<module>\u001b[0;34m\u001b[0m\n\u001b[1;32m      9\u001b[0m \u001b[0;34m\u001b[0m\u001b[0m\n\u001b[1;32m     10\u001b[0m \u001b[0;31m#env = gym.make('HumanoidBulletEnv-v0')\u001b[0m\u001b[0;34m\u001b[0m\u001b[0;34m\u001b[0m\u001b[0;34m\u001b[0m\u001b[0m\n\u001b[0;32m---> 11\u001b[0;31m \u001b[0menv\u001b[0m \u001b[0;34m=\u001b[0m \u001b[0mgym\u001b[0m\u001b[0;34m.\u001b[0m\u001b[0mmake\u001b[0m\u001b[0;34m(\u001b[0m\u001b[0;34m\"Walker2dBulletEnv-v0\"\u001b[0m\u001b[0;34m)\u001b[0m\u001b[0;34m\u001b[0m\u001b[0;34m\u001b[0m\u001b[0m\n\u001b[0m\u001b[1;32m     12\u001b[0m \u001b[0;31m#env.render(mode=\"human\")\u001b[0m\u001b[0;34m\u001b[0m\u001b[0;34m\u001b[0m\u001b[0;34m\u001b[0m\u001b[0m\n\u001b[1;32m     13\u001b[0m \u001b[0mobs\u001b[0m \u001b[0;34m=\u001b[0m \u001b[0menv\u001b[0m\u001b[0;34m.\u001b[0m\u001b[0mreset\u001b[0m\u001b[0;34m(\u001b[0m\u001b[0;34m)\u001b[0m\u001b[0;34m\u001b[0m\u001b[0;34m\u001b[0m\u001b[0m\n",
      "\u001b[0;32m~/miniconda3/envs/sym/lib/python3.6/site-packages/gym/envs/registration.py\u001b[0m in \u001b[0;36mmake\u001b[0;34m(id, **kwargs)\u001b[0m\n\u001b[1;32m    154\u001b[0m \u001b[0;34m\u001b[0m\u001b[0m\n\u001b[1;32m    155\u001b[0m \u001b[0;32mdef\u001b[0m \u001b[0mmake\u001b[0m\u001b[0;34m(\u001b[0m\u001b[0mid\u001b[0m\u001b[0;34m,\u001b[0m \u001b[0;34m**\u001b[0m\u001b[0mkwargs\u001b[0m\u001b[0;34m)\u001b[0m\u001b[0;34m:\u001b[0m\u001b[0;34m\u001b[0m\u001b[0;34m\u001b[0m\u001b[0m\n\u001b[0;32m--> 156\u001b[0;31m     \u001b[0;32mreturn\u001b[0m \u001b[0mregistry\u001b[0m\u001b[0;34m.\u001b[0m\u001b[0mmake\u001b[0m\u001b[0;34m(\u001b[0m\u001b[0mid\u001b[0m\u001b[0;34m,\u001b[0m \u001b[0;34m**\u001b[0m\u001b[0mkwargs\u001b[0m\u001b[0;34m)\u001b[0m\u001b[0;34m\u001b[0m\u001b[0;34m\u001b[0m\u001b[0m\n\u001b[0m\u001b[1;32m    157\u001b[0m \u001b[0;34m\u001b[0m\u001b[0m\n\u001b[1;32m    158\u001b[0m \u001b[0;32mdef\u001b[0m \u001b[0mspec\u001b[0m\u001b[0;34m(\u001b[0m\u001b[0mid\u001b[0m\u001b[0;34m)\u001b[0m\u001b[0;34m:\u001b[0m\u001b[0;34m\u001b[0m\u001b[0;34m\u001b[0m\u001b[0m\n",
      "\u001b[0;32m~/miniconda3/envs/sym/lib/python3.6/site-packages/gym/envs/registration.py\u001b[0m in \u001b[0;36mmake\u001b[0;34m(self, path, **kwargs)\u001b[0m\n\u001b[1;32m     98\u001b[0m         \u001b[0;32melse\u001b[0m\u001b[0;34m:\u001b[0m\u001b[0;34m\u001b[0m\u001b[0;34m\u001b[0m\u001b[0m\n\u001b[1;32m     99\u001b[0m             \u001b[0mlogger\u001b[0m\u001b[0;34m.\u001b[0m\u001b[0minfo\u001b[0m\u001b[0;34m(\u001b[0m\u001b[0;34m'Making new env: %s'\u001b[0m\u001b[0;34m,\u001b[0m \u001b[0mpath\u001b[0m\u001b[0;34m)\u001b[0m\u001b[0;34m\u001b[0m\u001b[0;34m\u001b[0m\u001b[0m\n\u001b[0;32m--> 100\u001b[0;31m         \u001b[0mspec\u001b[0m \u001b[0;34m=\u001b[0m \u001b[0mself\u001b[0m\u001b[0;34m.\u001b[0m\u001b[0mspec\u001b[0m\u001b[0;34m(\u001b[0m\u001b[0mpath\u001b[0m\u001b[0;34m)\u001b[0m\u001b[0;34m\u001b[0m\u001b[0;34m\u001b[0m\u001b[0m\n\u001b[0m\u001b[1;32m    101\u001b[0m         \u001b[0menv\u001b[0m \u001b[0;34m=\u001b[0m \u001b[0mspec\u001b[0m\u001b[0;34m.\u001b[0m\u001b[0mmake\u001b[0m\u001b[0;34m(\u001b[0m\u001b[0;34m**\u001b[0m\u001b[0mkwargs\u001b[0m\u001b[0;34m)\u001b[0m\u001b[0;34m\u001b[0m\u001b[0;34m\u001b[0m\u001b[0m\n\u001b[1;32m    102\u001b[0m         \u001b[0;31m# We used to have people override _reset/_step rather than\u001b[0m\u001b[0;34m\u001b[0m\u001b[0;34m\u001b[0m\u001b[0;34m\u001b[0m\u001b[0m\n",
      "\u001b[0;32m~/miniconda3/envs/sym/lib/python3.6/site-packages/gym/envs/registration.py\u001b[0m in \u001b[0;36mspec\u001b[0;34m(self, path)\u001b[0m\n\u001b[1;32m    140\u001b[0m                 \u001b[0;32mraise\u001b[0m \u001b[0merror\u001b[0m\u001b[0;34m.\u001b[0m\u001b[0mDeprecatedEnv\u001b[0m\u001b[0;34m(\u001b[0m\u001b[0;34m'Env {} not found (valid versions include {})'\u001b[0m\u001b[0;34m.\u001b[0m\u001b[0mformat\u001b[0m\u001b[0;34m(\u001b[0m\u001b[0mid\u001b[0m\u001b[0;34m,\u001b[0m \u001b[0mmatching_envs\u001b[0m\u001b[0;34m)\u001b[0m\u001b[0;34m)\u001b[0m\u001b[0;34m\u001b[0m\u001b[0;34m\u001b[0m\u001b[0m\n\u001b[1;32m    141\u001b[0m             \u001b[0;32melse\u001b[0m\u001b[0;34m:\u001b[0m\u001b[0;34m\u001b[0m\u001b[0;34m\u001b[0m\u001b[0m\n\u001b[0;32m--> 142\u001b[0;31m                 \u001b[0;32mraise\u001b[0m \u001b[0merror\u001b[0m\u001b[0;34m.\u001b[0m\u001b[0mUnregisteredEnv\u001b[0m\u001b[0;34m(\u001b[0m\u001b[0;34m'No registered env with id: {}'\u001b[0m\u001b[0;34m.\u001b[0m\u001b[0mformat\u001b[0m\u001b[0;34m(\u001b[0m\u001b[0mid\u001b[0m\u001b[0;34m)\u001b[0m\u001b[0;34m)\u001b[0m\u001b[0;34m\u001b[0m\u001b[0;34m\u001b[0m\u001b[0m\n\u001b[0m\u001b[1;32m    143\u001b[0m \u001b[0;34m\u001b[0m\u001b[0m\n\u001b[1;32m    144\u001b[0m     \u001b[0;32mdef\u001b[0m \u001b[0mregister\u001b[0m\u001b[0;34m(\u001b[0m\u001b[0mself\u001b[0m\u001b[0;34m,\u001b[0m \u001b[0mid\u001b[0m\u001b[0;34m,\u001b[0m \u001b[0;34m**\u001b[0m\u001b[0mkwargs\u001b[0m\u001b[0;34m)\u001b[0m\u001b[0;34m:\u001b[0m\u001b[0;34m\u001b[0m\u001b[0;34m\u001b[0m\u001b[0m\n",
      "\u001b[0;31mUnregisteredEnv\u001b[0m: No registered env with id: Walker2dBulletEnv-v0"
     ]
    }
   ],
   "source": [
    "# Notebook for noodling with the bullet gym walker environments\n",
    "# Implementation: https://github.com/bulletphysics/bullet3/blob/master/examples/pybullet/gym/pybullet_envs/robot_locomotors.py\n",
    "\n",
    "import pybullet\n",
    "import pybullet_envs\n",
    "import gym\n",
    "import numpy as np\n",
    "import matplotlib.pyplot as plt\n",
    "\n",
    "#env = gym.make('HumanoidBulletEnv-v0')\n",
    "env = gym.make(\"Walker2dBulletEnv-v0\")\n",
    "#env.render(mode=\"human\")\n",
    "obs = env.reset()\n",
    "base_env = env.unwrapped"
   ]
  },
  {
   "cell_type": "code",
   "execution_count": 2,
   "metadata": {},
   "outputs": [
    {
     "name": "stdout",
     "output_type": "stream",
     "text": [
      "Before Mirror\n",
      "[-0.00356606 -0.41212827  0.71329635 -0.25810382  0.08629391 -0.35700336]\n",
      "[-1.0204307e-03  0.0000000e+00  1.0000000e+00 -3.1553440e-02\n",
      "  0.0000000e+00 -5.0847944e-02  0.0000000e+00 -5.2675437e-03\n",
      "  9.9104518e-01  1.5494381e-02  1.0206424e+00 -2.4678069e-01\n",
      "  1.5400402e-01  3.1354350e-01  9.5253438e-01 -1.5943551e-01\n",
      "  9.3681628e-01  1.4231138e-01  6.0307670e-02 -1.4122784e-01\n",
      "  0.0000000e+00  0.0000000e+00]\n",
      "After Mirror\n",
      "[-0.00356606 -0.41212827  0.71329635 -0.25810382  0.08629391 -0.35700336]\n",
      "[-1.0204307e-03  0.0000000e+00  1.0000000e+00 -3.1553440e-02\n",
      "  0.0000000e+00 -5.0847944e-02  0.0000000e+00 -5.2675437e-03\n",
      "  9.9104518e-01  1.5494381e-02  1.0206424e+00 -2.4678069e-01\n",
      "  1.5400402e-01  3.1354350e-01  9.5253438e-01 -1.5943551e-01\n",
      "  9.3681628e-01  1.4231138e-01  6.0307670e-02 -1.4122784e-01\n",
      "  0.0000000e+00  0.0000000e+00]\n"
     ]
    },
    {
     "data": {
      "text/plain": [
       "array([], dtype=float64)"
      ]
     },
     "execution_count": 2,
     "metadata": {},
     "output_type": "execute_result"
    }
   ],
   "source": [
    "# The goal here is to find a mirroring function for both our state and action space. \n",
    "# Going to start with the Walker2d environment, though getting a general solution for the pybullet locomotion envs would be ideal\n",
    "\n",
    "def mirror_obs(obs):\n",
    "    return obs\n",
    "\n",
    "def mirror_act(act):\n",
    "    return act\n",
    "\n",
    "# What's actually in each space?\n",
    "## Mujoco's Walker2d has an observation space of Box(17,), But bullet has Box(22,)\n",
    "# from line 75 https://github.com/bulletphysics/bullet3/blob/master/examples/pybullet/gym/pybullet_envs/robot_locomotors.py\n",
    "#\n",
    "# state = np.clip(np.concatenate([more] + [j] + [self.feet_contact]), -5, +5)\n",
    "#\n",
    "#  more = np.array(\n",
    "#        [\n",
    "#            z - self.initial_z,\n",
    "#            np.sin(angle_to_target),\n",
    "#            np.cos(angle_to_target),\n",
    "#            0.3 * vx,\n",
    "#            0.3 * vy,\n",
    "#            0.3 * vz,  # 0.3 is just scaling typical speed into -1..+1, no physical sense here\n",
    "#            r,\n",
    "#            p\n",
    "#        ],\n",
    "# \n",
    "# j is the relative joint positions\n",
    "# j = np.array([j.current_relative_position() for j in self.ordered_joints],\n",
    "#               dtype=np.float32).flatten()\n",
    "#\n",
    "# feet contact just tell us which foot is in contact with the ground\n",
    "# env.robot.feet_contact\n",
    "\n",
    "act = env.action_space.sample()\n",
    "obs, reward, done, _ = env.step(act)\n",
    "\n",
    "print(\"Before Mirror\")\n",
    "print(act)\n",
    "print(obs)\n",
    "env.render()\n",
    "\n",
    "\n",
    "print(\"After Mirror\")\n",
    "m_obs = mirror_obs(obs)\n",
    "m_act = mirror_act(act)\n",
    "print(m_act)\n",
    "print(m_obs)\n",
    "env.render()"
   ]
  },
  {
   "cell_type": "code",
   "execution_count": 25,
   "metadata": {},
   "outputs": [
    {
     "name": "stdout",
     "output_type": "stream",
     "text": [
      "absolute (position, velocity)\n",
      "(1.0, 0.0)\n",
      "(-2.0, 0.0)\n",
      "(0.0, 0.0)\n",
      "(0.0, 0.0)\n",
      "(0.0, 0.0)\n",
      "(0.0, 0.0)\n",
      "\n",
      "\n",
      "relative (position, velocity)\n",
      "(1.763943670796563, 0.0)\n",
      "(-0.527887341593126, 0.0)\n",
      "(0.0, 0.0)\n",
      "(1.0, 0.0)\n",
      "(1.0, 0.0)\n",
      "(0.0, 0.0)\n"
     ]
    },
    {
     "data": {
      "text/plain": [
       "array([], dtype=float64)"
      ]
     },
     "execution_count": 25,
     "metadata": {},
     "output_type": "execute_result"
    }
   ],
   "source": [
    "# mess with the joint angles here\n",
    "\n",
    "\n",
    "# I've only found a way to directly set the absolute angles, the state variables are relative joint angles\n",
    "joint_angles = [1,-2,0,0,0,0]\n",
    "base_env.reset()\n",
    "for j,s in zip(base_env.ordered_joints, joint_angles):\n",
    "    j.reset_position(s,0)\n",
    "\n",
    "print(\"absolute (position, velocity)\")\n",
    "for j,s in zip(base_env.ordered_joints, joint_angles):\n",
    "    print(j.current_position())\n",
    "\n",
    "print(); print();\n",
    "    \n",
    "print(\"relative (position, velocity)\")\n",
    "for j,s in zip(base_env.ordered_joints, joint_angles):\n",
    "    print(j.current_relative_position())\n",
    "    \n",
    "\n",
    "env.render()\n",
    "\n",
    "# we can go through and set the actions like the above, but probably better to use the high level gym interface (see next cell)\n",
    "#joint_torques = [0,0,0,1,0,0]\n",
    "#for j,a in zip(base_env.ordered_joints, joint_torques):\n",
    "#    j.set_motor_torque(a)\n"
   ]
  },
  {
   "cell_type": "code",
   "execution_count": 6,
   "metadata": {},
   "outputs": [
    {
     "data": {
      "text/plain": [
       "[<matplotlib.lines.Line2D at 0x115e2d710>,\n",
       " <matplotlib.lines.Line2D at 0x115e2d860>,\n",
       " <matplotlib.lines.Line2D at 0x115e2d9b0>,\n",
       " <matplotlib.lines.Line2D at 0x115e2db00>,\n",
       " <matplotlib.lines.Line2D at 0x115e2dc50>,\n",
       " <matplotlib.lines.Line2D at 0x115e2dda0>,\n",
       " <matplotlib.lines.Line2D at 0x115e2def0>,\n",
       " <matplotlib.lines.Line2D at 0x115e3a080>,\n",
       " <matplotlib.lines.Line2D at 0x115e3a1d0>,\n",
       " <matplotlib.lines.Line2D at 0x115e3a320>,\n",
       " <matplotlib.lines.Line2D at 0x10f230438>,\n",
       " <matplotlib.lines.Line2D at 0x115e3a588>,\n",
       " <matplotlib.lines.Line2D at 0x115e3a6d8>,\n",
       " <matplotlib.lines.Line2D at 0x115e3a828>,\n",
       " <matplotlib.lines.Line2D at 0x115e3a978>,\n",
       " <matplotlib.lines.Line2D at 0x115e3aac8>,\n",
       " <matplotlib.lines.Line2D at 0x115e3ac18>,\n",
       " <matplotlib.lines.Line2D at 0x115e3ad68>,\n",
       " <matplotlib.lines.Line2D at 0x115e3aeb8>,\n",
       " <matplotlib.lines.Line2D at 0x127545048>,\n",
       " <matplotlib.lines.Line2D at 0x127545198>,\n",
       " <matplotlib.lines.Line2D at 0x1275452e8>]"
      ]
     },
     "execution_count": 6,
     "metadata": {},
     "output_type": "execute_result"
    },
    {
     "data": {
      "image/png": "[encoded data removed]",
      "text/plain": [
       "<Figure size 432x288 with 1 Axes>"
      ]
     },
     "metadata": {
      "needs_background": "light"
     },
     "output_type": "display_data"
    }
   ],
   "source": [
    "# mess with the actions here\n",
    "\n",
    "actions = np.array([0,1,1,0,0,0])\n",
    "\n",
    "state_hist = []\n",
    "action_hist = []\n",
    "\n",
    "env.reset()\n",
    "for _ in range(100):\n",
    "    obs, reward, done, _ = env.step(actions)\n",
    "    state_hist.append(obs)\n",
    "    env.render()\n",
    "    \n",
    "plt.plot(state_hist)\n",
    "    "
   ]
  },
  {
   "cell_type": "code",
   "execution_count": null,
   "metadata": {},
   "outputs": [],
   "source": []
  }
 ],
 "metadata": {
  "kernelspec": {
   "display_name": "Symmetric RL (3.6)",
   "language": "python",
   "name": "sym"
  },
  "language_info": {
   "codemirror_mode": {
    "name": "ipython",
    "version": 3
   },
   "file_extension": ".py",
   "mimetype": "text/x-python",
   "name": "python",
   "nbconvert_exporter": "python",
   "pygments_lexer": "ipython3",
   "version": "3.6.9"
  }
 },
 "nbformat": 4,
 "nbformat_minor": 4
}
