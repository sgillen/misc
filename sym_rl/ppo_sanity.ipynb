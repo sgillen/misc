{
 "cells": [
  {
   "cell_type": "code",
   "execution_count": 1,
   "metadata": {},
   "outputs": [
    {
     "name": "stderr",
     "output_type": "stream",
     "text": [
      "100%|██████████| 800/800 [17:45<00:00,  1.36s/it]"
     ]
    },
    {
     "name": "stdout",
     "output_type": "stream",
     "text": [
      "tensor(-284.4192)\n"
     ]
    },
    {
     "name": "stderr",
     "output_type": "stream",
     "text": [
      "\n"
     ]
    },
    {
     "data": {
      "image/png": "[encoded data removed]",
      "text/plain": [
       "<Figure size 432x288 with 1 Axes>"
      ]
     },
     "metadata": {
      "needs_background": "light"
     },
     "output_type": "display_data"
    }
   ],
   "source": [
    "import torch.nn as nn\n",
    "from seagul.rl.algos.ppo import ppo\n",
    "from seagul.rl.algos.ppo_sym import ppo_sym\n",
    "from seagul.rl.models import PPOModel\n",
    "from seagul.nn import MLP, CategoricalMLP\n",
    "import torch\n",
    "import gym\n",
    "\n",
    "import matplotlib.pyplot as plt\n",
    "%matplotlib inline\n",
    "import seagul.envs\n",
    "\n",
    "torch.set_default_dtype(torch.double)\n",
    "env_name= \"Pendulum-v0\"\n",
    "\n",
    "input_size = 3\n",
    "output_size = 1\n",
    "layer_size = 12\n",
    "num_layers = 2\n",
    "activation = nn.ReLU\n",
    "\n",
    "policy = MLP(input_size, output_size, num_layers, layer_size, activation)\n",
    "value_fn = MLP(input_size, 1, num_layers, layer_size, activation)\n",
    "model = PPOModel(policy, value_fn, action_var=.7, discrete=False)\n",
    "\n",
    "# env2, t_policy, t_val, rewards = ppo('InvertedPendulum-v2', 100, policy, value_fn)\n",
    "t_model, rewards, var_dict = ppo_sym(env_name, \n",
    "                                800, \n",
    "                                model, \n",
    "                                action_var_schedule = [.5],\n",
    "                                env_timesteps = 200,\n",
    "                                epoch_batch_size=1024,\n",
    "                                gamma=0.99,\n",
    "                                lam=0.99,\n",
    "                                eps=0.2,\n",
    "                                seed=0,\n",
    "                                policy_batch_size=512,\n",
    "                                value_batch_size=512,\n",
    "                                policy_lr=1e-4,\n",
    "                                value_lr=1e-3,\n",
    "                                p_epochs=10,\n",
    "                                v_epochs=10,\n",
    "                                use_gpu=False,\n",
    "                                reward_stop=None)\n",
    "#print(rewards)\n",
    "plt.plot(rewards)\n",
    "\n",
    "locals().update(var_dict)"
   ]
  },
  {
   "cell_type": "code",
   "execution_count": 1,
   "metadata": {},
   "outputs": [
    {
     "name": "stderr",
     "output_type": "stream",
     "text": [
      " 22%|██▏       | 130200/600000.0 [03:37<13:02, 600.13it/s]"
     ]
    },
    {
     "ename": "KeyboardInterrupt",
     "evalue": "",
     "output_type": "error",
     "traceback": [
      "\u001b[0;31m---------------------------------------------------------------------------\u001b[0m",
      "\u001b[0;31mKeyboardInterrupt\u001b[0m                         Traceback (most recent call last)",
      "\u001b[0;32m<ipython-input-1-41f03d78a473>\u001b[0m in \u001b[0;36m<module>\u001b[0;34m\u001b[0m\n\u001b[1;32m     41\u001b[0m                                 \u001b[0mv_epochs\u001b[0m\u001b[0;34m=\u001b[0m\u001b[0;36m32\u001b[0m\u001b[0;34m,\u001b[0m\u001b[0;34m\u001b[0m\u001b[0;34m\u001b[0m\u001b[0m\n\u001b[1;32m     42\u001b[0m                                 \u001b[0muse_gpu\u001b[0m\u001b[0;34m=\u001b[0m\u001b[0;32mFalse\u001b[0m\u001b[0;34m,\u001b[0m\u001b[0;34m\u001b[0m\u001b[0;34m\u001b[0m\u001b[0m\n\u001b[0;32m---> 43\u001b[0;31m                                 reward_stop=None)\n\u001b[0m\u001b[1;32m     44\u001b[0m \u001b[0mprint\u001b[0m\u001b[0;34m(\u001b[0m\u001b[0mrewards\u001b[0m\u001b[0;34m[\u001b[0m\u001b[0;34m-\u001b[0m\u001b[0;36m1\u001b[0m\u001b[0;34m]\u001b[0m\u001b[0;34m)\u001b[0m\u001b[0;34m\u001b[0m\u001b[0;34m\u001b[0m\u001b[0m\n\u001b[1;32m     45\u001b[0m \u001b[0mplt\u001b[0m\u001b[0;34m.\u001b[0m\u001b[0mplot\u001b[0m\u001b[0;34m(\u001b[0m\u001b[0mrewards\u001b[0m\u001b[0;34m)\u001b[0m\u001b[0;34m\u001b[0m\u001b[0;34m\u001b[0m\u001b[0m\n",
      "\u001b[0;32m~/work/seagul/seagul/rl/algos/ppo2.py\u001b[0m in \u001b[0;36mppo\u001b[0;34m(env_name, total_steps, model, act_var_schedule, epoch_batch_size, gamma, lam, eps, seed, policy_batch_size, value_batch_size, policy_lr, value_lr, p_epochs, v_epochs, use_gpu, reward_stop)\u001b[0m\n\u001b[1;32m    193\u001b[0m                         \u001b[0;31m# do the normal pytorch update\u001b[0m\u001b[0;34m\u001b[0m\u001b[0;34m\u001b[0m\u001b[0;34m\u001b[0m\u001b[0m\n\u001b[1;32m    194\u001b[0m                         \u001b[0mpolicy_opt\u001b[0m\u001b[0;34m.\u001b[0m\u001b[0mzero_grad\u001b[0m\u001b[0;34m(\u001b[0m\u001b[0;34m)\u001b[0m\u001b[0;34m\u001b[0m\u001b[0;34m\u001b[0m\u001b[0m\n\u001b[0;32m--> 195\u001b[0;31m                         \u001b[0mp_loss\u001b[0m\u001b[0;34m.\u001b[0m\u001b[0mbackward\u001b[0m\u001b[0;34m(\u001b[0m\u001b[0;34m)\u001b[0m\u001b[0;34m\u001b[0m\u001b[0;34m\u001b[0m\u001b[0m\n\u001b[0m\u001b[1;32m    196\u001b[0m                         \u001b[0mpolicy_opt\u001b[0m\u001b[0;34m.\u001b[0m\u001b[0mstep\u001b[0m\u001b[0;34m(\u001b[0m\u001b[0;34m)\u001b[0m\u001b[0;34m\u001b[0m\u001b[0;34m\u001b[0m\u001b[0m\n\u001b[1;32m    197\u001b[0m \u001b[0;34m\u001b[0m\u001b[0m\n",
      "\u001b[0;32m~/miniconda3/envs/sym/lib/python3.6/site-packages/torch/tensor.py\u001b[0m in \u001b[0;36mbackward\u001b[0;34m(self, gradient, retain_graph, create_graph)\u001b[0m\n\u001b[1;32m    116\u001b[0m                 \u001b[0mproducts\u001b[0m\u001b[0;34m.\u001b[0m \u001b[0mDefaults\u001b[0m \u001b[0mto\u001b[0m\u001b[0;31m \u001b[0m\u001b[0;31m`\u001b[0m\u001b[0;31m`\u001b[0m\u001b[0;32mFalse\u001b[0m\u001b[0;31m`\u001b[0m\u001b[0;31m`\u001b[0m\u001b[0;34m.\u001b[0m\u001b[0;34m\u001b[0m\u001b[0;34m\u001b[0m\u001b[0m\n\u001b[1;32m    117\u001b[0m         \"\"\"\n\u001b[0;32m--> 118\u001b[0;31m         \u001b[0mtorch\u001b[0m\u001b[0;34m.\u001b[0m\u001b[0mautograd\u001b[0m\u001b[0;34m.\u001b[0m\u001b[0mbackward\u001b[0m\u001b[0;34m(\u001b[0m\u001b[0mself\u001b[0m\u001b[0;34m,\u001b[0m \u001b[0mgradient\u001b[0m\u001b[0;34m,\u001b[0m \u001b[0mretain_graph\u001b[0m\u001b[0;34m,\u001b[0m \u001b[0mcreate_graph\u001b[0m\u001b[0;34m)\u001b[0m\u001b[0;34m\u001b[0m\u001b[0;34m\u001b[0m\u001b[0m\n\u001b[0m\u001b[1;32m    119\u001b[0m \u001b[0;34m\u001b[0m\u001b[0m\n\u001b[1;32m    120\u001b[0m     \u001b[0;32mdef\u001b[0m \u001b[0mregister_hook\u001b[0m\u001b[0;34m(\u001b[0m\u001b[0mself\u001b[0m\u001b[0;34m,\u001b[0m \u001b[0mhook\u001b[0m\u001b[0;34m)\u001b[0m\u001b[0;34m:\u001b[0m\u001b[0;34m\u001b[0m\u001b[0;34m\u001b[0m\u001b[0m\n",
      "\u001b[0;32m~/miniconda3/envs/sym/lib/python3.6/site-packages/torch/autograd/__init__.py\u001b[0m in \u001b[0;36mbackward\u001b[0;34m(tensors, grad_tensors, retain_graph, create_graph, grad_variables)\u001b[0m\n\u001b[1;32m     91\u001b[0m     Variable._execution_engine.run_backward(\n\u001b[1;32m     92\u001b[0m         \u001b[0mtensors\u001b[0m\u001b[0;34m,\u001b[0m \u001b[0mgrad_tensors\u001b[0m\u001b[0;34m,\u001b[0m \u001b[0mretain_graph\u001b[0m\u001b[0;34m,\u001b[0m \u001b[0mcreate_graph\u001b[0m\u001b[0;34m,\u001b[0m\u001b[0;34m\u001b[0m\u001b[0;34m\u001b[0m\u001b[0m\n\u001b[0;32m---> 93\u001b[0;31m         allow_unreachable=True)  # allow_unreachable flag\n\u001b[0m\u001b[1;32m     94\u001b[0m \u001b[0;34m\u001b[0m\u001b[0m\n\u001b[1;32m     95\u001b[0m \u001b[0;34m\u001b[0m\u001b[0m\n",
      "\u001b[0;31mKeyboardInterrupt\u001b[0m: "
     ]
    }
   ],
   "source": [
    "import torch.nn as nn\n",
    "from seagul.rl.algos.ppo2 import ppo\n",
    "from seagul.rl.models import PPOModel\n",
    "from seagul.nn import MLP, CategoricalMLP\n",
    "import torch\n",
    "import gym\n",
    "\n",
    "\n",
    "import matplotlib.pyplot as plt\n",
    "%matplotlib inline\n",
    "import seagul.envs\n",
    "\n",
    "torch.set_default_dtype(torch.double)\n",
    "env_name= \"Pendulum-v0\"\n",
    "\n",
    "input_size = 3\n",
    "output_size = 1\n",
    "layer_size = 12\n",
    "num_layers = 2\n",
    "activation = nn.ReLU\n",
    "\n",
    "policy = MLP(input_size, output_size, num_layers, layer_size, activation)\n",
    "value_fn = MLP(input_size, 1, num_layers, layer_size, activation)\n",
    "model = PPOModel(policy, value_fn, action_var=.7, discrete=False)\n",
    "\n",
    "# env2, t_policy, t_val, rewards = ppo('InvertedPendulum-v2', 100, policy, value_fn)\n",
    "t_model, rewards, var_dict = ppo(env_name, \n",
    "                                6e5, \n",
    "                                model, \n",
    "                                act_var_schedule = [.7],\n",
    "                                epoch_batch_size=512,\n",
    "                                gamma=0.99,\n",
    "                                lam=0.99,\n",
    "                                eps=0.2,\n",
    "                                seed=0,\n",
    "                                policy_batch_size=512,\n",
    "                                value_batch_size=512,\n",
    "                                policy_lr=1e-4,\n",
    "                                value_lr=1e-3,\n",
    "                                p_epochs=32,\n",
    "                                v_epochs=32,\n",
    "                                use_gpu=False,\n",
    "                                reward_stop=None)\n",
    "print(rewards[-1])\n",
    "plt.plot(rewards)\n",
    "\n",
    "locals().update(var_dict)\n"
   ]
  },
  {
   "cell_type": "code",
   "execution_count": null,
   "metadata": {},
   "outputs": [],
   "source": [
    "env = gym.make(env_name)\n",
    "\n",
    "done = False\n",
    "obs = env.reset()\n",
    "\n",
    "obs_list = []\n",
    "act_list = []\n",
    "rew_list = []\n",
    "avg_list = []\n",
    "val_list = []\n",
    "\n",
    "while not done:\n",
    "    act, val, _ ,_ = model.step(obs)\n",
    "    obs,rew,done,_ = env.step(act.reshape(-1))\n",
    "    avg = model.policy(torch.as_tensor(obs))\n",
    "    \n",
    "    obs_list.append(obs)\n",
    "    act_list.append(act)\n",
    "    rew_list.append(rew)\n",
    "    avg_list.append(avg)\n",
    "    val_list.append(val)\n",
    "    \n",
    "plt.plot(obs_list)\n",
    "plt.figure()\n",
    "plt.plot(act_list)\n",
    "plt.figure()\n",
    "plt.plot(rew_list)\n",
    "plt.figure()\n",
    "plt.plot(val_list)\n",
    "plt.figure()\n",
    "plt.plot(avg_list)\n",
    "    "
   ]
  },
  {
   "cell_type": "code",
   "execution_count": null,
   "metadata": {},
   "outputs": [],
   "source": [
    "plt.plot(p_loss_hist)"
   ]
  },
  {
   "cell_type": "code",
   "execution_count": null,
   "metadata": {},
   "outputs": [],
   "source": [
    "plt.plot(v_loss_hist)"
   ]
  },
  {
   "cell_type": "code",
   "execution_count": null,
   "metadata": {},
   "outputs": [],
   "source": []
  },
  {
   "cell_type": "code",
   "execution_count": null,
   "metadata": {},
   "outputs": [],
   "source": []
  }
 ],
 "metadata": {
  "kernelspec": {
   "display_name": "Symmetric RL (3.6)",
   "language": "python",
   "name": "sym"
  },
  "language_info": {
   "codemirror_mode": {
    "name": "ipython",
    "version": 3
   },
   "file_extension": ".py",
   "mimetype": "text/x-python",
   "name": "python",
   "nbconvert_exporter": "python",
   "pygments_lexer": "ipython3",
   "version": "3.6.9"
  }
 },
 "nbformat": 4,
 "nbformat_minor": 4
}
