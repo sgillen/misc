{
 "cells": [
  {
   "cell_type": "code",
   "execution_count": 1,
   "metadata": {},
   "outputs": [],
   "source": [
    "import torch\n",
    "import torch.nn as nn\n",
    "from torch.autograd import Variable\n",
    "from torch.nn.parameter import Parameter\n",
    "\n",
    "class RNNCell(nn.Module):\n",
    "    \n",
    "    def __init__(self, input_size, hidden_size):\n",
    "        super().__init__()\n",
    "        self.W = Parameter(torch.Tensor(hidden_size,input_size))\n",
    "        self.U = Parameter(torch.Tensor(hidden_size,hidden_size))\n",
    "        self.b = Parameter(torch.Tensor(hidden_size))\n",
    "    \n",
    "    def forward(self, x , hidden):\n",
    "        return torch.tanh(x.matmul(self.W.t()) + hidden.matmul(self.U.t()) + self.b)\n",
    "\n",
    "\n",
    "    \n",
    "class RNN(nn.Module):\n",
    "    def __init__(self, input_size, hidden_size):\n",
    "        super().__init__()\n",
    "        self.hidden_size = hidden_size\n",
    "        self.input_size = input_size\n",
    "        self.W = Parameter(torch.Tensor(hidden_size))\n",
    "        self.cell = RNNCell(input_size, hidden_size)\n",
    "        \n",
    "    \n",
    "    \n",
    "    def forward(self, input_):\n",
    "        \n",
    "        hidden = torch.randn(self.hidden_size)\n",
    "        outputs = []\n",
    "        \n",
    "        for i in torch.unbind(input_, dim=0):#this could work or could be a terrible mistake\n",
    "            #import ipdb; ipdb.set_trace()\n",
    "            \n",
    "            hidden = self.cell(i, hidden)\n",
    "            outputs.append(hidden.clone())\n",
    "        \n",
    "        \n",
    "        return outputs[-1].matmul(self.W)\n",
    "        #return torch.stack(outputs,dim=0)"
   ]
  },
  {
   "cell_type": "code",
   "execution_count": 2,
   "metadata": {},
   "outputs": [
    {
     "name": "stdout",
     "output_type": "stream",
     "text": [
      "torch.Size([1])\n",
      "torch.Size([10, 1, 16])\n"
     ]
    }
   ],
   "source": [
    "#rnn = RNNCell(4,16)\n",
    "#out = rnn(torch.randn(4), torch.randn(16))\n",
    "\n",
    "rnn = RNN(4,16)\n",
    "out = rnn(torch.randn(10,1,4))\n",
    "pnn = nn.RNN(4,16)\n",
    "pout, _ = pnn(torch.randn(10,1,4))\n",
    "\n",
    "print(out.shape)\n",
    "print(pout.shape)"
   ]
  },
  {
   "cell_type": "code",
   "execution_count": null,
   "metadata": {},
   "outputs": [],
   "source": []
  },
  {
   "cell_type": "code",
   "execution_count": 65,
   "metadata": {},
   "outputs": [
    {
     "name": "stdout",
     "output_type": "stream",
     "text": [
      "tensor([[1.3541, 0.1041, 1.0765, 0.3207]])\n",
      "tensor([[-1.7803,  0.3306, -1.7975,  1.5376]])\n",
      "tensor([[-1.0844, -0.2547,  2.0768, -0.2917]])\n",
      "tensor([[-0.9011, -0.5724, -0.4990, -0.6314]])\n",
      "tensor([[ 1.3021,  0.4176,  1.7057, -2.0591]])\n",
      "tensor([[-0.5537, -0.3709,  0.2508,  1.1543]])\n",
      "tensor([[1.6652, 0.3657, 1.0785, 0.4046]])\n",
      "tensor([[-0.1286,  0.8798, -0.4899,  0.8600]])\n",
      "tensor([[-0.0236,  0.1552, -0.2991, -0.1127]])\n",
      "tensor([[-0.1399, -0.2968, -0.2649, -0.0176]])\n"
     ]
    }
   ],
   "source": [
    "def train(category_tensor, line_tensor):\n",
    "    hidden = rnn.initHidden()\n",
    "\n",
    "    rnn.zero_grad()\n",
    "\n",
    "    for i in range(line_tensor.size()[0]):\n",
    "        output, hidden = rnn(line_tensor[i], hidden)\n",
    "\n",
    "    loss = criterion(output, category_tensor)\n",
    "    loss.backward()\n",
    "\n",
    "    # Add parameters' gradients to their values, multiplied by learning rate\n",
    "    for p in rnn.parameters():\n",
    "        p.data.add_(-learning_rate, p.grad.data)\n",
    "\n",
    "    return output, loss.item()"
   ]
  },
  {
   "cell_type": "code",
   "execution_count": null,
   "metadata": {},
   "outputs": [],
   "source": []
  }
 ],
 "metadata": {
  "kernelspec": {
   "display_name": "Python [conda env:anaconda3]",
   "language": "python",
   "name": "conda-env-anaconda3-py"
  },
  "language_info": {
   "codemirror_mode": {
    "name": "ipython",
    "version": 3
   },
   "file_extension": ".py",
   "mimetype": "text/x-python",
   "name": "python",
   "nbconvert_exporter": "python",
   "pygments_lexer": "ipython3",
   "version": "3.6.7"
  }
 },
 "nbformat": 4,
 "nbformat_minor": 2
}
