{
 "cells": [
  {
   "cell_type": "code",
   "execution_count": 1,
   "metadata": {},
   "outputs": [
    {
     "name": "stderr",
     "output_type": "stream",
     "text": [
      "/home/sgillen/work/seagul/seagul/envs/__init__.py:58: UserWarning: Warning, pybullet envs not installed\n",
      "  warnings.warn(\"Warning, pybullet envs not installed\")\n"
     ]
    }
   ],
   "source": [
    "import torch.nn as nn\n",
    "import numpy as np\n",
    "import gym\n",
    "from seagul.rl.ars.meta_ars import MetaARSAgent\n",
    "import matplotlib.pyplot as plt\n",
    "import torch\n",
    "import dill\n",
    "import seagul.envs\n",
    "import pybullet_envs\n",
    "import pickle\n",
    "from scipy.signal import find_peaks\n",
    "import time\n",
    "\n",
    "%load_ext autoreload\n",
    "%autoreload 2\n",
    "\n",
    "import math"
   ]
  },
  {
   "cell_type": "code",
   "execution_count": 2,
   "metadata": {},
   "outputs": [
    {
     "name": "stderr",
     "output_type": "stream",
     "text": [
      "WARNING: Overriding pythran description with argspec information for: numpy.concatenate\n",
      "WARNING: Overriding pythran description with argspec information for: numpy.empty_like\n"
     ]
    },
    {
     "name": "stdout",
     "output_type": "stream",
     "text": [
      "running build_ext\n"
     ]
    },
    {
     "data": {
      "text/plain": [
       "array([ 1.25289474e+00, -1.59592607e-03,  1.74307434e-03,  3.49746378e-03,\n",
       "       -2.86467675e-03,  2.30503192e-03,  2.29197226e-03, -1.96278838e-03,\n",
       "       -1.17877676e-03,  3.57050515e-03, -7.41898557e-04,  0.00000000e+00])"
      ]
     },
     "execution_count": 2,
     "metadata": {},
     "output_type": "execute_result"
    }
   ],
   "source": [
    "env = gym.make(\"hurdle_hopper-v0\", gap_set = [30])\n",
    "env.reset()"
   ]
  },
  {
   "cell_type": "code",
   "execution_count": 13,
   "metadata": {},
   "outputs": [],
   "source": [
    "#env.unwrapped.slope_set = [.1]\n",
    "env.reset()\n",
    "env.render()\n",
    "#env.viewer_setup()\n",
    "\n",
    "\n",
    "_from = 2050; _to = 2070\n",
    "ncol = env.model.hfield_ncol.item()\n",
    "\n",
    "hurdle_height = .54\n",
    "env.model.hfield_data[_from:_to] = hurdle_height\n",
    "env.model.hfield_data[(ncol+_from):(ncol+_to)] = hurdle_height\n",
    "\n",
    "env.viewer_setup()\n",
    "for i in range(100):\n",
    "    env.render()\n",
    "    time.sleep(.01)\n",
    "    \n"
   ]
  },
  {
   "cell_type": "code",
   "execution_count": null,
   "metadata": {},
   "outputs": [],
   "source": [
    "import math\n",
    "\n",
    "def pos_to_hmap_index(self, cur_pos):\n",
    "    max_pos = self.model.hfield_size[0,0]*2\n",
    "    nrow = self.model.hfield_nrow\n",
    "    ncol = self.model.hfield_ncol\n",
    "    \n",
    "    max_height = self.model.hfield_size[0,2]\n",
    "    init_pos = 80\n",
    "    \n",
    "    index = (init_pos + cur_pos)/max_pos * ncol[0]\n",
    "\n",
    "    return index\n",
    "\n",
    "def float_index_to_height(self, findex):\n",
    "    li = math.floor(findex)\n",
    "    ui = math.ceil(findex)\n",
    "    a = findex - int(findex)\n",
    "    \n",
    "    return (1 - a)*self.model.hfield_data[li] + a*self.model.hfield_data[ui]\n",
    "    \n",
    "\n",
    "env.reset()\n",
    "for i in range(1000):\n",
    "    env.step(env.action_space.sample())\n",
    "    \n",
    "cur_pos = env.unwrapped.sim.data.qpos[1]\n",
    "\n",
    "print(float_index_to_height(env, pos_to_hmap_index(env, cur_pos)))\n",
    "\n",
    "print(float_index_to_height(env, pos_to_hmap_index(env, cur_pos+1)))\n",
    "\n",
    "print(float_index_to_height(env, pos_to_hmap_index(env, cur_pos+2)))"
   ]
  },
  {
   "cell_type": "code",
   "execution_count": 26,
   "metadata": {},
   "outputs": [],
   "source": [
    "env.model.hfield_data[85:67] = 1"
   ]
  },
  {
   "cell_type": "code",
   "execution_count": 17,
   "metadata": {},
   "outputs": [
    {
     "data": {
      "text/plain": [
       "202"
      ]
     },
     "execution_count": 17,
     "metadata": {},
     "output_type": "execute_result"
    }
   ],
   "source": [
    "int(81*(1000/400))"
   ]
  },
  {
   "cell_type": "code",
   "execution_count": 10,
   "metadata": {},
   "outputs": [
    {
     "data": {
      "text/plain": [
       "202.5"
      ]
     },
     "execution_count": 10,
     "metadata": {},
     "output_type": "execute_result"
    }
   ],
   "source": [
    "81*(1000/400)"
   ]
  },
  {
   "cell_type": "code",
   "execution_count": 6,
   "metadata": {},
   "outputs": [
    {
     "data": {
      "text/plain": [
       "2.5"
      ]
     },
     "execution_count": 6,
     "metadata": {},
     "output_type": "execute_result"
    }
   ],
   "source": [
    "1000/400"
   ]
  },
  {
   "cell_type": "code",
   "execution_count": 4,
   "metadata": {},
   "outputs": [
    {
     "data": {
      "text/plain": [
       "\u001b[0;31mSignature:\u001b[0m \u001b[0mnp\u001b[0m\u001b[0;34m.\u001b[0m\u001b[0mclip\u001b[0m\u001b[0;34m(\u001b[0m\u001b[0ma\u001b[0m\u001b[0;34m,\u001b[0m \u001b[0ma_min\u001b[0m\u001b[0;34m,\u001b[0m \u001b[0ma_max\u001b[0m\u001b[0;34m,\u001b[0m \u001b[0mout\u001b[0m\u001b[0;34m=\u001b[0m\u001b[0;32mNone\u001b[0m\u001b[0;34m,\u001b[0m \u001b[0;34m**\u001b[0m\u001b[0mkwargs\u001b[0m\u001b[0;34m)\u001b[0m\u001b[0;34m\u001b[0m\u001b[0;34m\u001b[0m\u001b[0m\n",
       "\u001b[0;31mDocstring:\u001b[0m\n",
       "Clip (limit) the values in an array.\n",
       "\n",
       "Given an interval, values outside the interval are clipped to\n",
       "the interval edges.  For example, if an interval of ``[0, 1]``\n",
       "is specified, values smaller than 0 become 0, and values larger\n",
       "than 1 become 1.\n",
       "\n",
       "Equivalent to but faster than ``np.maximum(a_min, np.minimum(a, a_max))``.\n",
       "No check is performed to ensure ``a_min < a_max``.\n",
       "\n",
       "Parameters\n",
       "----------\n",
       "a : array_like\n",
       "    Array containing elements to clip.\n",
       "a_min : scalar or array_like or `None`\n",
       "    Minimum value. If `None`, clipping is not performed on lower\n",
       "    interval edge. Not more than one of `a_min` and `a_max` may be\n",
       "    `None`.\n",
       "a_max : scalar or array_like or `None`\n",
       "    Maximum value. If `None`, clipping is not performed on upper\n",
       "    interval edge. Not more than one of `a_min` and `a_max` may be\n",
       "    `None`. If `a_min` or `a_max` are array_like, then the three\n",
       "    arrays will be broadcasted to match their shapes.\n",
       "out : ndarray, optional\n",
       "    The results will be placed in this array. It may be the input\n",
       "    array for in-place clipping.  `out` must be of the right shape\n",
       "    to hold the output.  Its type is preserved.\n",
       "**kwargs\n",
       "    For other keyword-only arguments, see the\n",
       "    :ref:`ufunc docs <ufuncs.kwargs>`.\n",
       "\n",
       "    .. versionadded:: 1.17.0\n",
       "\n",
       "Returns\n",
       "-------\n",
       "clipped_array : ndarray\n",
       "    An array with the elements of `a`, but where values\n",
       "    < `a_min` are replaced with `a_min`, and those > `a_max`\n",
       "    with `a_max`.\n",
       "\n",
       "See Also\n",
       "--------\n",
       "numpy.doc.ufuncs : Section \"Output arguments\"\n",
       "\n",
       "Examples\n",
       "--------\n",
       ">>> a = np.arange(10)\n",
       ">>> np.clip(a, 1, 8)\n",
       "array([1, 1, 2, 3, 4, 5, 6, 7, 8, 8])\n",
       ">>> a\n",
       "array([0, 1, 2, 3, 4, 5, 6, 7, 8, 9])\n",
       ">>> np.clip(a, 3, 6, out=a)\n",
       "array([3, 3, 3, 3, 4, 5, 6, 6, 6, 6])\n",
       ">>> a = np.arange(10)\n",
       ">>> a\n",
       "array([0, 1, 2, 3, 4, 5, 6, 7, 8, 9])\n",
       ">>> np.clip(a, [3, 4, 1, 1, 1, 4, 4, 4, 4, 4], 8)\n",
       "array([3, 4, 2, 3, 4, 5, 6, 7, 8, 8])\n",
       "\u001b[0;31mFile:\u001b[0m      ~/miniconda3/envs/baselines/lib/python3.6/site-packages/numpy/core/fromnumeric.py\n",
       "\u001b[0;31mType:\u001b[0m      function\n"
      ]
     },
     "metadata": {},
     "output_type": "display_data"
    }
   ],
   "source": [
    "np.clip?"
   ]
  },
  {
   "cell_type": "code",
   "execution_count": null,
   "metadata": {},
   "outputs": [],
   "source": []
  }
 ],
 "metadata": {
  "kernelspec": {
   "display_name": "Baselines (3.6)",
   "language": "python",
   "name": "baselines"
  },
  "language_info": {
   "codemirror_mode": {
    "name": "ipython",
    "version": 3
   },
   "file_extension": ".py",
   "mimetype": "text/x-python",
   "name": "python",
   "nbconvert_exporter": "python",
   "pygments_lexer": "ipython3",
   "version": "3.6.8"
  }
 },
 "nbformat": 4,
 "nbformat_minor": 4
}
